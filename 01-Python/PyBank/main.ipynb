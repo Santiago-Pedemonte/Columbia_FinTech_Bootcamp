{
 "cells": [
  {
   "cell_type": "code",
   "execution_count": 31,
   "metadata": {},
   "outputs": [
    {
     "name": "stdout",
     "output_type": "stream",
     "text": [
      "Financial Analysis\n",
      "\n",
      "-------------------\n",
      "\n",
      "Total Months: 86\n",
      "\n",
      "Total: $38382578\n",
      "\n",
      "Average Change: $-2315.12\n",
      "Greatest Increase in Profits: Feb-2012 ($1926159.0)\n",
      "Greatest Decrease in Profits: Sep-2013 ($-2196167.0)\n"
     ]
    }
   ],
   "source": [
    "import pandas as pd\n",
    "import requests\n",
    "import io\n",
    "\n",
    "data_url = \"https://raw.githubusercontent.com/Santiago-Pedemonte/python-homework/main/PyBank_resources/budget_data.csv\"\n",
    "download = requests.get(data_url).content\n",
    "pybank_data = pd.read_csv(io.StringIO(download.decode('utf-8'))) #Getting the data from GitHub Repo \"python-homework/PyBank_resources\"\n",
    "shifted_data = pybank_data\n",
    "\n",
    "total_months = pybank_data[\"Date\"].count() #Getting values from main dataframe.\n",
    "total_pnl = pybank_data[\"Profit/Losses\"].sum()\n",
    "\n",
    "shifted_data[\"P/L shifted\"] = pybank_data['Profit/Losses'].shift(1) #Getting shifted dataframe and calculating values for day-to-day P/L.\n",
    "shifted_data[\"P/L change\"] = pybank_data['Profit/Losses'] - shifted_data['P/L shifted']\n",
    "\n",
    "average_change = round(shifted_data[\"P/L change\"].mean(), 2) #Mean value for change in daily P/L.\n",
    "\n",
    "max_poschange = shifted_data[\"P/L change\"].max() #Highest profit amount and date calculation.\n",
    "index_poschange = int(shifted_data[['P/L change']].idxmax())\n",
    "date_poschange = shifted_data.iloc[index_poschange, 0]\n",
    "\n",
    "max_negchange = shifted_data[\"P/L change\"].min() #Largest loss amount and date calculation.\n",
    "index_negchange = int(shifted_data[['P/L change']].idxmin())\n",
    "date_negchange = shifted_data.iloc[index_negchange, 0]\n",
    "\n",
    "#---Creating strings for every output line to make creating text file easier---\n",
    "str1 = \"Financial Analysis\"\n",
    "str2 = \"-------------------\"\n",
    "str3 = str(\"Total Months: \" + str(total_months))\n",
    "str4 = str(\"Total: $\" + str(total_pnl))\n",
    "str5 = str(\"Average Change: $\" + str(average_change))\n",
    "str6 = str(\"Greatest Increase in Profits: \" + date_poschange + \" ($\" + str(max_poschange) + \")\")\n",
    "str7 = str(\"Greatest Decrease in Profits: \" + date_negchange + \" ($\" + str(max_negchange) + \")\")\n",
    "\n",
    "#---Print the output to terminal---\n",
    "print(str1)\n",
    "print(str2)\n",
    "print(str3)\n",
    "print(str4)\n",
    "print(str5)\n",
    "print(str6)\n",
    "print(str7)\n",
    "\n",
    "#---Create the .txt file output---\n",
    "f  = open(\"output.txt\", \"w+\") \n",
    "f.write(\"Financial Analysis\\n\")\n",
    "f.write(\"-------------------\\n\")\n",
    "f.write(str(\"Total Months: \" + str(total_months) + \"\\n\"))\n",
    "f.write(str(\"Total: $\" + str(total_pnl) + \"\\n\"))\n",
    "f.write(str(\"Average Change: $\" + str(average_change) + \"\\n\"))\n",
    "f.write(str(\"Greatest Increase in Profits: \" + date_poschange + \" ($\" + str(max_poschange) + \")\" + \"\\n\"))\n",
    "f.write(str(\"Greatest Decrease in Profits: \" + date_negchange + \" ($\" + str(max_negchange) + \")\" + \"\\n\"))\n",
    "f.close()"
   ]
  },
  {
   "cell_type": "code",
   "execution_count": null,
   "metadata": {},
   "outputs": [],
   "source": []
  }
 ],
 "metadata": {
  "kernelspec": {
   "display_name": "Python 3",
   "language": "python",
   "name": "python3"
  },
  "language_info": {
   "codemirror_mode": {
    "name": "ipython",
    "version": 3
   },
   "file_extension": ".py",
   "mimetype": "text/x-python",
   "name": "python",
   "nbconvert_exporter": "python",
   "pygments_lexer": "ipython3",
   "version": "3.8.3"
  }
 },
 "nbformat": 4,
 "nbformat_minor": 4
}
