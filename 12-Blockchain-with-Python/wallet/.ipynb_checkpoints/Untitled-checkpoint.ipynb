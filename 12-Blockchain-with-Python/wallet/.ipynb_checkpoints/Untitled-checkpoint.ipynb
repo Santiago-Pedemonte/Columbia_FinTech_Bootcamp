{
 "cells": [
  {
   "cell_type": "code",
   "execution_count": 13,
   "metadata": {},
   "outputs": [],
   "source": [
    "# Import dependencies\n",
    "import subprocess\n",
    "import json\n",
    "from dotenv import load_dotenv\n",
    "import os\n",
    "\n",
    "# Load and set environment variables\n",
    "load_dotenv('keys.env')\n",
    "mnemonic=os.getenv(\"mnemonic\")\n",
    "\n",
    "# Import constants.py and necessary functions from bit and web3\n",
    "from constants import *\n",
    " \n",
    " \n",
    "# Create a function called `derive_wallets`\n",
    "def derive_wallets(mnemonic, coin, numWallets):\n",
    "    command = f'php ./derive -g --mnemonic={mnemonic} --coin={coin} --numderive={numWallets} --cols=address,index,path,privkey,pubkey,xpriv,xpub --format=json'\n",
    "    p = subprocess.Popen(command, stdout=subprocess.PIPE, shell=True)\n",
    "    output, err = p.communicate()\n",
    "    p_status = p.wait()\n",
    "    return json.loads(output)"
   ]
  },
  {
   "cell_type": "code",
   "execution_count": 27,
   "metadata": {},
   "outputs": [
    {
     "ename": "JSONDecodeError",
     "evalue": "Extra data: line 1 column 5 (char 4)",
     "output_type": "error",
     "traceback": [
      "\u001b[1;31m---------------------------------------------------------------------------\u001b[0m",
      "\u001b[1;31mJSONDecodeError\u001b[0m                           Traceback (most recent call last)",
      "\u001b[1;32m<ipython-input-27-a7df69c4e22c>\u001b[0m in \u001b[0;36m<module>\u001b[1;34m\u001b[0m\n\u001b[1;32m----> 1\u001b[1;33m \u001b[0mbtcTest\u001b[0m \u001b[1;33m=\u001b[0m \u001b[0mderive_wallets\u001b[0m\u001b[1;33m(\u001b[0m\u001b[1;34m'hd-wallet-derive'\u001b[0m\u001b[1;33m,\u001b[0m \u001b[0mBTCTEST\u001b[0m\u001b[1;33m,\u001b[0m \u001b[1;36m3\u001b[0m\u001b[1;33m)\u001b[0m\u001b[1;33m\u001b[0m\u001b[1;33m\u001b[0m\u001b[0m\n\u001b[0m\u001b[0;32m      2\u001b[0m \u001b[0meth\u001b[0m \u001b[1;33m=\u001b[0m \u001b[0mderive_wallets\u001b[0m\u001b[1;33m(\u001b[0m\u001b[0mmnemonic\u001b[0m\u001b[1;33m,\u001b[0m \u001b[0mETH\u001b[0m\u001b[1;33m,\u001b[0m \u001b[1;36m3\u001b[0m\u001b[1;33m)\u001b[0m\u001b[1;33m\u001b[0m\u001b[1;33m\u001b[0m\u001b[0m\n\u001b[0;32m      3\u001b[0m \u001b[0mcoins\u001b[0m \u001b[1;33m=\u001b[0m \u001b[1;33m{\u001b[0m\u001b[1;34m'btc-test'\u001b[0m\u001b[1;33m:\u001b[0m\u001b[0mbtcTest\u001b[0m\u001b[1;33m,\u001b[0m \u001b[1;34m'eth'\u001b[0m\u001b[1;33m:\u001b[0m\u001b[0meth\u001b[0m\u001b[1;33m}\u001b[0m\u001b[1;33m\u001b[0m\u001b[1;33m\u001b[0m\u001b[0m\n",
      "\u001b[1;32m<ipython-input-13-43a4fe54f6e4>\u001b[0m in \u001b[0;36mderive_wallets\u001b[1;34m(mnemonic, coin, numWallets)\u001b[0m\n\u001b[0;32m     19\u001b[0m     \u001b[0moutput\u001b[0m\u001b[1;33m,\u001b[0m \u001b[0merr\u001b[0m \u001b[1;33m=\u001b[0m \u001b[0mp\u001b[0m\u001b[1;33m.\u001b[0m\u001b[0mcommunicate\u001b[0m\u001b[1;33m(\u001b[0m\u001b[1;33m)\u001b[0m\u001b[1;33m\u001b[0m\u001b[1;33m\u001b[0m\u001b[0m\n\u001b[0;32m     20\u001b[0m     \u001b[0mp_status\u001b[0m \u001b[1;33m=\u001b[0m \u001b[0mp\u001b[0m\u001b[1;33m.\u001b[0m\u001b[0mwait\u001b[0m\u001b[1;33m(\u001b[0m\u001b[1;33m)\u001b[0m\u001b[1;33m\u001b[0m\u001b[1;33m\u001b[0m\u001b[0m\n\u001b[1;32m---> 21\u001b[1;33m     \u001b[1;32mreturn\u001b[0m \u001b[0mjson\u001b[0m\u001b[1;33m.\u001b[0m\u001b[0mloads\u001b[0m\u001b[1;33m(\u001b[0m\u001b[0moutput\u001b[0m\u001b[1;33m)\u001b[0m\u001b[1;33m\u001b[0m\u001b[1;33m\u001b[0m\u001b[0m\n\u001b[0m",
      "\u001b[1;32m~\\anaconda3\\envs\\ethereum\\lib\\json\\__init__.py\u001b[0m in \u001b[0;36mloads\u001b[1;34m(s, encoding, cls, object_hook, parse_float, parse_int, parse_constant, object_pairs_hook, **kw)\u001b[0m\n\u001b[0;32m    346\u001b[0m             \u001b[0mparse_int\u001b[0m \u001b[1;32mis\u001b[0m \u001b[1;32mNone\u001b[0m \u001b[1;32mand\u001b[0m \u001b[0mparse_float\u001b[0m \u001b[1;32mis\u001b[0m \u001b[1;32mNone\u001b[0m \u001b[1;32mand\u001b[0m\u001b[1;33m\u001b[0m\u001b[1;33m\u001b[0m\u001b[0m\n\u001b[0;32m    347\u001b[0m             parse_constant is None and object_pairs_hook is None and not kw):\n\u001b[1;32m--> 348\u001b[1;33m         \u001b[1;32mreturn\u001b[0m \u001b[0m_default_decoder\u001b[0m\u001b[1;33m.\u001b[0m\u001b[0mdecode\u001b[0m\u001b[1;33m(\u001b[0m\u001b[0ms\u001b[0m\u001b[1;33m)\u001b[0m\u001b[1;33m\u001b[0m\u001b[1;33m\u001b[0m\u001b[0m\n\u001b[0m\u001b[0;32m    349\u001b[0m     \u001b[1;32mif\u001b[0m \u001b[0mcls\u001b[0m \u001b[1;32mis\u001b[0m \u001b[1;32mNone\u001b[0m\u001b[1;33m:\u001b[0m\u001b[1;33m\u001b[0m\u001b[1;33m\u001b[0m\u001b[0m\n\u001b[0;32m    350\u001b[0m         \u001b[0mcls\u001b[0m \u001b[1;33m=\u001b[0m \u001b[0mJSONDecoder\u001b[0m\u001b[1;33m\u001b[0m\u001b[1;33m\u001b[0m\u001b[0m\n",
      "\u001b[1;32m~\\anaconda3\\envs\\ethereum\\lib\\json\\decoder.py\u001b[0m in \u001b[0;36mdecode\u001b[1;34m(self, s, _w)\u001b[0m\n\u001b[0;32m    338\u001b[0m         \u001b[0mend\u001b[0m \u001b[1;33m=\u001b[0m \u001b[0m_w\u001b[0m\u001b[1;33m(\u001b[0m\u001b[0ms\u001b[0m\u001b[1;33m,\u001b[0m \u001b[0mend\u001b[0m\u001b[1;33m)\u001b[0m\u001b[1;33m.\u001b[0m\u001b[0mend\u001b[0m\u001b[1;33m(\u001b[0m\u001b[1;33m)\u001b[0m\u001b[1;33m\u001b[0m\u001b[1;33m\u001b[0m\u001b[0m\n\u001b[0;32m    339\u001b[0m         \u001b[1;32mif\u001b[0m \u001b[0mend\u001b[0m \u001b[1;33m!=\u001b[0m \u001b[0mlen\u001b[0m\u001b[1;33m(\u001b[0m\u001b[0ms\u001b[0m\u001b[1;33m)\u001b[0m\u001b[1;33m:\u001b[0m\u001b[1;33m\u001b[0m\u001b[1;33m\u001b[0m\u001b[0m\n\u001b[1;32m--> 340\u001b[1;33m             \u001b[1;32mraise\u001b[0m \u001b[0mJSONDecodeError\u001b[0m\u001b[1;33m(\u001b[0m\u001b[1;34m\"Extra data\"\u001b[0m\u001b[1;33m,\u001b[0m \u001b[0ms\u001b[0m\u001b[1;33m,\u001b[0m \u001b[0mend\u001b[0m\u001b[1;33m)\u001b[0m\u001b[1;33m\u001b[0m\u001b[1;33m\u001b[0m\u001b[0m\n\u001b[0m\u001b[0;32m    341\u001b[0m         \u001b[1;32mreturn\u001b[0m \u001b[0mobj\u001b[0m\u001b[1;33m\u001b[0m\u001b[1;33m\u001b[0m\u001b[0m\n\u001b[0;32m    342\u001b[0m \u001b[1;33m\u001b[0m\u001b[0m\n",
      "\u001b[1;31mJSONDecodeError\u001b[0m: Extra data: line 1 column 5 (char 4)"
     ]
    }
   ],
   "source": [
    "btcTest = derive_wallets('hd-wallet-derive', BTCTEST, 3)\n",
    "eth = derive_wallets(mnemonic, ETH, 3)\n",
    "coins = {'btc-test':btcTest, 'eth':eth}"
   ]
  },
  {
   "cell_type": "code",
   "execution_count": 49,
   "metadata": {},
   "outputs": [
    {
     "data": {
      "text/plain": [
       "b\"\\n+-----------------+------------------------------------+-----------------------------------------------------------------------------------------------------------------+-----------------------------------------------------------------------------------------------------------------+------------------------------------------------------+--------------------------------------------------------------------+------------------------------------------+-------+\\n| path            | address                            | xprv                                                                                                            | xpub                                                                                                            | privkey                                              | pubkey                                                             | pubkeyhash                               | index |\\n+-----------------+------------------------------------+-----------------------------------------------------------------------------------------------------------------+-----------------------------------------------------------------------------------------------------------------+------------------------------------------------------+--------------------------------------------------------------------+------------------------------------------+-------+\\n| m/44'/0'/0'/0/0 | 1K6RLMCqZrbSYY2GCLFiMoFKYe9f192zCb | xprvA3DN97TAoBXLNqDAxtT3S2ytgacKRkmTJqPbkZywU6u51XvDZGsKqkgqCUmY5KX8xAVeJjTacaQPfVVW8uWPMShbD25rNZKUSwHvBo2uFxV | xpub6GCiYcz4dZ5dbKHe4uz3oAvdEcSoqDVJg4KCYxPZ2SS3tLFN6pBaPZ1K3kH9hRNvodH8EjEdXowwGXi5PrHXFH4WMFoML9rTsN4E7fWde1X | KyZ7UvkgLcdwLEufoBtz1PFBYuuRJwekERxUy5sHofPZ5PfMr1Jj | 0284e34daec89d7b27b6011fa423a80e2cfc4e0cc5a7338ee06c96b19ba1f752ef | c678a8156a113b0637069ea0f70bf1c393cae46a |     0 |\\n| m/44'/0'/0'/0/1 | 12iYZAnzpgE2CdvpbjGfWcP65E6r2NfChL | xprvA3DN97TAoBXLS7KK1SxnPgtWsaS8mTGSZzNW1QQ2533Hip3DJ7fPGCGgNrZ23HaCRQWjKUbtBgr9Jp3wJxpQURJAbu67myfEnBR4TvgS25G | xpub6GCiYcz4dZ5debPn7UVnkpqFRcGdAuzHwDJ6onoddNaGbcNMqeydozbAE9ZogLmS9xRouByhMT3i1VdLLDNRYMfxUVRqbGdRUKqSTn5nDEW | KyWqRZsPysDu6tDPQXpiAsypHAVWF3MSauvuAZJBZwbRa5YTyhGE | 0349a722c2ea7bd6d010ca5fa2e2f548c8dd1fda6e7e216384554cdc2033b5f9ca | 12d3854c9b203eff7e9b6e863a72971b85f5a051 |     1 |\\n| m/44'/0'/0'/0/2 | 1FhozN4jornKWLrHTBuBoncwM3zWuTx4iY | xprvA3DN97TAoBXLTuqqxy5At7pb1gvXrJQ7FRz4ickVwUsRjiSYq4E6XuxkRUs8zt5tsk7hUDy1LyB9uzcqtVov8QovLABcz9Vop6FygFWEEfb | xpub6GCiYcz4dZ5dgPvK4zcBFFmKZim2Fm7xceufX1A7VpQQcWmhNbYM5iHEGmax6F4JXbSQfXkfscAws9S5AtQD3CwGfdSBPmrUkoD1Gsh2YA1 | L5DUi1dg8DN3hVETZPE2BzH3gFjnqzLSH7BMxGAXa9QEzzecNAxh | 03cd3452c49d02e3cf91fcf9b660d8cc312812362c280bd04dfc4e66cc112a9ee8 | a1499fb820a86c3e1a8d8057eb60099e98e306e3 |     2 |\\n| m/44'/0'/0'/0/3 | 1Fx8PgsArJJkMLoo1qQA3gNm3rdikxtjKF | xprvA3DN97TAoBXLWArkHPLgNnCoVnzeeHKZptp2rCgAbyvN4DJyFsCQdhfPng2pN9LjsrrMfpcaTEgTunsj17MPaPmH8Ue4edHxth87sgc1457 | xpub6GCiYcz4dZ5diewDPQsgjv9Y3pq93k3RC7jdeb5nAKTLw1e7oQWfBVysdxPFtqjvoDcKAKqoZWFG1Lby5VUE9hKiTrCPqbZ8stUB5goT9sT | KyVgGsWrbxmN8AieyB5b8sbRLfSQfZttbKYRYa2HifxHf9XgfEX4 | 02f1fc827eed4ba8aaf9bebfc807a3f7cef91e5118029870390fdab577b02d9cd7 | a3fecf0712102d263f824346f2d660792c21e8ca |     3 |\\n| m/44'/0'/0'/0/4 | 14ibkNUXijsBwijztUeS7HXXss1pF5bTcu | xprvA3DN97TAoBXLZ2JTSnhibKEWfjUikJmChm3NfkUDnyLdm59HRw2sA2nhE6aPMNoDr2QkPVLz74bBfgRrE6jKqMbADcY9HPFnFrTuPBcg8Tg | xpub6GCiYcz4dZ5dmWNvYpEixTBFDmKD9mV44yxyU8sqMJscdsURyUM7hq7B5PQfTeWnDXfMczm4uFpghjCtZ6R5HKqccB1QhBvFTAEjSxSrNfY | L36sgXvWfs3Kb1QYRjkftGqzPzoYWMk4G4aRM7AHUD13qJ4KxrvH | 039cd04c733c05b5f68c580556dcb0a413af01c659bc984128dd0d546bcd8060f1 | 28c67010cf425d51254a74553bd9eacb24cbfe87 |     4 |\\n| m/44'/0'/0'/0/5 | 1RmJk5HjnUoYA3GdPFr9Z7v3XPH83FJZ4  | xprvA3DN97TAoBXLb97zS1a1iFrpeWDBrBBVRs1j5TCSrf87Jiw1bTtM584N7fabYQiyiHhEbkAuqoA8cKz7buBo4zim9PFf9EnPro7DwJZw7h4 | xpub6GCiYcz4dZ5dodCTY3725PoZCY3gFduLo5wKsqc4Qzf6BXGA91CbcvNqxwRig2U8MTU2dtvPM22SAigqiZ78FCKzKDyKEnpHAhfu2TCsMGB | Kx8Trg5Swr7653DdHMApVsmEuwF7tpqWUfmAzM8Fvo2AwWXSfQaG | 0286aad68d9a64f1edd29b056e3a86169e5f891cb026c8d5d98aaebeffecd31fb5 | 04aef7c13bd3d0d4fed4370ed453b37ac963740a |     5 |\\n| m/44'/0'/0'/0/6 | 18TuRaEfcF6UMKpuRZFMgCMfot9nUgTsZL | xprvA3DN97TAoBXLfsD4KbABqq3FESpVbBLZJUtcHvEk5KHbLYdz3rBhswHK8F6J359LCThvJ757sS2gnuEKKQ9AaJkpUPLeRUra2kTkzaF5Ac3 | xpub6GCiYcz4dZ5dtMHXRchCCxyynUeyze4QfhpD6JeMdepaDLy8bPVxRjbnyWXSHzvqC74EVm7ZQ3DYk8zGSJTZTJGts77CrfduAKZWPJiabJe | L4BWqQ1oTfVNPQVcLHEzugbGCKBuZG8vFNcN1eqZ1iEVC4noBGzt | 0304cf82dc9a06620ad98b0988a231318605986b489777b532a115eea8b5c90059 | 51df74e1db61490da8d5899a828417e4cd7c4503 |     6 |\\n| m/44'/0'/0'/0/7 | 14s55qGJJ9WRbrU26oUYhu1zgFKYDXc4Be | xprvA3DN97TAoBXLhskQxWAXuDRiiuwxwwr4eXb9JkhoGBp1BK8xHmGuQbkbdYqv7sW7gXTHqy2kE64sf13NEY5THgmwT8Fx4Pg1ZCuANUX2eQ7 | xpub6GCiYcz4dZ5dvMpt4XhYGMNTGwnTMQZv1kWk797QpXLz47U6qJb9xQ55Uox8nAhBfbnSbfMApvZZppLuzdwABnA3SL3v9RgK8JRC21fum7S | KxNxbNobr4m62U4YHMXaJs8Xa92UE8jQtpBGF56SD26ReR1ft7R3 | 022cb43bcbcb87cb82b8962453d4cb511d6792e491f9c4c1103ad1e34bad47a2ea | 2a6095823d4121c236bc9bc215ae1fe0594fa690 |     7 |\\n| m/44'/0'/0'/0/8 | 1HXJjwTTMdZNgfNC9ix66Uiog2U79b8eex | xprvA3DN97TAoBXLk177jEByB12QvsB1JEJD2vzvd4jSUSvazSHY5NxHqQxzwggfwHFHKmjqTJ7H2fJ8a3zAyjFVa9shRr51k8TuW1jk1JRtQUD | xpub6GCiYcz4dZ5dxVBaqFiyY8y9Uu1Vhh24Q9vXRT942nTZsEcgcvGYPDHUnxPK7hGE9RqCNEh7PFqyEq4gs3LJ4QCNYXnfPS6vbpNFDCRYsR8 | KwZEFfyQRuuqJXaeYR8Ccjtp1nn9fxZ5CNZ5xqJLH97LpEQ7nwMy | 02624f9c21ec224fa414d08ca9ef21657f82fe9dc2d574cbcd233bf886d7d3cf37 | b53d4cdea633908b288dad0351274ed109ec80af |     8 |\\n| m/44'/0'/0'/0/9 | 1WULCjDsYwi2PNgfbwhf4Aj9TFFNESdyJ  | xprvA3DN97TAoBXLmkJ8ac31Md1ouyYzrhz7yopRxjUPneA8yTxpFAqGZGniUBZXPi9d8va9p1tjFgcEdm3Kgq9Eun8M173Wu1Ei6dcV1WBHHHv | xpub6GCiYcz4dZ5dzENbgda1ikxYU1PVGAhyM2k2m7t1Lyh7rGHxni9X757CKUw8KE72qb1i8vftgNaYgFspQhh4S1Rw2u6w93EuXpMTW3jyVuY | KxHb941s5JwTiVxYcGaSdpfVk354Z2St4Hx4s5W6b1EEQHUEnsVU | 035443bec85418fac014dabe0171a16d0b1c89c7a6aa20a1b45896db6e618c18c2 | 0592e0b2685646d5b3ac084104a2844d95282137 |     9 |\\n+-----------------+------------------------------------+-----------------------------------------------------------------------------------------------------------------+-----------------------------------------------------------------------------------------------------------------+------------------------------------------------------+--------------------------------------------------------------------+------------------------------------------+-------+\\n\\n\""
      ]
     },
     "execution_count": 49,
     "metadata": {},
     "output_type": "execute_result"
    }
   ],
   "source": [
    "coin=ETH\n",
    "mnemonic='stable liberty loop planet file post dentist accident shop chief hole reopen'\n",
    "numWallets=1\n",
    "command = f'php ./derive -g --mnemonic={mnemonic} --cols=address,path,privkey,pubkey --format=json'\n",
    "p = subprocess.Popen(command, stdout=subprocess.PIPE, shell=True)\n",
    "output, err = p.communicate()\n",
    "p_status = p.wait()\n",
    "output"
   ]
  },
  {
   "cell_type": "code",
   "execution_count": 47,
   "metadata": {},
   "outputs": [
    {
     "data": {
      "text/plain": [
       "\"| m/44'/0'/0'/0/0 | 17AQXsqxcWKNED9yUE9LpWvv9SmFmmyQf3 | xprvA4F1xWK4TfYQkfe8zka6cjA6cYdab1RdrfigKZLngW46WuYAF3e62UV3uvq1sMWHsmNAR3kEJLruiLasPygSpGGsWThYePKrMKmcTkubfMa | xpub6HENN1qxJ36hy9ic6n76ys6qAaU4zU9VDteH7wkQEqb5PhsJnaxLaGoXmF5DRELEsBtNXczF9H7iStSRRMmdkyk8GLRHtudbDinG115er9g | KwNtxYA8r1x9jSaaSgz4Sw7tENfJfrvBG9fSjD72d5qyQYupaPQe | 03ac0b4f71c50c5d9e2fdd0fd86e0a8e3fd635b583cd00bf28f0d501f062c740fa | 43982465e788a8fa04b979dc6d9a272ffd6ad3df |     0 |\""
      ]
     },
     "execution_count": 47,
     "metadata": {},
     "output_type": "execute_result"
    }
   ],
   "source": [
    "capture = !php hd-wallet-derive/hd-wallet-derive.php -g --mnemonic='stable liberty loop planet file post dentist accident shop chief hole reopen' --cols=path,address,privkey,pubkey --format=json\n",
    "capture[4]"
   ]
  },
  {
   "cell_type": "code",
   "execution_count": 51,
   "metadata": {},
   "outputs": [
    {
     "ename": "JSONDecodeError",
     "evalue": "Expecting value: line 1 column 1 (char 0)",
     "output_type": "error",
     "traceback": [
      "\u001b[1;31m---------------------------------------------------------------------------\u001b[0m",
      "\u001b[1;31mJSONDecodeError\u001b[0m                           Traceback (most recent call last)",
      "\u001b[1;32m<ipython-input-51-09cf094b59a6>\u001b[0m in \u001b[0;36m<module>\u001b[1;34m\u001b[0m\n\u001b[1;32m----> 1\u001b[1;33m \u001b[0mjson\u001b[0m\u001b[1;33m.\u001b[0m\u001b[0mloads\u001b[0m\u001b[1;33m(\u001b[0m\u001b[0mcapture\u001b[0m\u001b[1;33m[\u001b[0m\u001b[1;36m4\u001b[0m\u001b[1;33m]\u001b[0m\u001b[1;33m)\u001b[0m\u001b[1;33m\u001b[0m\u001b[1;33m\u001b[0m\u001b[0m\n\u001b[0m",
      "\u001b[1;32m~\\anaconda3\\envs\\ethereum\\lib\\json\\__init__.py\u001b[0m in \u001b[0;36mloads\u001b[1;34m(s, encoding, cls, object_hook, parse_float, parse_int, parse_constant, object_pairs_hook, **kw)\u001b[0m\n\u001b[0;32m    346\u001b[0m             \u001b[0mparse_int\u001b[0m \u001b[1;32mis\u001b[0m \u001b[1;32mNone\u001b[0m \u001b[1;32mand\u001b[0m \u001b[0mparse_float\u001b[0m \u001b[1;32mis\u001b[0m \u001b[1;32mNone\u001b[0m \u001b[1;32mand\u001b[0m\u001b[1;33m\u001b[0m\u001b[1;33m\u001b[0m\u001b[0m\n\u001b[0;32m    347\u001b[0m             parse_constant is None and object_pairs_hook is None and not kw):\n\u001b[1;32m--> 348\u001b[1;33m         \u001b[1;32mreturn\u001b[0m \u001b[0m_default_decoder\u001b[0m\u001b[1;33m.\u001b[0m\u001b[0mdecode\u001b[0m\u001b[1;33m(\u001b[0m\u001b[0ms\u001b[0m\u001b[1;33m)\u001b[0m\u001b[1;33m\u001b[0m\u001b[1;33m\u001b[0m\u001b[0m\n\u001b[0m\u001b[0;32m    349\u001b[0m     \u001b[1;32mif\u001b[0m \u001b[0mcls\u001b[0m \u001b[1;32mis\u001b[0m \u001b[1;32mNone\u001b[0m\u001b[1;33m:\u001b[0m\u001b[1;33m\u001b[0m\u001b[1;33m\u001b[0m\u001b[0m\n\u001b[0;32m    350\u001b[0m         \u001b[0mcls\u001b[0m \u001b[1;33m=\u001b[0m \u001b[0mJSONDecoder\u001b[0m\u001b[1;33m\u001b[0m\u001b[1;33m\u001b[0m\u001b[0m\n",
      "\u001b[1;32m~\\anaconda3\\envs\\ethereum\\lib\\json\\decoder.py\u001b[0m in \u001b[0;36mdecode\u001b[1;34m(self, s, _w)\u001b[0m\n\u001b[0;32m    335\u001b[0m \u001b[1;33m\u001b[0m\u001b[0m\n\u001b[0;32m    336\u001b[0m         \"\"\"\n\u001b[1;32m--> 337\u001b[1;33m         \u001b[0mobj\u001b[0m\u001b[1;33m,\u001b[0m \u001b[0mend\u001b[0m \u001b[1;33m=\u001b[0m \u001b[0mself\u001b[0m\u001b[1;33m.\u001b[0m\u001b[0mraw_decode\u001b[0m\u001b[1;33m(\u001b[0m\u001b[0ms\u001b[0m\u001b[1;33m,\u001b[0m \u001b[0midx\u001b[0m\u001b[1;33m=\u001b[0m\u001b[0m_w\u001b[0m\u001b[1;33m(\u001b[0m\u001b[0ms\u001b[0m\u001b[1;33m,\u001b[0m \u001b[1;36m0\u001b[0m\u001b[1;33m)\u001b[0m\u001b[1;33m.\u001b[0m\u001b[0mend\u001b[0m\u001b[1;33m(\u001b[0m\u001b[1;33m)\u001b[0m\u001b[1;33m)\u001b[0m\u001b[1;33m\u001b[0m\u001b[1;33m\u001b[0m\u001b[0m\n\u001b[0m\u001b[0;32m    338\u001b[0m         \u001b[0mend\u001b[0m \u001b[1;33m=\u001b[0m \u001b[0m_w\u001b[0m\u001b[1;33m(\u001b[0m\u001b[0ms\u001b[0m\u001b[1;33m,\u001b[0m \u001b[0mend\u001b[0m\u001b[1;33m)\u001b[0m\u001b[1;33m.\u001b[0m\u001b[0mend\u001b[0m\u001b[1;33m(\u001b[0m\u001b[1;33m)\u001b[0m\u001b[1;33m\u001b[0m\u001b[1;33m\u001b[0m\u001b[0m\n\u001b[0;32m    339\u001b[0m         \u001b[1;32mif\u001b[0m \u001b[0mend\u001b[0m \u001b[1;33m!=\u001b[0m \u001b[0mlen\u001b[0m\u001b[1;33m(\u001b[0m\u001b[0ms\u001b[0m\u001b[1;33m)\u001b[0m\u001b[1;33m:\u001b[0m\u001b[1;33m\u001b[0m\u001b[1;33m\u001b[0m\u001b[0m\n",
      "\u001b[1;32m~\\anaconda3\\envs\\ethereum\\lib\\json\\decoder.py\u001b[0m in \u001b[0;36mraw_decode\u001b[1;34m(self, s, idx)\u001b[0m\n\u001b[0;32m    353\u001b[0m             \u001b[0mobj\u001b[0m\u001b[1;33m,\u001b[0m \u001b[0mend\u001b[0m \u001b[1;33m=\u001b[0m \u001b[0mself\u001b[0m\u001b[1;33m.\u001b[0m\u001b[0mscan_once\u001b[0m\u001b[1;33m(\u001b[0m\u001b[0ms\u001b[0m\u001b[1;33m,\u001b[0m \u001b[0midx\u001b[0m\u001b[1;33m)\u001b[0m\u001b[1;33m\u001b[0m\u001b[1;33m\u001b[0m\u001b[0m\n\u001b[0;32m    354\u001b[0m         \u001b[1;32mexcept\u001b[0m \u001b[0mStopIteration\u001b[0m \u001b[1;32mas\u001b[0m \u001b[0merr\u001b[0m\u001b[1;33m:\u001b[0m\u001b[1;33m\u001b[0m\u001b[1;33m\u001b[0m\u001b[0m\n\u001b[1;32m--> 355\u001b[1;33m             \u001b[1;32mraise\u001b[0m \u001b[0mJSONDecodeError\u001b[0m\u001b[1;33m(\u001b[0m\u001b[1;34m\"Expecting value\"\u001b[0m\u001b[1;33m,\u001b[0m \u001b[0ms\u001b[0m\u001b[1;33m,\u001b[0m \u001b[0merr\u001b[0m\u001b[1;33m.\u001b[0m\u001b[0mvalue\u001b[0m\u001b[1;33m)\u001b[0m \u001b[1;32mfrom\u001b[0m \u001b[1;32mNone\u001b[0m\u001b[1;33m\u001b[0m\u001b[1;33m\u001b[0m\u001b[0m\n\u001b[0m\u001b[0;32m    356\u001b[0m         \u001b[1;32mreturn\u001b[0m \u001b[0mobj\u001b[0m\u001b[1;33m,\u001b[0m \u001b[0mend\u001b[0m\u001b[1;33m\u001b[0m\u001b[1;33m\u001b[0m\u001b[0m\n",
      "\u001b[1;31mJSONDecodeError\u001b[0m: Expecting value: line 1 column 1 (char 0)"
     ]
    }
   ],
   "source": [
    "json.loads(capture[4])"
   ]
  },
  {
   "cell_type": "code",
   "execution_count": null,
   "metadata": {},
   "outputs": [],
   "source": []
  }
 ],
 "metadata": {
  "kernelspec": {
   "display_name": "Python 3",
   "language": "python",
   "name": "python3"
  },
  "language_info": {
   "codemirror_mode": {
    "name": "ipython",
    "version": 3
   },
   "file_extension": ".py",
   "mimetype": "text/x-python",
   "name": "python",
   "nbconvert_exporter": "python",
   "pygments_lexer": "ipython3",
   "version": "3.7.9"
  }
 },
 "nbformat": 4,
 "nbformat_minor": 4
}
