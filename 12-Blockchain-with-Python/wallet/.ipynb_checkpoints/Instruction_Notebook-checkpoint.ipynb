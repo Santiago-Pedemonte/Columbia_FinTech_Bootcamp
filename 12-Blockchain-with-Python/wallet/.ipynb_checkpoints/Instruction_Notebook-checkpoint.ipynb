{
 "cells": [
  {
   "cell_type": "markdown",
   "metadata": {},
   "source": [
    "## First try"
   ]
  },
  {
   "cell_type": "code",
   "execution_count": 2,
   "metadata": {},
   "outputs": [
    {
     "data": {
      "text/plain": [
       "['',\n",
       " '+-----------------+------------------------------------+------------------------------------------------------+--------------------------------------------------------------------+',\n",
       " '| path            | address                            | privkey                                              | pubkey                                                             |',\n",
       " '+-----------------+------------------------------------+------------------------------------------------------+--------------------------------------------------------------------+',\n",
       " \"| m/44'/0'/0'/0/0 | 1NeYGEvaEmcPScmNg7yJjzsDb21o3PU9nJ | KwchjXBvXL4HtLSWqjdBtbwECVWU1bs8mFiHEcmsz5sJBc3ge8ET | 0310747b873879b641e1e0d756dce2a0a2d9449a0708f5dcfe59304580ec0cf16e |\",\n",
       " \"| m/44'/0'/0'/0/1 | 1NbhtQpiEe58g1vrCBawwL5fzJyorrHPBb | L28NeUwCLxjcU6mvYF9jB4JFhWrZ5aTKgtYyvfWLyLGCR1gbMBZK | 034cd785db53a5ab65c262c9b12557e328e393dc8f9dd9ac783f9752e986716b80 |\",\n",
       " \"| m/44'/0'/0'/0/2 | 1B3sZxJPQrtHPnrf5J5HeQUkoLyxpad5js | KwVEUpqTs2rr7Y1qHvy5i7FaBNEezhVULZW6A6BBPKiMZTY6BXcg | 021f6109dc40036e7f9a02ce9166bdf178e73fbcd4b73f04bdef12f2b47f041f0d |\",\n",
       " \"| m/44'/0'/0'/0/3 | 1F8qe4jFzVy91nJEujBKYTMVxBfddVZ4LK | L1bp453BRQzyQqCJs3PBnsX2pu5oBnRbu8TtTheqEdvHzJDnGjVu | 02cd76ef3db96c454a107b52c0554b130384fbf0826b56bea8f4c3f1d47d497dcc |\",\n",
       " \"| m/44'/0'/0'/0/4 | 1DFB4SKNGHgpprvC5QeWAZ7iaBnaB67Pzs | L3CUiXgYZcXtBU8iF4bBCmWEX5DqXtySkFwtx8N2CixgpY98M8YA | 02ac3da9d86e341bef36245e9f34b56e12bc8b587ccc976f0a38b5cada883c0d6c |\",\n",
       " \"| m/44'/0'/0'/0/5 | 1FNWhkCxzMkf6wb8DcG8RXi2E9iSvrzmWX | KyeTjibZ8b84jtrZDvAZwrVhgRHMKm2byAM8Skm68JwhHRqmLdv1 | 0229380fbe4de17b66225f08e680763a416cf0abd6e1e0751bdc4353b7a03b82f5 |\",\n",
       " \"| m/44'/0'/0'/0/6 | 1JeArFz2GgAwTpGRAP5j71LZBZMDcYohDz | L5PB6Ld29GQdZeNfe51swanGtRGrRhP1Wj5b4eCDtWeDJqTfcKzB | 02acce6cd9acbee2b17ae30a085d51d9e6c758cf6e843cee83ea9b389beb843d2a |\",\n",
       " \"| m/44'/0'/0'/0/7 | 1FWKFPiWVpdtPAvtqiSpff9RPvtsD1es6z | L13dy7JW8nR8s4BPnWzXPSYKSpA7c4z33gkCd16mwk1aG4WFxquZ | 0282747ca503a5253bf2dbc94884c942da252a090661b258ace3d62343f0323ac2 |\",\n",
       " \"| m/44'/0'/0'/0/8 | 1FCLdscngmvK2SMfmEKxui3K9UR8hWCf23 | KzTHKS6bswxB1DLncGQKKpD6eqMf5GjArxcrZNRV44C7KyBGpy2b | 038b19ec1059c3acf7cddcb709962c517e900dca644d398479e334c3e353749418 |\",\n",
       " \"| m/44'/0'/0'/0/9 | 1Puv5jrjvAbKmjQgN3TNPfYF5RBgdvifnH | L15BKzEMxMz8UpkoSwsVbWEHZYQU4o3oqEGbpHCEtNFNfce9FU3W | 0291d2abd401ffd239f0cf750eaf697b6364d26d6ef5a46c717fa1a2af92b32469 |\",\n",
       " '+-----------------+------------------------------------+------------------------------------------------------+--------------------------------------------------------------------+',\n",
       " '']"
      ]
     },
     "execution_count": 2,
     "metadata": {},
     "output_type": "execute_result"
    }
   ],
   "source": [
    "# Mac users\n",
    "# p = !.\\hd-wallet-derive.php -g --mnemonic=\"Your Nmemonic\" --cols=path,address,privkey,pubkey\n",
    "\n",
    "# Windows Users\n",
    "p = !php hd-wallet-derive/hd-wallet-derive.php -g --mnemonic=\"stable liberty loop planet file post dentist accident shop chief hole reopen\" --cols=path,address,privkey,pubkey\n",
    "p"
   ]
  },
  {
   "cell_type": "markdown",
   "metadata": {},
   "source": [
    "## Second Try"
   ]
  },
  {
   "cell_type": "code",
   "execution_count": 8,
   "metadata": {},
   "outputs": [],
   "source": [
    "capture = !php hd-wallet-derive/hd-wallet-derive.php -g --mnemonic=\"stable liberty loop planet file post dentist accident shop chief hole reopen\" --cols=path,address,privkey,pubkey --format=json"
   ]
  },
  {
   "cell_type": "code",
   "execution_count": 9,
   "metadata": {},
   "outputs": [
    {
     "data": {
      "text/plain": [
       "['',\n",
       " '[{\"path\":\"m\\\\/44\\'\\\\/0\\'\\\\/0\\'\\\\/0\\\\/0\",\"address\":\"1NeYGEvaEmcPScmNg7yJjzsDb21o3PU9nJ\",\"privkey\":\"KwchjXBvXL4HtLSWqjdBtbwECVWU1bs8mFiHEcmsz5sJBc3ge8ET\",\"pubkey\":\"0310747b873879b641e1e0d756dce2a0a2d9449a0708f5dcfe59304580ec0cf16e\"},{\"path\":\"m\\\\/44\\'\\\\/0\\'\\\\/0\\'\\\\/0\\\\/1\",\"address\":\"1NbhtQpiEe58g1vrCBawwL5fzJyorrHPBb\",\"privkey\":\"L28NeUwCLxjcU6mvYF9jB4JFhWrZ5aTKgtYyvfWLyLGCR1gbMBZK\",\"pubkey\":\"034cd785db53a5ab65c262c9b12557e328e393dc8f9dd9ac783f9752e986716b80\"},{\"path\":\"m\\\\/44\\'\\\\/0\\'\\\\/0\\'\\\\/0\\\\/2\",\"address\":\"1B3sZxJPQrtHPnrf5J5HeQUkoLyxpad5js\",\"privkey\":\"KwVEUpqTs2rr7Y1qHvy5i7FaBNEezhVULZW6A6BBPKiMZTY6BXcg\",\"pubkey\":\"021f6109dc40036e7f9a02ce9166bdf178e73fbcd4b73f04bdef12f2b47f041f0d\"},{\"path\":\"m\\\\/44\\'\\\\/0\\'\\\\/0\\'\\\\/0\\\\/3\",\"address\":\"1F8qe4jFzVy91nJEujBKYTMVxBfddVZ4LK\",\"privkey\":\"L1bp453BRQzyQqCJs3PBnsX2pu5oBnRbu8TtTheqEdvHzJDnGjVu\",\"pubkey\":\"02cd76ef3db96c454a107b52c0554b130384fbf0826b56bea8f4c3f1d47d497dcc\"},{\"path\":\"m\\\\/44\\'\\\\/0\\'\\\\/0\\'\\\\/0\\\\/4\",\"address\":\"1DFB4SKNGHgpprvC5QeWAZ7iaBnaB67Pzs\",\"privkey\":\"L3CUiXgYZcXtBU8iF4bBCmWEX5DqXtySkFwtx8N2CixgpY98M8YA\",\"pubkey\":\"02ac3da9d86e341bef36245e9f34b56e12bc8b587ccc976f0a38b5cada883c0d6c\"},{\"path\":\"m\\\\/44\\'\\\\/0\\'\\\\/0\\'\\\\/0\\\\/5\",\"address\":\"1FNWhkCxzMkf6wb8DcG8RXi2E9iSvrzmWX\",\"privkey\":\"KyeTjibZ8b84jtrZDvAZwrVhgRHMKm2byAM8Skm68JwhHRqmLdv1\",\"pubkey\":\"0229380fbe4de17b66225f08e680763a416cf0abd6e1e0751bdc4353b7a03b82f5\"},{\"path\":\"m\\\\/44\\'\\\\/0\\'\\\\/0\\'\\\\/0\\\\/6\",\"address\":\"1JeArFz2GgAwTpGRAP5j71LZBZMDcYohDz\",\"privkey\":\"L5PB6Ld29GQdZeNfe51swanGtRGrRhP1Wj5b4eCDtWeDJqTfcKzB\",\"pubkey\":\"02acce6cd9acbee2b17ae30a085d51d9e6c758cf6e843cee83ea9b389beb843d2a\"},{\"path\":\"m\\\\/44\\'\\\\/0\\'\\\\/0\\'\\\\/0\\\\/7\",\"address\":\"1FWKFPiWVpdtPAvtqiSpff9RPvtsD1es6z\",\"privkey\":\"L13dy7JW8nR8s4BPnWzXPSYKSpA7c4z33gkCd16mwk1aG4WFxquZ\",\"pubkey\":\"0282747ca503a5253bf2dbc94884c942da252a090661b258ace3d62343f0323ac2\"},{\"path\":\"m\\\\/44\\'\\\\/0\\'\\\\/0\\'\\\\/0\\\\/8\",\"address\":\"1FCLdscngmvK2SMfmEKxui3K9UR8hWCf23\",\"privkey\":\"KzTHKS6bswxB1DLncGQKKpD6eqMf5GjArxcrZNRV44C7KyBGpy2b\",\"pubkey\":\"038b19ec1059c3acf7cddcb709962c517e900dca644d398479e334c3e353749418\"},{\"path\":\"m\\\\/44\\'\\\\/0\\'\\\\/0\\'\\\\/0\\\\/9\",\"address\":\"1Puv5jrjvAbKmjQgN3TNPfYF5RBgdvifnH\",\"privkey\":\"L15BKzEMxMz8UpkoSwsVbWEHZYQU4o3oqEGbpHCEtNFNfce9FU3W\",\"pubkey\":\"0291d2abd401ffd239f0cf750eaf697b6364d26d6ef5a46c717fa1a2af92b32469\"}]']"
      ]
     },
     "execution_count": 9,
     "metadata": {},
     "output_type": "execute_result"
    }
   ],
   "source": [
    "capture"
   ]
  },
  {
   "cell_type": "code",
   "execution_count": 10,
   "metadata": {},
   "outputs": [
    {
     "data": {
      "text/plain": [
       "[{'path': \"m/44'/0'/0'/0/0\",\n",
       "  'address': '1NeYGEvaEmcPScmNg7yJjzsDb21o3PU9nJ',\n",
       "  'privkey': 'KwchjXBvXL4HtLSWqjdBtbwECVWU1bs8mFiHEcmsz5sJBc3ge8ET',\n",
       "  'pubkey': '0310747b873879b641e1e0d756dce2a0a2d9449a0708f5dcfe59304580ec0cf16e'},\n",
       " {'path': \"m/44'/0'/0'/0/1\",\n",
       "  'address': '1NbhtQpiEe58g1vrCBawwL5fzJyorrHPBb',\n",
       "  'privkey': 'L28NeUwCLxjcU6mvYF9jB4JFhWrZ5aTKgtYyvfWLyLGCR1gbMBZK',\n",
       "  'pubkey': '034cd785db53a5ab65c262c9b12557e328e393dc8f9dd9ac783f9752e986716b80'},\n",
       " {'path': \"m/44'/0'/0'/0/2\",\n",
       "  'address': '1B3sZxJPQrtHPnrf5J5HeQUkoLyxpad5js',\n",
       "  'privkey': 'KwVEUpqTs2rr7Y1qHvy5i7FaBNEezhVULZW6A6BBPKiMZTY6BXcg',\n",
       "  'pubkey': '021f6109dc40036e7f9a02ce9166bdf178e73fbcd4b73f04bdef12f2b47f041f0d'},\n",
       " {'path': \"m/44'/0'/0'/0/3\",\n",
       "  'address': '1F8qe4jFzVy91nJEujBKYTMVxBfddVZ4LK',\n",
       "  'privkey': 'L1bp453BRQzyQqCJs3PBnsX2pu5oBnRbu8TtTheqEdvHzJDnGjVu',\n",
       "  'pubkey': '02cd76ef3db96c454a107b52c0554b130384fbf0826b56bea8f4c3f1d47d497dcc'},\n",
       " {'path': \"m/44'/0'/0'/0/4\",\n",
       "  'address': '1DFB4SKNGHgpprvC5QeWAZ7iaBnaB67Pzs',\n",
       "  'privkey': 'L3CUiXgYZcXtBU8iF4bBCmWEX5DqXtySkFwtx8N2CixgpY98M8YA',\n",
       "  'pubkey': '02ac3da9d86e341bef36245e9f34b56e12bc8b587ccc976f0a38b5cada883c0d6c'},\n",
       " {'path': \"m/44'/0'/0'/0/5\",\n",
       "  'address': '1FNWhkCxzMkf6wb8DcG8RXi2E9iSvrzmWX',\n",
       "  'privkey': 'KyeTjibZ8b84jtrZDvAZwrVhgRHMKm2byAM8Skm68JwhHRqmLdv1',\n",
       "  'pubkey': '0229380fbe4de17b66225f08e680763a416cf0abd6e1e0751bdc4353b7a03b82f5'},\n",
       " {'path': \"m/44'/0'/0'/0/6\",\n",
       "  'address': '1JeArFz2GgAwTpGRAP5j71LZBZMDcYohDz',\n",
       "  'privkey': 'L5PB6Ld29GQdZeNfe51swanGtRGrRhP1Wj5b4eCDtWeDJqTfcKzB',\n",
       "  'pubkey': '02acce6cd9acbee2b17ae30a085d51d9e6c758cf6e843cee83ea9b389beb843d2a'},\n",
       " {'path': \"m/44'/0'/0'/0/7\",\n",
       "  'address': '1FWKFPiWVpdtPAvtqiSpff9RPvtsD1es6z',\n",
       "  'privkey': 'L13dy7JW8nR8s4BPnWzXPSYKSpA7c4z33gkCd16mwk1aG4WFxquZ',\n",
       "  'pubkey': '0282747ca503a5253bf2dbc94884c942da252a090661b258ace3d62343f0323ac2'},\n",
       " {'path': \"m/44'/0'/0'/0/8\",\n",
       "  'address': '1FCLdscngmvK2SMfmEKxui3K9UR8hWCf23',\n",
       "  'privkey': 'KzTHKS6bswxB1DLncGQKKpD6eqMf5GjArxcrZNRV44C7KyBGpy2b',\n",
       "  'pubkey': '038b19ec1059c3acf7cddcb709962c517e900dca644d398479e334c3e353749418'},\n",
       " {'path': \"m/44'/0'/0'/0/9\",\n",
       "  'address': '1Puv5jrjvAbKmjQgN3TNPfYF5RBgdvifnH',\n",
       "  'privkey': 'L15BKzEMxMz8UpkoSwsVbWEHZYQU4o3oqEGbpHCEtNFNfce9FU3W',\n",
       "  'pubkey': '0291d2abd401ffd239f0cf750eaf697b6364d26d6ef5a46c717fa1a2af92b32469'}]"
      ]
     },
     "execution_count": 10,
     "metadata": {},
     "output_type": "execute_result"
    }
   ],
   "source": [
    "## Transform to consumable JSON\n",
    "import json\n",
    "keys = json.loads(capture[1])\n",
    "keys"
   ]
  },
  {
   "cell_type": "code",
   "execution_count": 30,
   "metadata": {},
   "outputs": [
    {
     "name": "stdout",
     "output_type": "stream",
     "text": [
      "1NDtFefQkuUtdrAStTFRpPvgrn1Qib5pvZ\n"
     ]
    }
   ],
   "source": [
    "print(keys[0]['address'])"
   ]
  },
  {
   "cell_type": "code",
   "execution_count": null,
   "metadata": {},
   "outputs": [],
   "source": []
  }
 ],
 "metadata": {
  "kernelspec": {
   "display_name": "Python 3",
   "language": "python",
   "name": "python3"
  },
  "language_info": {
   "codemirror_mode": {
    "name": "ipython",
    "version": 3
   },
   "file_extension": ".py",
   "mimetype": "text/x-python",
   "name": "python",
   "nbconvert_exporter": "python",
   "pygments_lexer": "ipython3",
   "version": "3.7.9"
  }
 },
 "nbformat": 4,
 "nbformat_minor": 5
}
