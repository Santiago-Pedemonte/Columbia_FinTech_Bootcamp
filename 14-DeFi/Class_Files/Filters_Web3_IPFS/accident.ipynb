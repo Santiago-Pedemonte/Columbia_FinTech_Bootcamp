{
 "cells": [
  {
   "cell_type": "markdown",
   "metadata": {},
   "source": [
    "# Accident Report System"
   ]
  },
  {
   "cell_type": "code",
   "execution_count": 29,
   "metadata": {},
   "outputs": [],
   "source": [
    "# Initial imports\n",
    "import sys\n",
    "\n",
    "# this is importing from the crypto.py file we created in the same folder\n",
    "from crypto import convertDataToJSON, pinJSONtoIPFS, initContract, w3\n",
    "\n",
    "# if not installed, need to run:\n",
    "# !pip install prettyprinter \n",
    "from pprint import pprint"
   ]
  },
  {
   "cell_type": "markdown",
   "metadata": {},
   "source": [
    "### Creating an instance of the contract that we want to interact with"
   ]
  },
  {
   "cell_type": "code",
   "execution_count": 30,
   "metadata": {},
   "outputs": [],
   "source": [
    "cryptofax = initContract()"
   ]
  },
  {
   "cell_type": "markdown",
   "metadata": {},
   "source": [
    "### Defining the functions we want to use"
   ]
  },
  {
   "cell_type": "code",
   "execution_count": 31,
   "metadata": {},
   "outputs": [],
   "source": [
    "def createAccidentReport():\n",
    "    time = input(\"Date of the accident: \")\n",
    "    description = input(\"Description of the accident: \")\n",
    "    token_id = int(input(\"Token ID: \"))\n",
    "\n",
    "    json_data = convertDataToJSON(time, description)\n",
    "    report_uri = pinJSONtoIPFS(json_data)\n",
    "\n",
    "    return token_id, report_uri\n"
   ]
  },
  {
   "cell_type": "code",
   "execution_count": 32,
   "metadata": {},
   "outputs": [],
   "source": [
    "def reportAccident(token_id, report_uri):\n",
    "    tx_hash = cryptofax.functions.reportAccident(token_id, report_uri).transact(\n",
    "        {\"from\": w3.eth.accounts[0]}\n",
    "    )\n",
    "    receipt = w3.eth.waitForTransactionReceipt(tx_hash)\n",
    "    return receipt"
   ]
  },
  {
   "cell_type": "code",
   "execution_count": 33,
   "metadata": {},
   "outputs": [],
   "source": [
    "def getAccidentReports(token_id):\n",
    "    accident_filter = cryptofax.events.Accident.createFilter(\n",
    "        fromBlock=\"0x0\", argument_filters={\"token_id\": token_id}\n",
    "    )\n",
    "    return accident_filter.get_all_entries()"
   ]
  },
  {
   "cell_type": "markdown",
   "metadata": {},
   "source": [
    "### Suppose we we want to create a report:"
   ]
  },
  {
   "cell_type": "code",
   "execution_count": null,
   "metadata": {},
   "outputs": [],
   "source": [
    "token_id, report_uri = createAccidentReport()\n",
    "\n",
    "receipt = reportAccident(token_id, report_uri)"
   ]
  },
  {
   "cell_type": "code",
   "execution_count": null,
   "metadata": {},
   "outputs": [],
   "source": [
    "pprint(receipt)"
   ]
  },
  {
   "cell_type": "code",
   "execution_count": null,
   "metadata": {},
   "outputs": [],
   "source": [
    "print(\"Report IPFS Hash:\", report_uri)"
   ]
  },
  {
   "cell_type": "markdown",
   "metadata": {},
   "source": [
    "### Suppose we we want to pull information on previously reported accidents:"
   ]
  },
  {
   "cell_type": "code",
   "execution_count": null,
   "metadata": {},
   "outputs": [],
   "source": [
    "token_id = int(sys.argv[2])"
   ]
  },
  {
   "cell_type": "code",
   "execution_count": null,
   "metadata": {},
   "outputs": [],
   "source": [
    "car = cryptofax.functions.cars(token_id).call()"
   ]
  },
  {
   "cell_type": "code",
   "execution_count": null,
   "metadata": {},
   "outputs": [],
   "source": [
    "reports = getAccidentReports(token_id)"
   ]
  },
  {
   "cell_type": "code",
   "execution_count": null,
   "metadata": {},
   "outputs": [],
   "source": [
    "pprint(reports)"
   ]
  },
  {
   "cell_type": "code",
   "execution_count": null,
   "metadata": {},
   "outputs": [],
   "source": [
    "print(\"VIN\", car[0], \"has been in\", car[1], \"accidents.\")"
   ]
  },
  {
   "cell_type": "markdown",
   "metadata": {},
   "source": [
    "### How do we make this accessible for non-programmers?\n",
    "\n",
    "Suppose we wanted to allow others (who might not be familiar with Python) to conveniently run this from the command line (similar to how we used geth without knowing how to program in Go). We can do so by saving the file as a Python file (ending in .py, accident.py is already created) and creating a main() function and calling it so that whenever the entire file gets called, main() gets executed:"
   ]
  },
  {
   "cell_type": "code",
   "execution_count": 41,
   "metadata": {},
   "outputs": [],
   "source": [
    "def main():\n",
    "    if sys.argv[1] == \"report\":\n",
    "        token_id, report_uri = createAccidentReport()\n",
    "\n",
    "        receipt = reportAccident(token_id, report_uri)\n",
    "\n",
    "        pprint(receipt)\n",
    "        print(\"Report IPFS Hash:\", report_uri)\n",
    "\n",
    "    if sys.argv[1] == \"get\":\n",
    "        token_id = int(sys.argv[2])\n",
    "\n",
    "        car = cryptofax.functions.cars(token_id).call()\n",
    "        reports = getAccidentReports(token_id)\n",
    "\n",
    "        pprint(reports)\n",
    "        print(\"VIN\", car[0], \"has been in\", car[1], \"accidents.\")"
   ]
  },
  {
   "cell_type": "code",
   "execution_count": 40,
   "metadata": {},
   "outputs": [],
   "source": [
    "main()"
   ]
  },
  {
   "cell_type": "markdown",
   "metadata": {},
   "source": [
    "### A brief intro to sys.argv:\n",
    "\n",
    "sys.argv is the list of arguments (or flags) passed from the command line by the user. We used a similar functionality when interacting with the puppeth tool using double dash (e.g.  \"./geth account new --datadir node1\"\n",
    "```\n",
    "sys.argv[0] is always the name of the script\n",
    "\n",
    "sys.argv[1] is the first argument, and so on\n",
    "```\n",
    " Below is an example:"
   ]
  },
  {
   "cell_type": "code",
   "execution_count": 39,
   "metadata": {},
   "outputs": [],
   "source": [
    "#        sys.argv[0]        sys.argv[1]    sys.argv[2]\n",
    "# python accident.py        report\n",
    "# python accident.py        get            1"
   ]
  },
  {
   "cell_type": "markdown",
   "metadata": {},
   "source": [
    "That is, if we want to create a report we run this from the command line (after nagivating into the folder why accidents.py is saved):\n",
    "\n",
    "python accident.py report\n",
    "\n",
    "If we want to pull information on previously reported accidents, we run:\n",
    "\n",
    "python accident.py get 1"
   ]
  },
  {
   "cell_type": "code",
   "execution_count": null,
   "metadata": {},
   "outputs": [],
   "source": []
  }
 ],
 "metadata": {
  "kernelspec": {
   "display_name": "Python 3",
   "language": "python",
   "name": "python3"
  },
  "language_info": {
   "codemirror_mode": {
    "name": "ipython",
    "version": 3
   },
   "file_extension": ".py",
   "mimetype": "text/x-python",
   "name": "python",
   "nbconvert_exporter": "python",
   "pygments_lexer": "ipython3",
   "version": "3.8.3"
  }
 },
 "nbformat": 4,
 "nbformat_minor": 4
}