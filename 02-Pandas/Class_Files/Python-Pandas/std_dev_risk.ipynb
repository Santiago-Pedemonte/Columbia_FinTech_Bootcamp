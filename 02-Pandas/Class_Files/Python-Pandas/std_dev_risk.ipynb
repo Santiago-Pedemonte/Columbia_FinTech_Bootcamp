{
 "cells": [
  {
   "cell_type": "markdown",
   "metadata": {},
   "source": [
    "### Import Libraries and Dependencies"
   ]
  },
  {
   "cell_type": "code",
   "execution_count": 1,
   "metadata": {},
   "outputs": [],
   "source": [
    "import pandas as pd\n",
    "import numpy as np\n",
    "from pathlib import Path\n",
    "%matplotlib inline"
   ]
  },
  {
   "cell_type": "markdown",
   "metadata": {},
   "source": [
    "### Read data"
   ]
  },
  {
   "cell_type": "code",
   "execution_count": 2,
   "metadata": {},
   "outputs": [
    {
     "data": {
      "text/html": [
       "<div>\n",
       "<style scoped>\n",
       "    .dataframe tbody tr th:only-of-type {\n",
       "        vertical-align: middle;\n",
       "    }\n",
       "\n",
       "    .dataframe tbody tr th {\n",
       "        vertical-align: top;\n",
       "    }\n",
       "\n",
       "    .dataframe thead th {\n",
       "        text-align: right;\n",
       "    }\n",
       "</style>\n",
       "<table border=\"1\" class=\"dataframe\">\n",
       "  <thead>\n",
       "    <tr style=\"text-align: right;\">\n",
       "      <th></th>\n",
       "      <th>AAPL</th>\n",
       "      <th>MSFT</th>\n",
       "      <th>GOOG</th>\n",
       "      <th>FB</th>\n",
       "      <th>AMZN</th>\n",
       "    </tr>\n",
       "    <tr>\n",
       "      <th>Date</th>\n",
       "      <th></th>\n",
       "      <th></th>\n",
       "      <th></th>\n",
       "      <th></th>\n",
       "      <th></th>\n",
       "    </tr>\n",
       "  </thead>\n",
       "  <tbody>\n",
       "    <tr>\n",
       "      <th>2018-01-02</th>\n",
       "      <td>168.339050</td>\n",
       "      <td>84.128128</td>\n",
       "      <td>1065.000000</td>\n",
       "      <td>181.419998</td>\n",
       "      <td>1189.010010</td>\n",
       "    </tr>\n",
       "    <tr>\n",
       "      <th>2018-01-03</th>\n",
       "      <td>168.309738</td>\n",
       "      <td>84.519646</td>\n",
       "      <td>1082.479980</td>\n",
       "      <td>184.669998</td>\n",
       "      <td>1204.199951</td>\n",
       "    </tr>\n",
       "    <tr>\n",
       "      <th>2018-01-04</th>\n",
       "      <td>169.091522</td>\n",
       "      <td>85.263542</td>\n",
       "      <td>1086.400024</td>\n",
       "      <td>184.330002</td>\n",
       "      <td>1209.589966</td>\n",
       "    </tr>\n",
       "    <tr>\n",
       "      <th>2018-01-05</th>\n",
       "      <td>171.016678</td>\n",
       "      <td>86.320648</td>\n",
       "      <td>1102.229980</td>\n",
       "      <td>186.850006</td>\n",
       "      <td>1229.140015</td>\n",
       "    </tr>\n",
       "    <tr>\n",
       "      <th>2018-01-08</th>\n",
       "      <td>170.381485</td>\n",
       "      <td>86.408737</td>\n",
       "      <td>1106.939941</td>\n",
       "      <td>188.279999</td>\n",
       "      <td>1246.869995</td>\n",
       "    </tr>\n",
       "  </tbody>\n",
       "</table>\n",
       "</div>"
      ],
      "text/plain": [
       "                  AAPL       MSFT         GOOG          FB         AMZN\n",
       "Date                                                                   \n",
       "2018-01-02  168.339050  84.128128  1065.000000  181.419998  1189.010010\n",
       "2018-01-03  168.309738  84.519646  1082.479980  184.669998  1204.199951\n",
       "2018-01-04  169.091522  85.263542  1086.400024  184.330002  1209.589966\n",
       "2018-01-05  171.016678  86.320648  1102.229980  186.850006  1229.140015\n",
       "2018-01-08  170.381485  86.408737  1106.939941  188.279999  1246.869995"
      ]
     },
     "execution_count": 2,
     "metadata": {},
     "output_type": "execute_result"
    }
   ],
   "source": [
    "file_path = Path(\"../Resources/tech_stocks_closing_value_2018.csv\")\n",
    "tech_stocks = pd.read_csv(file_path, index_col='Date', parse_dates=True)\n",
    "tech_stocks.head()"
   ]
  },
  {
   "cell_type": "markdown",
   "metadata": {},
   "source": [
    "### Calculate Daily Returns"
   ]
  },
  {
   "cell_type": "code",
   "execution_count": 3,
   "metadata": {},
   "outputs": [
    {
     "data": {
      "text/html": [
       "<div>\n",
       "<style scoped>\n",
       "    .dataframe tbody tr th:only-of-type {\n",
       "        vertical-align: middle;\n",
       "    }\n",
       "\n",
       "    .dataframe tbody tr th {\n",
       "        vertical-align: top;\n",
       "    }\n",
       "\n",
       "    .dataframe thead th {\n",
       "        text-align: right;\n",
       "    }\n",
       "</style>\n",
       "<table border=\"1\" class=\"dataframe\">\n",
       "  <thead>\n",
       "    <tr style=\"text-align: right;\">\n",
       "      <th></th>\n",
       "      <th>AAPL</th>\n",
       "      <th>MSFT</th>\n",
       "      <th>GOOG</th>\n",
       "      <th>FB</th>\n",
       "      <th>AMZN</th>\n",
       "    </tr>\n",
       "    <tr>\n",
       "      <th>Date</th>\n",
       "      <th></th>\n",
       "      <th></th>\n",
       "      <th></th>\n",
       "      <th></th>\n",
       "      <th></th>\n",
       "    </tr>\n",
       "  </thead>\n",
       "  <tbody>\n",
       "    <tr>\n",
       "      <th>2018-01-02</th>\n",
       "      <td>NaN</td>\n",
       "      <td>NaN</td>\n",
       "      <td>NaN</td>\n",
       "      <td>NaN</td>\n",
       "      <td>NaN</td>\n",
       "    </tr>\n",
       "    <tr>\n",
       "      <th>2018-01-03</th>\n",
       "      <td>-0.000174</td>\n",
       "      <td>0.004654</td>\n",
       "      <td>0.016413</td>\n",
       "      <td>0.017914</td>\n",
       "      <td>0.012775</td>\n",
       "    </tr>\n",
       "    <tr>\n",
       "      <th>2018-01-04</th>\n",
       "      <td>0.004645</td>\n",
       "      <td>0.008801</td>\n",
       "      <td>0.003621</td>\n",
       "      <td>-0.001841</td>\n",
       "      <td>0.004476</td>\n",
       "    </tr>\n",
       "    <tr>\n",
       "      <th>2018-01-05</th>\n",
       "      <td>0.011385</td>\n",
       "      <td>0.012398</td>\n",
       "      <td>0.014571</td>\n",
       "      <td>0.013671</td>\n",
       "      <td>0.016163</td>\n",
       "    </tr>\n",
       "    <tr>\n",
       "      <th>2018-01-08</th>\n",
       "      <td>-0.003714</td>\n",
       "      <td>0.001020</td>\n",
       "      <td>0.004273</td>\n",
       "      <td>0.007653</td>\n",
       "      <td>0.014425</td>\n",
       "    </tr>\n",
       "  </tbody>\n",
       "</table>\n",
       "</div>"
      ],
      "text/plain": [
       "                AAPL      MSFT      GOOG        FB      AMZN\n",
       "Date                                                        \n",
       "2018-01-02       NaN       NaN       NaN       NaN       NaN\n",
       "2018-01-03 -0.000174  0.004654  0.016413  0.017914  0.012775\n",
       "2018-01-04  0.004645  0.008801  0.003621 -0.001841  0.004476\n",
       "2018-01-05  0.011385  0.012398  0.014571  0.013671  0.016163\n",
       "2018-01-08 -0.003714  0.001020  0.004273  0.007653  0.014425"
      ]
     },
     "execution_count": 3,
     "metadata": {},
     "output_type": "execute_result"
    }
   ],
   "source": [
    "# Daily Returns\n",
    "daily_returns = tech_stocks.pct_change()\n",
    "daily_returns.head()"
   ]
  },
  {
   "cell_type": "markdown",
   "metadata": {},
   "source": [
    "### Calcualte standard deviation using `std` function"
   ]
  },
  {
   "cell_type": "code",
   "execution_count": 4,
   "metadata": {},
   "outputs": [
    {
     "data": {
      "text/plain": [
       "AAPL    0.018106\n",
       "MSFT    0.017839\n",
       "GOOG    0.017724\n",
       "FB      0.023949\n",
       "AMZN    0.022768\n",
       "dtype: float64"
      ]
     },
     "execution_count": 4,
     "metadata": {},
     "output_type": "execute_result"
    }
   ],
   "source": [
    "# Daily Standard Deviations\n",
    "daily_std = daily_returns.std()\n",
    "daily_std.head()"
   ]
  },
  {
   "cell_type": "markdown",
   "metadata": {},
   "source": [
    "### Sort standard deviation in desc order"
   ]
  },
  {
   "cell_type": "code",
   "execution_count": 5,
   "metadata": {},
   "outputs": [
    {
     "data": {
      "text/plain": [
       "FB      0.023949\n",
       "AMZN    0.022768\n",
       "AAPL    0.018106\n",
       "MSFT    0.017839\n",
       "GOOG    0.017724\n",
       "dtype: float64"
      ]
     },
     "execution_count": 5,
     "metadata": {},
     "output_type": "execute_result"
    }
   ],
   "source": [
    "# Identify the stock with the most risk\n",
    "daily_std = daily_std.sort_values(ascending=False)\n",
    "daily_std.head()"
   ]
  },
  {
   "cell_type": "markdown",
   "metadata": {},
   "source": [
    "### Calculate the annualized standard deviation"
   ]
  },
  {
   "cell_type": "code",
   "execution_count": 6,
   "metadata": {},
   "outputs": [
    {
     "data": {
      "text/plain": [
       "FB      0.380172\n",
       "AMZN    0.361434\n",
       "AAPL    0.287428\n",
       "MSFT    0.283180\n",
       "GOOG    0.281354\n",
       "dtype: float64"
      ]
     },
     "execution_count": 6,
     "metadata": {},
     "output_type": "execute_result"
    }
   ],
   "source": [
    "# Calculate the annualized standard deviation (252 trading days)\n",
    "annualized_std = daily_std * np.sqrt(252)\n",
    "annualized_std.head()"
   ]
  },
  {
   "cell_type": "markdown",
   "metadata": {},
   "source": [
    "### Plot standard deviation for 3 different portfolios to determine which has the most risk"
   ]
  },
  {
   "cell_type": "code",
   "execution_count": 7,
   "metadata": {},
   "outputs": [
    {
     "data": {
      "text/plain": [
       "<matplotlib.axes._subplots.AxesSubplot at 0x25d435cce50>"
      ]
     },
     "execution_count": 7,
     "metadata": {},
     "output_type": "execute_result"
    },
    {
     "data": {
      "image/png": "[encoded data removed]",
      "text/plain": [
       "<Figure size 432x288 with 1 Axes>"
      ]
     },
     "metadata": {
      "needs_background": "light"
     },
     "output_type": "display_data"
    }
   ],
   "source": [
    "portfolio_a_std = np.random.normal(scale=0.5, size=10000)\n",
    "portfolio_b_std = np.random.normal(scale=1.0, size=10000)\n",
    "portfolio_c_std = np.random.normal(scale=1.5, size=10000)\n",
    "\n",
    "portfolio_std = pd.DataFrame({\n",
    "    \"0.5\": portfolio_a_std,\n",
    "    \"1.0\": portfolio_b_std,\n",
    "    \"1.5\": portfolio_c_std\n",
    "})\n",
    "\n",
    "portfolio_std.plot.hist(stacked=True, bins=100)"
   ]
  },
  {
   "cell_type": "markdown",
   "metadata": {},
   "source": [
    "### Plot standard deviation using box plot"
   ]
  },
  {
   "cell_type": "code",
   "execution_count": 8,
   "metadata": {},
   "outputs": [
    {
     "data": {
      "text/plain": [
       "<matplotlib.axes._subplots.AxesSubplot at 0x25d43fc2bb0>"
      ]
     },
     "execution_count": 8,
     "metadata": {},
     "output_type": "execute_result"
    },
    {
     "data": {
      "image/png": "[encoded data removed]",
      "text/plain": [
       "<Figure size 432x288 with 1 Axes>"
      ]
     },
     "metadata": {
      "needs_background": "light"
     },
     "output_type": "display_data"
    }
   ],
   "source": [
    "# Plot box plot\n",
    "portfolio_std.plot.box()"
   ]
  }
 ],
 "metadata": {
  "kernelspec": {
   "display_name": "Python 3",
   "language": "python",
   "name": "python3"
  },
  "language_info": {
   "codemirror_mode": {
    "name": "ipython",
    "version": 3
   },
   "file_extension": ".py",
   "mimetype": "text/x-python",
   "name": "python",
   "nbconvert_exporter": "python",
   "pygments_lexer": "ipython3",
   "version": "3.8.3"
  }
 },
 "nbformat": 4,
 "nbformat_minor": 4
}
