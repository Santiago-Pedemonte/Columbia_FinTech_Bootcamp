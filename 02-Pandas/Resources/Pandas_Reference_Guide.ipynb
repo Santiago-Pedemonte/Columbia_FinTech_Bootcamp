{
 "cells": [
  {
   "cell_type": "markdown",
   "metadata": {},
   "source": [
    "# Pandas Reference Guide\n",
    "\n",
    "Pandas is a Python library that contains structures and functions useful for data exploration and analysis. The purpose of this document is to function as a quick reference guide for many of the common use cases used within the Pandas library.\n",
    "\n",
    "Table of Contents:\n",
    "\n",
    "1. [Creating Pandas Data Structures](#Creating_Pandas_Data_Structures)\n",
    "2. [Accessing Data Within Pandas DataFrames](#Accessing_Data_Within_Pandas_DataFrames)\n",
    "3. [Common DataFrame Functions](#Common_DataFrame_Functions)\n",
    "4. [Cleaning Data Within Pandas DataFrames](#Cleaning_Data_Within_Pandas_DataFrames)\n",
    "5. [Manipulating Data Within Pandas DataFrames](#Manipulating_Data_Within_Pandas_DataFrames)\n",
    "6. [Common FinTech Use Cases With Pandas DataFrames](#Common_FinTech_Use_Cases_With_Pandas_DataFrames)\n",
    "\n",
    "Check out [this link](https://pandas.pydata.org/pandas-docs/stable/) for more info."
   ]
  },
  {
   "cell_type": "markdown",
   "metadata": {},
   "source": [
    "---"
   ]
  },
  {
   "cell_type": "markdown",
   "metadata": {},
   "source": [
    "## <a id='Creating_Pandas_Data_Structures'>Creating Pandas Data Structures</a>\n",
    "\n",
    "The two main data structures Pandas utilizes are **Series** and **DataFrames**.\n",
    "\n",
    "Section Breakdown:\n",
    "\n",
    "1. [Pandas Series](#Pandas_Series)\n",
    "2. [Pandas DataFrames](#Pandas_DataFrames)"
   ]
  },
  {
   "cell_type": "markdown",
   "metadata": {},
   "source": [
    "### <a id='Pandas_Series'>Pandas Series</a>\n",
    "\n",
    "- 1-D data structure (similar to Python lists, or an Excel column)\n",
    "- Can contain multiple data types, but usually should contain data of one type\n",
    "- Create a Pandas Series by passing in a **list** to **pd.Series()**\n",
    "- By default, a Pandas Series will have an index that starts at 0; can access specific values using this index\n",
    "- Learn more: https://pandas.pydata.org/pandas-docs/stable/generated/pandas.Series.html"
   ]
  },
  {
   "cell_type": "code",
   "execution_count": 1,
   "metadata": {},
   "outputs": [],
   "source": [
    "# Import Pandas and NumPy libraries\n",
    "import pandas as pd\n",
    "import numpy as np"
   ]
  },
  {
   "cell_type": "code",
   "execution_count": 2,
   "metadata": {},
   "outputs": [
    {
     "data": {
      "text/plain": [
       "0    100\n",
       "1    200\n",
       "2    400\n",
       "3    600\n",
       "4    900\n",
       "dtype: int64"
      ]
     },
     "execution_count": 2,
     "metadata": {},
     "output_type": "execute_result"
    }
   ],
   "source": [
    "# Creating a Pandas Series\n",
    "my_list = [100, 200, 400, 600, 900]\n",
    "my_series = pd.Series(my_list)\n",
    "my_series"
   ]
  },
  {
   "cell_type": "code",
   "execution_count": 3,
   "metadata": {},
   "outputs": [
    {
     "name": "stdout",
     "output_type": "stream",
     "text": [
      "200\n",
      "600\n"
     ]
    }
   ],
   "source": [
    "# Accessing specific values within Series\n",
    "print(my_series[1]) # will print 200\n",
    "print(my_series[3]) # will print 600"
   ]
  },
  {
   "cell_type": "markdown",
   "metadata": {},
   "source": [
    "### <a id='Pandas_DataFrames'>Pandas DataFrames</a>\n",
    "\n",
    "* 2-D data structure with labeled rows and columns (similar to tables in Excel)\n",
    "  * For example: if we were looking at traffic violations data for New York City, each row could represent a violation instance and each column could represent a specific attribution of a violation (date, amount of fine, location, etc.)\n",
    "* Create a Pandas Dataframe by using **pd.DataFrame()**, and passing in either a **list of dictionaries**, or a **dictionary with lists**\n",
    "* A lot of data in the real world will be provided in tabular format which can be easily translated into DataFrames\n",
    "* Learn more: https://pandas.pydata.org/pandas-docs/stable/generated/pandas.DataFrame.html"
   ]
  },
  {
   "cell_type": "code",
   "execution_count": 4,
   "metadata": {},
   "outputs": [
    {
     "data": {
      "text/html": [
       "<div>\n",
       "<style scoped>\n",
       "    .dataframe tbody tr th:only-of-type {\n",
       "        vertical-align: middle;\n",
       "    }\n",
       "\n",
       "    .dataframe tbody tr th {\n",
       "        vertical-align: top;\n",
       "    }\n",
       "\n",
       "    .dataframe thead th {\n",
       "        text-align: right;\n",
       "    }\n",
       "</style>\n",
       "<table border=\"1\" class=\"dataframe\">\n",
       "  <thead>\n",
       "    <tr style=\"text-align: right;\">\n",
       "      <th></th>\n",
       "      <th>account_balance</th>\n",
       "      <th>id</th>\n",
       "      <th>name</th>\n",
       "    </tr>\n",
       "  </thead>\n",
       "  <tbody>\n",
       "    <tr>\n",
       "      <th>0</th>\n",
       "      <td>500.14</td>\n",
       "      <td>1</td>\n",
       "      <td>Bob</td>\n",
       "    </tr>\n",
       "    <tr>\n",
       "      <th>1</th>\n",
       "      <td>300.42</td>\n",
       "      <td>2</td>\n",
       "      <td>Amanda</td>\n",
       "    </tr>\n",
       "    <tr>\n",
       "      <th>2</th>\n",
       "      <td>943.54</td>\n",
       "      <td>3</td>\n",
       "      <td>Jill</td>\n",
       "    </tr>\n",
       "    <tr>\n",
       "      <th>3</th>\n",
       "      <td>112.53</td>\n",
       "      <td>4</td>\n",
       "      <td>Dylan</td>\n",
       "    </tr>\n",
       "    <tr>\n",
       "      <th>4</th>\n",
       "      <td>895.51</td>\n",
       "      <td>5</td>\n",
       "      <td>Alex</td>\n",
       "    </tr>\n",
       "  </tbody>\n",
       "</table>\n",
       "</div>"
      ],
      "text/plain": [
       "   account_balance  id    name\n",
       "0           500.14   1     Bob\n",
       "1           300.42   2  Amanda\n",
       "2           943.54   3    Jill\n",
       "3           112.53   4   Dylan\n",
       "4           895.51   5    Alex"
      ]
     },
     "execution_count": 4,
     "metadata": {},
     "output_type": "execute_result"
    }
   ],
   "source": [
    "# Creating a Pandas DataFrame by passing in a LIST OF DICTIONARIES\n",
    "# Each value in the list is a dictionary\n",
    "# Imagine that each dictionary represents a row of data in our eventual DataFrame\n",
    "# Each dictionary should have the same keys, since these keys dictate the column headers of our DataFrame\n",
    "my_list = [\n",
    "    {\"id\": 1, \"name\": \"Bob\", \"account_balance\": 500.14},\n",
    "    {\"id\": 2, \"name\": \"Amanda\", \"account_balance\": 300.42},\n",
    "    {\"id\": 3, \"name\": \"Jill\", \"account_balance\": 943.54},\n",
    "    {\"id\": 4, \"name\": \"Dylan\", \"account_balance\": 112.53},\n",
    "    {\"id\": 5, \"name\": \"Alex\", \"account_balance\": 895.51},\n",
    "]\n",
    "\n",
    "my_df_1 = pd.DataFrame(my_list)\n",
    "my_df_1"
   ]
  },
  {
   "cell_type": "code",
   "execution_count": 5,
   "metadata": {},
   "outputs": [
    {
     "data": {
      "text/html": [
       "<div>\n",
       "<style scoped>\n",
       "    .dataframe tbody tr th:only-of-type {\n",
       "        vertical-align: middle;\n",
       "    }\n",
       "\n",
       "    .dataframe tbody tr th {\n",
       "        vertical-align: top;\n",
       "    }\n",
       "\n",
       "    .dataframe thead th {\n",
       "        text-align: right;\n",
       "    }\n",
       "</style>\n",
       "<table border=\"1\" class=\"dataframe\">\n",
       "  <thead>\n",
       "    <tr style=\"text-align: right;\">\n",
       "      <th></th>\n",
       "      <th>id</th>\n",
       "      <th>name</th>\n",
       "      <th>account_balance</th>\n",
       "    </tr>\n",
       "  </thead>\n",
       "  <tbody>\n",
       "    <tr>\n",
       "      <th>0</th>\n",
       "      <td>1</td>\n",
       "      <td>Bob</td>\n",
       "      <td>500.14</td>\n",
       "    </tr>\n",
       "    <tr>\n",
       "      <th>1</th>\n",
       "      <td>2</td>\n",
       "      <td>Amanda</td>\n",
       "      <td>300.42</td>\n",
       "    </tr>\n",
       "    <tr>\n",
       "      <th>2</th>\n",
       "      <td>3</td>\n",
       "      <td>Jill</td>\n",
       "      <td>943.54</td>\n",
       "    </tr>\n",
       "    <tr>\n",
       "      <th>3</th>\n",
       "      <td>4</td>\n",
       "      <td>Dylan</td>\n",
       "      <td>112.53</td>\n",
       "    </tr>\n",
       "    <tr>\n",
       "      <th>4</th>\n",
       "      <td>5</td>\n",
       "      <td>Alex</td>\n",
       "      <td>895.51</td>\n",
       "    </tr>\n",
       "  </tbody>\n",
       "</table>\n",
       "</div>"
      ],
      "text/plain": [
       "   id    name  account_balance\n",
       "0   1     Bob           500.14\n",
       "1   2  Amanda           300.42\n",
       "2   3    Jill           943.54\n",
       "3   4   Dylan           112.53\n",
       "4   5    Alex           895.51"
      ]
     },
     "execution_count": 5,
     "metadata": {},
     "output_type": "execute_result"
    }
   ],
   "source": [
    "# Re-create the previous Pandas DataFrame, passing in a DICTIONARY WITH LISTS\n",
    "# The keys of the dictionary represent the column headers of our eventual DataFrame\n",
    "# The lists contain the data for each column\n",
    "my_dict = {\n",
    "    \"id\": [1, 2, 3, 4, 5],\n",
    "    \"name\": [\"Bob\", \"Amanda\", \"Jill\", \"Dylan\", \"Alex\"],\n",
    "    \"account_balance\": [500.14, 300.42, 943.54, 112.53, 895.51],\n",
    "}\n",
    "\n",
    "my_df_2 = pd.DataFrame(my_dict)\n",
    "my_df_2"
   ]
  },
  {
   "cell_type": "code",
   "execution_count": 6,
   "metadata": {},
   "outputs": [
    {
     "data": {
      "text/plain": [
       "0    500.14\n",
       "1    300.42\n",
       "2    943.54\n",
       "3    112.53\n",
       "4    895.51\n",
       "Name: account_balance, dtype: float64"
      ]
     },
     "execution_count": 6,
     "metadata": {},
     "output_type": "execute_result"
    }
   ],
   "source": [
    "# Select a single column from a DataFrame by passing in the column's name into square brackets\n",
    "my_df_2[\"account_balance\"]"
   ]
  },
  {
   "cell_type": "code",
   "execution_count": 7,
   "metadata": {},
   "outputs": [
    {
     "data": {
      "text/plain": [
       "0       Bob\n",
       "1    Amanda\n",
       "2      Jill\n",
       "3     Dylan\n",
       "4      Alex\n",
       "Name: name, dtype: object"
      ]
     },
     "execution_count": 7,
     "metadata": {},
     "output_type": "execute_result"
    }
   ],
   "source": [
    "# You can also select a single column and assign it to another variable\n",
    "names_col = my_df_2[\"name\"]\n",
    "names_col"
   ]
  },
  {
   "cell_type": "code",
   "execution_count": 8,
   "metadata": {},
   "outputs": [
    {
     "name": "stdout",
     "output_type": "stream",
     "text": [
      "Amanda\n"
     ]
    }
   ],
   "source": [
    "# Now names_col contains only the \"names\" column\n",
    "print(names_col[1])"
   ]
  },
  {
   "cell_type": "code",
   "execution_count": 9,
   "metadata": {},
   "outputs": [
    {
     "data": {
      "text/html": [
       "<div>\n",
       "<style scoped>\n",
       "    .dataframe tbody tr th:only-of-type {\n",
       "        vertical-align: middle;\n",
       "    }\n",
       "\n",
       "    .dataframe tbody tr th {\n",
       "        vertical-align: top;\n",
       "    }\n",
       "\n",
       "    .dataframe thead th {\n",
       "        text-align: right;\n",
       "    }\n",
       "</style>\n",
       "<table border=\"1\" class=\"dataframe\">\n",
       "  <thead>\n",
       "    <tr style=\"text-align: right;\">\n",
       "      <th></th>\n",
       "      <th>name</th>\n",
       "      <th>account_balance</th>\n",
       "    </tr>\n",
       "  </thead>\n",
       "  <tbody>\n",
       "    <tr>\n",
       "      <th>0</th>\n",
       "      <td>Bob</td>\n",
       "      <td>500.14</td>\n",
       "    </tr>\n",
       "    <tr>\n",
       "      <th>1</th>\n",
       "      <td>Amanda</td>\n",
       "      <td>300.42</td>\n",
       "    </tr>\n",
       "    <tr>\n",
       "      <th>2</th>\n",
       "      <td>Jill</td>\n",
       "      <td>943.54</td>\n",
       "    </tr>\n",
       "    <tr>\n",
       "      <th>3</th>\n",
       "      <td>Dylan</td>\n",
       "      <td>112.53</td>\n",
       "    </tr>\n",
       "    <tr>\n",
       "      <th>4</th>\n",
       "      <td>Alex</td>\n",
       "      <td>895.51</td>\n",
       "    </tr>\n",
       "  </tbody>\n",
       "</table>\n",
       "</div>"
      ],
      "text/plain": [
       "     name  account_balance\n",
       "0     Bob           500.14\n",
       "1  Amanda           300.42\n",
       "2    Jill           943.54\n",
       "3   Dylan           112.53\n",
       "4    Alex           895.51"
      ]
     },
     "execution_count": 9,
     "metadata": {},
     "output_type": "execute_result"
    }
   ],
   "source": [
    "# Select multiple columns from a DataFrame by passing in a list of the names of the columns\n",
    "my_df_2[[\"name\", \"account_balance\"]]"
   ]
  },
  {
   "cell_type": "markdown",
   "metadata": {},
   "source": [
    "---"
   ]
  },
  {
   "cell_type": "markdown",
   "metadata": {},
   "source": [
    "## <a id='Accessing_Data_Within_Pandas_DataFrames'>Accessing Data Within Pandas DataFrames</a>\n",
    "\n",
    "Two functions exist to make life easier when trying to slice and dice DataFrames: **.iloc[ ]** and **.loc[ ]**\n",
    "\n",
    "Section Breakdown:\n",
    "\n",
    "1. [iloc](#iloc)\n",
    "2. [loc](#loc)"
   ]
  },
  {
   "cell_type": "markdown",
   "metadata": {},
   "source": [
    "### <a id='iloc'>.iloc[*rows*, *columns*]</a>\n",
    "\n",
    "* Uses the *numeric* indexes of a dataframe's rows and columns to return specific values\n",
    "* Uses single values to just get one row/column\n",
    "* Uses a colon (:) to get all rows/columns\n",
    "* Uses a list to get specific rows/columns\n",
    "* Uses a range(x:y) to get a range of rows/columns"
   ]
  },
  {
   "cell_type": "code",
   "execution_count": 10,
   "metadata": {},
   "outputs": [
    {
     "data": {
      "text/html": [
       "<div>\n",
       "<style scoped>\n",
       "    .dataframe tbody tr th:only-of-type {\n",
       "        vertical-align: middle;\n",
       "    }\n",
       "\n",
       "    .dataframe tbody tr th {\n",
       "        vertical-align: top;\n",
       "    }\n",
       "\n",
       "    .dataframe thead th {\n",
       "        text-align: right;\n",
       "    }\n",
       "</style>\n",
       "<table border=\"1\" class=\"dataframe\">\n",
       "  <thead>\n",
       "    <tr style=\"text-align: right;\">\n",
       "      <th></th>\n",
       "      <th>order_id</th>\n",
       "      <th>price</th>\n",
       "      <th>purchase_category</th>\n",
       "      <th>clicked_ad</th>\n",
       "    </tr>\n",
       "  </thead>\n",
       "  <tbody>\n",
       "    <tr>\n",
       "      <th>0</th>\n",
       "      <td>1</td>\n",
       "      <td>13.50</td>\n",
       "      <td>Apparel</td>\n",
       "      <td>True</td>\n",
       "    </tr>\n",
       "    <tr>\n",
       "      <th>1</th>\n",
       "      <td>2</td>\n",
       "      <td>9.99</td>\n",
       "      <td>Sports</td>\n",
       "      <td>True</td>\n",
       "    </tr>\n",
       "    <tr>\n",
       "      <th>2</th>\n",
       "      <td>3</td>\n",
       "      <td>12.00</td>\n",
       "      <td>Toys</td>\n",
       "      <td>False</td>\n",
       "    </tr>\n",
       "    <tr>\n",
       "      <th>3</th>\n",
       "      <td>4</td>\n",
       "      <td>29.99</td>\n",
       "      <td>Apparel</td>\n",
       "      <td>True</td>\n",
       "    </tr>\n",
       "    <tr>\n",
       "      <th>4</th>\n",
       "      <td>5</td>\n",
       "      <td>14.99</td>\n",
       "      <td>Apparel</td>\n",
       "      <td>False</td>\n",
       "    </tr>\n",
       "    <tr>\n",
       "      <th>5</th>\n",
       "      <td>6</td>\n",
       "      <td>7.99</td>\n",
       "      <td>Household</td>\n",
       "      <td>True</td>\n",
       "    </tr>\n",
       "    <tr>\n",
       "      <th>6</th>\n",
       "      <td>7</td>\n",
       "      <td>3.49</td>\n",
       "      <td>Household</td>\n",
       "      <td>True</td>\n",
       "    </tr>\n",
       "    <tr>\n",
       "      <th>7</th>\n",
       "      <td>8</td>\n",
       "      <td>10.00</td>\n",
       "      <td>Toys</td>\n",
       "      <td>False</td>\n",
       "    </tr>\n",
       "    <tr>\n",
       "      <th>8</th>\n",
       "      <td>9</td>\n",
       "      <td>9.99</td>\n",
       "      <td>Sports</td>\n",
       "      <td>False</td>\n",
       "    </tr>\n",
       "    <tr>\n",
       "      <th>9</th>\n",
       "      <td>10</td>\n",
       "      <td>17.99</td>\n",
       "      <td>Sports</td>\n",
       "      <td>True</td>\n",
       "    </tr>\n",
       "    <tr>\n",
       "      <th>10</th>\n",
       "      <td>11</td>\n",
       "      <td>20.00</td>\n",
       "      <td>Apparel</td>\n",
       "      <td>True</td>\n",
       "    </tr>\n",
       "    <tr>\n",
       "      <th>11</th>\n",
       "      <td>12</td>\n",
       "      <td>21.00</td>\n",
       "      <td>Household</td>\n",
       "      <td>True</td>\n",
       "    </tr>\n",
       "    <tr>\n",
       "      <th>12</th>\n",
       "      <td>13</td>\n",
       "      <td>14.99</td>\n",
       "      <td>Apparel</td>\n",
       "      <td>False</td>\n",
       "    </tr>\n",
       "  </tbody>\n",
       "</table>\n",
       "</div>"
      ],
      "text/plain": [
       "    order_id  price purchase_category  clicked_ad\n",
       "0          1  13.50           Apparel        True\n",
       "1          2   9.99            Sports        True\n",
       "2          3  12.00              Toys       False\n",
       "3          4  29.99           Apparel        True\n",
       "4          5  14.99           Apparel       False\n",
       "5          6   7.99         Household        True\n",
       "6          7   3.49         Household        True\n",
       "7          8  10.00              Toys       False\n",
       "8          9   9.99            Sports       False\n",
       "9         10  17.99            Sports        True\n",
       "10        11  20.00           Apparel        True\n",
       "11        12  21.00         Household        True\n",
       "12        13  14.99           Apparel       False"
      ]
     },
     "execution_count": 10,
     "metadata": {},
     "output_type": "execute_result"
    }
   ],
   "source": [
    "# Create a new DataFrame that represents purchase data from an online retailer\n",
    "my_dict_2 = {\n",
    "    \"order_id\": [1, 2, 3, 4, 5, 6, 7, 8, 9, 10, 11, 12, 13],\n",
    "    \"price\": [\n",
    "        13.50,\n",
    "        9.99,\n",
    "        12.00,\n",
    "        29.99,\n",
    "        14.99,\n",
    "        7.99,\n",
    "        3.49,\n",
    "        10.00,\n",
    "        9.99,\n",
    "        17.99,\n",
    "        20.00,\n",
    "        21.00,\n",
    "        14.99,\n",
    "    ],\n",
    "    \"purchase_category\": [\n",
    "        \"Apparel\",\n",
    "        \"Sports\",\n",
    "        \"Toys\",\n",
    "        \"Apparel\",\n",
    "        \"Apparel\",\n",
    "        \"Household\",\n",
    "        \"Household\",\n",
    "        \"Toys\",\n",
    "        \"Sports\",\n",
    "        \"Sports\",\n",
    "        \"Apparel\",\n",
    "        \"Household\",\n",
    "        \"Apparel\",\n",
    "    ],\n",
    "    \"clicked_ad\": [\n",
    "        True,\n",
    "        True,\n",
    "        False,\n",
    "        True,\n",
    "        False,\n",
    "        True,\n",
    "        True,\n",
    "        False,\n",
    "        False,\n",
    "        True,\n",
    "        True,\n",
    "        True,\n",
    "        False,\n",
    "    ],\n",
    "}\n",
    "\n",
    "purchase_df = pd.DataFrame(my_dict_2)\n",
    "purchase_df"
   ]
  },
  {
   "cell_type": "code",
   "execution_count": 11,
   "metadata": {},
   "outputs": [
    {
     "data": {
      "text/plain": [
       "0     13.50\n",
       "1      9.99\n",
       "2     12.00\n",
       "3     29.99\n",
       "4     14.99\n",
       "5      7.99\n",
       "6      3.49\n",
       "7     10.00\n",
       "8      9.99\n",
       "9     17.99\n",
       "10    20.00\n",
       "11    21.00\n",
       "12    14.99\n",
       "Name: price, dtype: float64"
      ]
     },
     "execution_count": 11,
     "metadata": {},
     "output_type": "execute_result"
    }
   ],
   "source": [
    "# To return ALL ROWS and COLUMN 2 (order_id)\n",
    "# The colon before the comma in .iloc[] means we want ALL rows\n",
    "# The 1 after the comma means we want the column at index 1\n",
    "purchase_df.iloc[:, 1]"
   ]
  },
  {
   "cell_type": "code",
   "execution_count": 12,
   "metadata": {},
   "outputs": [
    {
     "data": {
      "text/html": [
       "<div>\n",
       "<style scoped>\n",
       "    .dataframe tbody tr th:only-of-type {\n",
       "        vertical-align: middle;\n",
       "    }\n",
       "\n",
       "    .dataframe tbody tr th {\n",
       "        vertical-align: top;\n",
       "    }\n",
       "\n",
       "    .dataframe thead th {\n",
       "        text-align: right;\n",
       "    }\n",
       "</style>\n",
       "<table border=\"1\" class=\"dataframe\">\n",
       "  <thead>\n",
       "    <tr style=\"text-align: right;\">\n",
       "      <th></th>\n",
       "      <th>order_id</th>\n",
       "      <th>price</th>\n",
       "      <th>purchase_category</th>\n",
       "      <th>clicked_ad</th>\n",
       "    </tr>\n",
       "  </thead>\n",
       "  <tbody>\n",
       "    <tr>\n",
       "      <th>0</th>\n",
       "      <td>1</td>\n",
       "      <td>13.50</td>\n",
       "      <td>Apparel</td>\n",
       "      <td>True</td>\n",
       "    </tr>\n",
       "    <tr>\n",
       "      <th>1</th>\n",
       "      <td>2</td>\n",
       "      <td>9.99</td>\n",
       "      <td>Sports</td>\n",
       "      <td>True</td>\n",
       "    </tr>\n",
       "    <tr>\n",
       "      <th>2</th>\n",
       "      <td>3</td>\n",
       "      <td>12.00</td>\n",
       "      <td>Toys</td>\n",
       "      <td>False</td>\n",
       "    </tr>\n",
       "    <tr>\n",
       "      <th>3</th>\n",
       "      <td>4</td>\n",
       "      <td>29.99</td>\n",
       "      <td>Apparel</td>\n",
       "      <td>True</td>\n",
       "    </tr>\n",
       "  </tbody>\n",
       "</table>\n",
       "</div>"
      ],
      "text/plain": [
       "   order_id  price purchase_category  clicked_ad\n",
       "0         1  13.50           Apparel        True\n",
       "1         2   9.99            Sports        True\n",
       "2         3  12.00              Toys       False\n",
       "3         4  29.99           Apparel        True"
      ]
     },
     "execution_count": 12,
     "metadata": {},
     "output_type": "execute_result"
    }
   ],
   "source": [
    "# To return ROWS 1 THROUGH 4 (including 4), and ALL COLUMNS\n",
    "purchase_df.iloc[0:4, :]"
   ]
  },
  {
   "cell_type": "code",
   "execution_count": 13,
   "metadata": {},
   "outputs": [
    {
     "data": {
      "text/html": [
       "<div>\n",
       "<style scoped>\n",
       "    .dataframe tbody tr th:only-of-type {\n",
       "        vertical-align: middle;\n",
       "    }\n",
       "\n",
       "    .dataframe tbody tr th {\n",
       "        vertical-align: top;\n",
       "    }\n",
       "\n",
       "    .dataframe thead th {\n",
       "        text-align: right;\n",
       "    }\n",
       "</style>\n",
       "<table border=\"1\" class=\"dataframe\">\n",
       "  <thead>\n",
       "    <tr style=\"text-align: right;\">\n",
       "      <th></th>\n",
       "      <th>price</th>\n",
       "      <th>purchase_category</th>\n",
       "      <th>clicked_ad</th>\n",
       "    </tr>\n",
       "  </thead>\n",
       "  <tbody>\n",
       "    <tr>\n",
       "      <th>1</th>\n",
       "      <td>9.99</td>\n",
       "      <td>Sports</td>\n",
       "      <td>True</td>\n",
       "    </tr>\n",
       "    <tr>\n",
       "      <th>2</th>\n",
       "      <td>12.00</td>\n",
       "      <td>Toys</td>\n",
       "      <td>False</td>\n",
       "    </tr>\n",
       "    <tr>\n",
       "      <th>4</th>\n",
       "      <td>14.99</td>\n",
       "      <td>Apparel</td>\n",
       "      <td>False</td>\n",
       "    </tr>\n",
       "  </tbody>\n",
       "</table>\n",
       "</div>"
      ],
      "text/plain": [
       "   price purchase_category  clicked_ad\n",
       "1   9.99            Sports        True\n",
       "2  12.00              Toys       False\n",
       "4  14.99           Apparel       False"
      ]
     },
     "execution_count": 13,
     "metadata": {},
     "output_type": "execute_result"
    }
   ],
   "source": [
    "# To returns ROWS 2, 3, AND 5, and COLUMNS 2 THROUGH 4 (including 4)\n",
    "purchase_df.iloc[[1, 2, 4], 1:4]"
   ]
  },
  {
   "cell_type": "markdown",
   "metadata": {},
   "source": [
    "### <a id='loc'>.loc[*rows*, *columns*]</a>\n",
    "\n",
    "* Uses the *named* indexes of a DataFrame's rows and columns to return specific values.\n",
    "* The general structure for **.loc[]** is the same as that for **.iloc[]**, except named indexes are used instead of numeric indexes; a column's named index is simply its **column name**.\n",
    "* By default, when we create a DataFrame, a row's index is numeric and starts at 0. You can set a named index for a DataFrame's rows by using **.set_index()**."
   ]
  },
  {
   "cell_type": "code",
   "execution_count": 14,
   "metadata": {},
   "outputs": [
    {
     "data": {
      "text/html": [
       "<div>\n",
       "<style scoped>\n",
       "    .dataframe tbody tr th:only-of-type {\n",
       "        vertical-align: middle;\n",
       "    }\n",
       "\n",
       "    .dataframe tbody tr th {\n",
       "        vertical-align: top;\n",
       "    }\n",
       "\n",
       "    .dataframe thead th {\n",
       "        text-align: right;\n",
       "    }\n",
       "</style>\n",
       "<table border=\"1\" class=\"dataframe\">\n",
       "  <thead>\n",
       "    <tr style=\"text-align: right;\">\n",
       "      <th></th>\n",
       "      <th>first_name</th>\n",
       "      <th>last_name</th>\n",
       "      <th>age</th>\n",
       "      <th>credit_score</th>\n",
       "    </tr>\n",
       "  </thead>\n",
       "  <tbody>\n",
       "    <tr>\n",
       "      <th>0</th>\n",
       "      <td>Bill</td>\n",
       "      <td>Smith</td>\n",
       "      <td>25</td>\n",
       "      <td>721</td>\n",
       "    </tr>\n",
       "    <tr>\n",
       "      <th>1</th>\n",
       "      <td>James</td>\n",
       "      <td>Alvarez</td>\n",
       "      <td>34</td>\n",
       "      <td>683</td>\n",
       "    </tr>\n",
       "    <tr>\n",
       "      <th>2</th>\n",
       "      <td>Tyler</td>\n",
       "      <td>Dant</td>\n",
       "      <td>52</td>\n",
       "      <td>761</td>\n",
       "    </tr>\n",
       "    <tr>\n",
       "      <th>3</th>\n",
       "      <td>Matt</td>\n",
       "      <td>May</td>\n",
       "      <td>26</td>\n",
       "      <td>641</td>\n",
       "    </tr>\n",
       "    <tr>\n",
       "      <th>4</th>\n",
       "      <td>Jon</td>\n",
       "      <td>Livingston</td>\n",
       "      <td>43</td>\n",
       "      <td>602</td>\n",
       "    </tr>\n",
       "  </tbody>\n",
       "</table>\n",
       "</div>"
      ],
      "text/plain": [
       "  first_name   last_name  age  credit_score\n",
       "0       Bill       Smith   25           721\n",
       "1      James     Alvarez   34           683\n",
       "2      Tyler        Dant   52           761\n",
       "3       Matt         May   26           641\n",
       "4        Jon  Livingston   43           602"
      ]
     },
     "execution_count": 14,
     "metadata": {},
     "output_type": "execute_result"
    }
   ],
   "source": [
    "# Create a new DataFrame\n",
    "example_dict = {\n",
    "    \"first_name\": [\"Bill\", \"James\", \"Tyler\", \"Matt\", \"Jon\"],\n",
    "    \"last_name\": [\"Smith\", \"Alvarez\", \"Dant\", \"May\", \"Livingston\"],\n",
    "    \"age\": [25, 34, 52, 26, 43],\n",
    "    \"credit_score\": [721, 683, 761, 641, 602],\n",
    "}\n",
    "\n",
    "credit_df = pd.DataFrame(example_dict)\n",
    "credit_df"
   ]
  },
  {
   "cell_type": "code",
   "execution_count": 15,
   "metadata": {},
   "outputs": [
    {
     "data": {
      "text/html": [
       "<div>\n",
       "<style scoped>\n",
       "    .dataframe tbody tr th:only-of-type {\n",
       "        vertical-align: middle;\n",
       "    }\n",
       "\n",
       "    .dataframe tbody tr th {\n",
       "        vertical-align: top;\n",
       "    }\n",
       "\n",
       "    .dataframe thead th {\n",
       "        text-align: right;\n",
       "    }\n",
       "</style>\n",
       "<table border=\"1\" class=\"dataframe\">\n",
       "  <thead>\n",
       "    <tr style=\"text-align: right;\">\n",
       "      <th></th>\n",
       "      <th>last_name</th>\n",
       "      <th>age</th>\n",
       "      <th>credit_score</th>\n",
       "    </tr>\n",
       "    <tr>\n",
       "      <th>first_name</th>\n",
       "      <th></th>\n",
       "      <th></th>\n",
       "      <th></th>\n",
       "    </tr>\n",
       "  </thead>\n",
       "  <tbody>\n",
       "    <tr>\n",
       "      <th>Bill</th>\n",
       "      <td>Smith</td>\n",
       "      <td>25</td>\n",
       "      <td>721</td>\n",
       "    </tr>\n",
       "    <tr>\n",
       "      <th>James</th>\n",
       "      <td>Alvarez</td>\n",
       "      <td>34</td>\n",
       "      <td>683</td>\n",
       "    </tr>\n",
       "    <tr>\n",
       "      <th>Tyler</th>\n",
       "      <td>Dant</td>\n",
       "      <td>52</td>\n",
       "      <td>761</td>\n",
       "    </tr>\n",
       "    <tr>\n",
       "      <th>Matt</th>\n",
       "      <td>May</td>\n",
       "      <td>26</td>\n",
       "      <td>641</td>\n",
       "    </tr>\n",
       "    <tr>\n",
       "      <th>Jon</th>\n",
       "      <td>Livingston</td>\n",
       "      <td>43</td>\n",
       "      <td>602</td>\n",
       "    </tr>\n",
       "  </tbody>\n",
       "</table>\n",
       "</div>"
      ],
      "text/plain": [
       "             last_name  age  credit_score\n",
       "first_name                               \n",
       "Bill             Smith   25           721\n",
       "James          Alvarez   34           683\n",
       "Tyler             Dant   52           761\n",
       "Matt               May   26           641\n",
       "Jon         Livingston   43           602"
      ]
     },
     "execution_count": 15,
     "metadata": {},
     "output_type": "execute_result"
    }
   ],
   "source": [
    "# Set the row index to be the first_name\n",
    "credit_df = credit_df.set_index(\"first_name\")\n",
    "credit_df"
   ]
  },
  {
   "cell_type": "code",
   "execution_count": 16,
   "metadata": {},
   "outputs": [
    {
     "data": {
      "text/html": [
       "<div>\n",
       "<style scoped>\n",
       "    .dataframe tbody tr th:only-of-type {\n",
       "        vertical-align: middle;\n",
       "    }\n",
       "\n",
       "    .dataframe tbody tr th {\n",
       "        vertical-align: top;\n",
       "    }\n",
       "\n",
       "    .dataframe thead th {\n",
       "        text-align: right;\n",
       "    }\n",
       "</style>\n",
       "<table border=\"1\" class=\"dataframe\">\n",
       "  <thead>\n",
       "    <tr style=\"text-align: right;\">\n",
       "      <th></th>\n",
       "      <th>last_name</th>\n",
       "      <th>age</th>\n",
       "      <th>credit_score</th>\n",
       "    </tr>\n",
       "    <tr>\n",
       "      <th>first_name</th>\n",
       "      <th></th>\n",
       "      <th></th>\n",
       "      <th></th>\n",
       "    </tr>\n",
       "  </thead>\n",
       "  <tbody>\n",
       "    <tr>\n",
       "      <th>James</th>\n",
       "      <td>Alvarez</td>\n",
       "      <td>34</td>\n",
       "      <td>683</td>\n",
       "    </tr>\n",
       "    <tr>\n",
       "      <th>Tyler</th>\n",
       "      <td>Dant</td>\n",
       "      <td>52</td>\n",
       "      <td>761</td>\n",
       "    </tr>\n",
       "  </tbody>\n",
       "</table>\n",
       "</div>"
      ],
      "text/plain": [
       "           last_name  age  credit_score\n",
       "first_name                             \n",
       "James        Alvarez   34           683\n",
       "Tyler           Dant   52           761"
      ]
     },
     "execution_count": 16,
     "metadata": {},
     "output_type": "execute_result"
    }
   ],
   "source": [
    "# Now, we can filter this DataFrame using .loc[]\n",
    "# Return data for James' and Tyler's rows, ALL COLUMNS included\n",
    "credit_df.loc[[\"James\", \"Tyler\"], :]"
   ]
  },
  {
   "cell_type": "code",
   "execution_count": 17,
   "metadata": {},
   "outputs": [
    {
     "data": {
      "text/html": [
       "<div>\n",
       "<style scoped>\n",
       "    .dataframe tbody tr th:only-of-type {\n",
       "        vertical-align: middle;\n",
       "    }\n",
       "\n",
       "    .dataframe tbody tr th {\n",
       "        vertical-align: top;\n",
       "    }\n",
       "\n",
       "    .dataframe thead th {\n",
       "        text-align: right;\n",
       "    }\n",
       "</style>\n",
       "<table border=\"1\" class=\"dataframe\">\n",
       "  <thead>\n",
       "    <tr style=\"text-align: right;\">\n",
       "      <th></th>\n",
       "      <th>age</th>\n",
       "      <th>credit_score</th>\n",
       "    </tr>\n",
       "    <tr>\n",
       "      <th>first_name</th>\n",
       "      <th></th>\n",
       "      <th></th>\n",
       "    </tr>\n",
       "  </thead>\n",
       "  <tbody>\n",
       "    <tr>\n",
       "      <th>Bill</th>\n",
       "      <td>25</td>\n",
       "      <td>721</td>\n",
       "    </tr>\n",
       "    <tr>\n",
       "      <th>James</th>\n",
       "      <td>34</td>\n",
       "      <td>683</td>\n",
       "    </tr>\n",
       "    <tr>\n",
       "      <th>Tyler</th>\n",
       "      <td>52</td>\n",
       "      <td>761</td>\n",
       "    </tr>\n",
       "    <tr>\n",
       "      <th>Matt</th>\n",
       "      <td>26</td>\n",
       "      <td>641</td>\n",
       "    </tr>\n",
       "  </tbody>\n",
       "</table>\n",
       "</div>"
      ],
      "text/plain": [
       "            age  credit_score\n",
       "first_name                   \n",
       "Bill         25           721\n",
       "James        34           683\n",
       "Tyler        52           761\n",
       "Matt         26           641"
      ]
     },
     "execution_count": 17,
     "metadata": {},
     "output_type": "execute_result"
    }
   ],
   "source": [
    "# Return rows from Bill to Matt (including Matt), and only the age and credit_score columns\n",
    "credit_df.loc[\"Bill\":\"Matt\", [\"age\", \"credit_score\"]]"
   ]
  },
  {
   "cell_type": "code",
   "execution_count": 18,
   "metadata": {},
   "outputs": [
    {
     "data": {
      "text/plain": [
       "first_name\n",
       "Bill     721\n",
       "James    683\n",
       "Tyler    761\n",
       "Matt     641\n",
       "Jon      602\n",
       "Name: credit_score, dtype: int64"
      ]
     },
     "execution_count": 18,
     "metadata": {},
     "output_type": "execute_result"
    }
   ],
   "source": [
    "# Return all rows, only the credit_score column\n",
    "credit_df.loc[:, \"credit_score\"]"
   ]
  },
  {
   "cell_type": "markdown",
   "metadata": {},
   "source": [
    "**Note:** Remember, you can get the same data you want using either .loc[ ] or .iloc[ ]; the two functions essentially perform the same task, but with different methods of operation."
   ]
  },
  {
   "cell_type": "markdown",
   "metadata": {},
   "source": [
    "---"
   ]
  },
  {
   "cell_type": "markdown",
   "metadata": {},
   "source": [
    "## <a id='Common_DataFrame_Functions'>Common DataFrame Functions</a>\n",
    "\n",
    "Functions that are commonly used to analyze data.\n",
    "\n",
    "Section Breakdown:\n",
    "\n",
    "1. [.head()](#head)\n",
    "2. [.describe()](#describe)\n",
    "3. [.mean()](#mean)\n",
    "4. [.sum()](#sum)\n",
    "5. [.unique()](#unique)\n",
    "6. [.value_counts()](#value_counts)\n",
    "7. [.sort_index()](#sort_index)"
   ]
  },
  {
   "cell_type": "markdown",
   "metadata": {},
   "source": [
    "### <a id='head'>.head()</a> \n",
    "\n",
    "* Returns the first 5 rows of data"
   ]
  },
  {
   "cell_type": "code",
   "execution_count": 19,
   "metadata": {},
   "outputs": [
    {
     "data": {
      "text/html": [
       "<div>\n",
       "<style scoped>\n",
       "    .dataframe tbody tr th:only-of-type {\n",
       "        vertical-align: middle;\n",
       "    }\n",
       "\n",
       "    .dataframe tbody tr th {\n",
       "        vertical-align: top;\n",
       "    }\n",
       "\n",
       "    .dataframe thead th {\n",
       "        text-align: right;\n",
       "    }\n",
       "</style>\n",
       "<table border=\"1\" class=\"dataframe\">\n",
       "  <thead>\n",
       "    <tr style=\"text-align: right;\">\n",
       "      <th></th>\n",
       "      <th>order_id</th>\n",
       "      <th>price</th>\n",
       "      <th>purchase_category</th>\n",
       "      <th>clicked_ad</th>\n",
       "    </tr>\n",
       "  </thead>\n",
       "  <tbody>\n",
       "    <tr>\n",
       "      <th>0</th>\n",
       "      <td>1</td>\n",
       "      <td>13.50</td>\n",
       "      <td>Apparel</td>\n",
       "      <td>True</td>\n",
       "    </tr>\n",
       "    <tr>\n",
       "      <th>1</th>\n",
       "      <td>2</td>\n",
       "      <td>9.99</td>\n",
       "      <td>Sports</td>\n",
       "      <td>True</td>\n",
       "    </tr>\n",
       "    <tr>\n",
       "      <th>2</th>\n",
       "      <td>3</td>\n",
       "      <td>12.00</td>\n",
       "      <td>Toys</td>\n",
       "      <td>False</td>\n",
       "    </tr>\n",
       "    <tr>\n",
       "      <th>3</th>\n",
       "      <td>4</td>\n",
       "      <td>29.99</td>\n",
       "      <td>Apparel</td>\n",
       "      <td>True</td>\n",
       "    </tr>\n",
       "    <tr>\n",
       "      <th>4</th>\n",
       "      <td>5</td>\n",
       "      <td>14.99</td>\n",
       "      <td>Apparel</td>\n",
       "      <td>False</td>\n",
       "    </tr>\n",
       "  </tbody>\n",
       "</table>\n",
       "</div>"
      ],
      "text/plain": [
       "   order_id  price purchase_category  clicked_ad\n",
       "0         1  13.50           Apparel        True\n",
       "1         2   9.99            Sports        True\n",
       "2         3  12.00              Toys       False\n",
       "3         4  29.99           Apparel        True\n",
       "4         5  14.99           Apparel       False"
      ]
     },
     "execution_count": 19,
     "metadata": {},
     "output_type": "execute_result"
    }
   ],
   "source": [
    "# Use the purchase_df DataFrame created above\n",
    "# Show the first 5 rows of data using .head()\n",
    "# .head() is great for getting a taste of the data you're dealing with\n",
    "purchase_df.head()"
   ]
  },
  {
   "cell_type": "markdown",
   "metadata": {},
   "source": [
    "### <a id='describe'>.describe()</a>\n",
    "\n",
    "* Returns a table of summary statistics on numeric columns in a DataFrame"
   ]
  },
  {
   "cell_type": "code",
   "execution_count": 20,
   "metadata": {},
   "outputs": [
    {
     "data": {
      "text/html": [
       "<div>\n",
       "<style scoped>\n",
       "    .dataframe tbody tr th:only-of-type {\n",
       "        vertical-align: middle;\n",
       "    }\n",
       "\n",
       "    .dataframe tbody tr th {\n",
       "        vertical-align: top;\n",
       "    }\n",
       "\n",
       "    .dataframe thead th {\n",
       "        text-align: right;\n",
       "    }\n",
       "</style>\n",
       "<table border=\"1\" class=\"dataframe\">\n",
       "  <thead>\n",
       "    <tr style=\"text-align: right;\">\n",
       "      <th></th>\n",
       "      <th>order_id</th>\n",
       "      <th>price</th>\n",
       "    </tr>\n",
       "  </thead>\n",
       "  <tbody>\n",
       "    <tr>\n",
       "      <th>count</th>\n",
       "      <td>13.00000</td>\n",
       "      <td>13.000000</td>\n",
       "    </tr>\n",
       "    <tr>\n",
       "      <th>mean</th>\n",
       "      <td>7.00000</td>\n",
       "      <td>14.301538</td>\n",
       "    </tr>\n",
       "    <tr>\n",
       "      <th>std</th>\n",
       "      <td>3.89444</td>\n",
       "      <td>6.809116</td>\n",
       "    </tr>\n",
       "    <tr>\n",
       "      <th>min</th>\n",
       "      <td>1.00000</td>\n",
       "      <td>3.490000</td>\n",
       "    </tr>\n",
       "    <tr>\n",
       "      <th>25%</th>\n",
       "      <td>4.00000</td>\n",
       "      <td>9.990000</td>\n",
       "    </tr>\n",
       "    <tr>\n",
       "      <th>50%</th>\n",
       "      <td>7.00000</td>\n",
       "      <td>13.500000</td>\n",
       "    </tr>\n",
       "    <tr>\n",
       "      <th>75%</th>\n",
       "      <td>10.00000</td>\n",
       "      <td>17.990000</td>\n",
       "    </tr>\n",
       "    <tr>\n",
       "      <th>max</th>\n",
       "      <td>13.00000</td>\n",
       "      <td>29.990000</td>\n",
       "    </tr>\n",
       "  </tbody>\n",
       "</table>\n",
       "</div>"
      ],
      "text/plain": [
       "       order_id      price\n",
       "count  13.00000  13.000000\n",
       "mean    7.00000  14.301538\n",
       "std     3.89444   6.809116\n",
       "min     1.00000   3.490000\n",
       "25%     4.00000   9.990000\n",
       "50%     7.00000  13.500000\n",
       "75%    10.00000  17.990000\n",
       "max    13.00000  29.990000"
      ]
     },
     "execution_count": 20,
     "metadata": {},
     "output_type": "execute_result"
    }
   ],
   "source": [
    "# Note that .describe() will only return summary statistics for your numeric columns\n",
    "# In this case, statistics for order_id and price columns are returned\n",
    "purchase_df.describe()"
   ]
  },
  {
   "cell_type": "markdown",
   "metadata": {},
   "source": [
    "### <a id='mean'>.mean()</a>\n",
    "\n",
    "* Returns the average of all values in a given column or DataFrame"
   ]
  },
  {
   "cell_type": "code",
   "execution_count": 21,
   "metadata": {},
   "outputs": [
    {
     "data": {
      "text/plain": [
       "14.30153846153846"
      ]
     },
     "execution_count": 21,
     "metadata": {},
     "output_type": "execute_result"
    }
   ],
   "source": [
    "# Return the mean of the price column\n",
    "purchase_df[\"price\"].mean()"
   ]
  },
  {
   "cell_type": "markdown",
   "metadata": {},
   "source": [
    "### <a id='sum'>.sum()</a>\n",
    "\n",
    "* Returns the sum of all values in a given column or DataFrame"
   ]
  },
  {
   "cell_type": "code",
   "execution_count": 22,
   "metadata": {},
   "outputs": [
    {
     "data": {
      "text/plain": [
       "91"
      ]
     },
     "execution_count": 22,
     "metadata": {},
     "output_type": "execute_result"
    }
   ],
   "source": [
    "# Return the sum of all values in the order_id column\n",
    "purchase_df[\"order_id\"].sum()"
   ]
  },
  {
   "cell_type": "code",
   "execution_count": 23,
   "metadata": {},
   "outputs": [
    {
     "data": {
      "text/plain": [
       "105.30153846153846"
      ]
     },
     "execution_count": 23,
     "metadata": {},
     "output_type": "execute_result"
    }
   ],
   "source": [
    "# These values can also be assigned to variables\n",
    "mean_price = purchase_df[\"price\"].mean()\n",
    "sum_order_id = purchase_df[\"order_id\"].sum()\n",
    "\n",
    "mean_price + sum_order_id"
   ]
  },
  {
   "cell_type": "markdown",
   "metadata": {},
   "source": [
    "### <a id='unique'>.unique()</a>\n",
    "\n",
    "* Returns an array of all of the unique values within a given column"
   ]
  },
  {
   "cell_type": "code",
   "execution_count": 24,
   "metadata": {},
   "outputs": [
    {
     "name": "stdout",
     "output_type": "stream",
     "text": [
      "['Apparel' 'Sports' 'Toys' 'Household']\n",
      "Toys\n"
     ]
    }
   ],
   "source": [
    "# Returns unique values in the purchase_category column\n",
    "unique_pcat = purchase_df[\"purchase_category\"].unique()\n",
    "print(unique_pcat)\n",
    "print(unique_pcat[2])"
   ]
  },
  {
   "cell_type": "markdown",
   "metadata": {},
   "source": [
    "### <a id='value_counts'>.value_counts()</a>\n",
    "\n",
    "* Returns an array containing the # of times each unique value occurs in a given column"
   ]
  },
  {
   "cell_type": "code",
   "execution_count": 25,
   "metadata": {},
   "outputs": [
    {
     "name": "stdout",
     "output_type": "stream",
     "text": [
      "Apparel      5\n",
      "Sports       3\n",
      "Household    3\n",
      "Toys         2\n",
      "Name: purchase_category, dtype: int64\n"
     ]
    }
   ],
   "source": [
    "# Returns the value counts of each unique value in the purchase_category column\n",
    "print(purchase_df[\"purchase_category\"].value_counts())"
   ]
  },
  {
   "cell_type": "markdown",
   "metadata": {},
   "source": [
    "### <a id='sort_index'>.sort_index()</a>\n",
    "\n",
    "* Sorts the index of a DataFrame in ascending (default) order or descending order\n",
    "\n"
   ]
  },
  {
   "cell_type": "code",
   "execution_count": 26,
   "metadata": {},
   "outputs": [
    {
     "data": {
      "text/html": [
       "<div>\n",
       "<style scoped>\n",
       "    .dataframe tbody tr th:only-of-type {\n",
       "        vertical-align: middle;\n",
       "    }\n",
       "\n",
       "    .dataframe tbody tr th {\n",
       "        vertical-align: top;\n",
       "    }\n",
       "\n",
       "    .dataframe thead th {\n",
       "        text-align: right;\n",
       "    }\n",
       "</style>\n",
       "<table border=\"1\" class=\"dataframe\">\n",
       "  <thead>\n",
       "    <tr style=\"text-align: right;\">\n",
       "      <th></th>\n",
       "      <th>order_id</th>\n",
       "      <th>price</th>\n",
       "      <th>purchase_category</th>\n",
       "      <th>clicked_ad</th>\n",
       "    </tr>\n",
       "  </thead>\n",
       "  <tbody>\n",
       "    <tr>\n",
       "      <th>0</th>\n",
       "      <td>1</td>\n",
       "      <td>13.50</td>\n",
       "      <td>Apparel</td>\n",
       "      <td>True</td>\n",
       "    </tr>\n",
       "    <tr>\n",
       "      <th>1</th>\n",
       "      <td>2</td>\n",
       "      <td>9.99</td>\n",
       "      <td>Sports</td>\n",
       "      <td>True</td>\n",
       "    </tr>\n",
       "    <tr>\n",
       "      <th>2</th>\n",
       "      <td>3</td>\n",
       "      <td>12.00</td>\n",
       "      <td>Toys</td>\n",
       "      <td>False</td>\n",
       "    </tr>\n",
       "    <tr>\n",
       "      <th>3</th>\n",
       "      <td>4</td>\n",
       "      <td>29.99</td>\n",
       "      <td>Apparel</td>\n",
       "      <td>True</td>\n",
       "    </tr>\n",
       "    <tr>\n",
       "      <th>4</th>\n",
       "      <td>5</td>\n",
       "      <td>14.99</td>\n",
       "      <td>Apparel</td>\n",
       "      <td>False</td>\n",
       "    </tr>\n",
       "  </tbody>\n",
       "</table>\n",
       "</div>"
      ],
      "text/plain": [
       "   order_id  price purchase_category  clicked_ad\n",
       "0         1  13.50           Apparel        True\n",
       "1         2   9.99            Sports        True\n",
       "2         3  12.00              Toys       False\n",
       "3         4  29.99           Apparel        True\n",
       "4         5  14.99           Apparel       False"
      ]
     },
     "execution_count": 26,
     "metadata": {},
     "output_type": "execute_result"
    }
   ],
   "source": [
    "# Sorts the index in ascending order (the parameter and input `ascending = False` would sort the index in descending order)\n",
    "purchase_df.sort_index(inplace=True)\n",
    "purchase_df.head()"
   ]
  },
  {
   "cell_type": "markdown",
   "metadata": {},
   "source": [
    "---"
   ]
  },
  {
   "cell_type": "markdown",
   "metadata": {},
   "source": [
    "## <a id='Cleaning_Data_Within_Pandas_DataFrames'>Cleaning Data Within Pandas DataFrames</a>\n",
    "\n",
    "Section Breakdown:\n",
    "\n",
    "1. [Identify DataFrame Data Types](#Identify_DataFrame_Data_Types)\n",
    "2. [Identify Number of Rows](#Identify_Number_of_Rows)\n",
    "3. [Identify Frequency Values](#Identify_Frequency_Values)\n",
    "4. [Check for Null Values](#Check_for_Null_Values)\n",
    "5. [Determine Number of Null Values](#Determine_Number_of_Null_Values)\n",
    "6. [Determine Percentage of Null Values](#Determine_Percentage_of_Null_Values)\n",
    "7. [Fill Nulls With Default Value](#Fill_Nulls_With_Default_Value)\n",
    "8. [Drop Rows with Null Values](#Drop_Rows_With_Null_Values)\n",
    "9. [Check for Duplicate Rows](#Check_for_Duplicate_Rows)\n",
    "10. [Drop Duplicate Rows](#Drop_Duplicate_Rows)\n",
    "11. [Modify Column Data Types](#Modify_Column_Data_Types)"
   ]
  },
  {
   "cell_type": "code",
   "execution_count": 27,
   "metadata": {},
   "outputs": [
    {
     "data": {
      "text/html": [
       "<div>\n",
       "<style scoped>\n",
       "    .dataframe tbody tr th:only-of-type {\n",
       "        vertical-align: middle;\n",
       "    }\n",
       "\n",
       "    .dataframe tbody tr th {\n",
       "        vertical-align: top;\n",
       "    }\n",
       "\n",
       "    .dataframe thead th {\n",
       "        text-align: right;\n",
       "    }\n",
       "</style>\n",
       "<table border=\"1\" class=\"dataframe\">\n",
       "  <thead>\n",
       "    <tr style=\"text-align: right;\">\n",
       "      <th></th>\n",
       "      <th>order_id</th>\n",
       "      <th>price</th>\n",
       "      <th>purchase_category</th>\n",
       "      <th>clicked_ad</th>\n",
       "    </tr>\n",
       "  </thead>\n",
       "  <tbody>\n",
       "    <tr>\n",
       "      <th>0</th>\n",
       "      <td>NaN</td>\n",
       "      <td>13.50</td>\n",
       "      <td>Apparel</td>\n",
       "      <td>True</td>\n",
       "    </tr>\n",
       "    <tr>\n",
       "      <th>1</th>\n",
       "      <td>2.0</td>\n",
       "      <td>9.99</td>\n",
       "      <td>Sports</td>\n",
       "      <td>True</td>\n",
       "    </tr>\n",
       "    <tr>\n",
       "      <th>2</th>\n",
       "      <td>3.0</td>\n",
       "      <td>12.00</td>\n",
       "      <td>Toys</td>\n",
       "      <td>False</td>\n",
       "    </tr>\n",
       "    <tr>\n",
       "      <th>3</th>\n",
       "      <td>4.0</td>\n",
       "      <td>29.99</td>\n",
       "      <td>Apparel</td>\n",
       "      <td>True</td>\n",
       "    </tr>\n",
       "    <tr>\n",
       "      <th>4</th>\n",
       "      <td>5.0</td>\n",
       "      <td>14.99</td>\n",
       "      <td>Apparel</td>\n",
       "      <td>False</td>\n",
       "    </tr>\n",
       "    <tr>\n",
       "      <th>5</th>\n",
       "      <td>6.0</td>\n",
       "      <td>7.99</td>\n",
       "      <td>Household</td>\n",
       "      <td>True</td>\n",
       "    </tr>\n",
       "    <tr>\n",
       "      <th>6</th>\n",
       "      <td>7.0</td>\n",
       "      <td>NaN</td>\n",
       "      <td>Household</td>\n",
       "      <td>True</td>\n",
       "    </tr>\n",
       "    <tr>\n",
       "      <th>7</th>\n",
       "      <td>8.0</td>\n",
       "      <td>10.00</td>\n",
       "      <td>Toys</td>\n",
       "      <td>False</td>\n",
       "    </tr>\n",
       "    <tr>\n",
       "      <th>8</th>\n",
       "      <td>9.0</td>\n",
       "      <td>9.99</td>\n",
       "      <td>Sports</td>\n",
       "      <td>False</td>\n",
       "    </tr>\n",
       "    <tr>\n",
       "      <th>9</th>\n",
       "      <td>10.0</td>\n",
       "      <td>17.99</td>\n",
       "      <td>Sports</td>\n",
       "      <td>True</td>\n",
       "    </tr>\n",
       "    <tr>\n",
       "      <th>10</th>\n",
       "      <td>11.0</td>\n",
       "      <td>20.00</td>\n",
       "      <td>Apparel</td>\n",
       "      <td>True</td>\n",
       "    </tr>\n",
       "    <tr>\n",
       "      <th>11</th>\n",
       "      <td>12.0</td>\n",
       "      <td>21.00</td>\n",
       "      <td>Household</td>\n",
       "      <td>True</td>\n",
       "    </tr>\n",
       "    <tr>\n",
       "      <th>12</th>\n",
       "      <td>13.0</td>\n",
       "      <td>14.99</td>\n",
       "      <td>Apparel</td>\n",
       "      <td>False</td>\n",
       "    </tr>\n",
       "    <tr>\n",
       "      <th>13</th>\n",
       "      <td>13.0</td>\n",
       "      <td>14.99</td>\n",
       "      <td>Apparel</td>\n",
       "      <td>False</td>\n",
       "    </tr>\n",
       "  </tbody>\n",
       "</table>\n",
       "</div>"
      ],
      "text/plain": [
       "    order_id  price purchase_category  clicked_ad\n",
       "0        NaN  13.50           Apparel        True\n",
       "1        2.0   9.99            Sports        True\n",
       "2        3.0  12.00              Toys       False\n",
       "3        4.0  29.99           Apparel        True\n",
       "4        5.0  14.99           Apparel       False\n",
       "5        6.0   7.99         Household        True\n",
       "6        7.0    NaN         Household        True\n",
       "7        8.0  10.00              Toys       False\n",
       "8        9.0   9.99            Sports       False\n",
       "9       10.0  17.99            Sports        True\n",
       "10      11.0  20.00           Apparel        True\n",
       "11      12.0  21.00         Household        True\n",
       "12      13.0  14.99           Apparel       False\n",
       "13      13.0  14.99           Apparel       False"
      ]
     },
     "execution_count": 27,
     "metadata": {},
     "output_type": "execute_result"
    }
   ],
   "source": [
    "# Create a new DataFrame that represents a dirty purchase dataset from an online retailer\n",
    "dirty_dict = {\n",
    "    \"order_id\": [None, 2, 3, 4, 5, 6, 7, 8, 9, 10, 11, 12, 13, 13],\n",
    "    \"price\": [\n",
    "        13.50,\n",
    "        9.99,\n",
    "        12.00,\n",
    "        29.99,\n",
    "        14.99,\n",
    "        7.99,\n",
    "        None,\n",
    "        10.00,\n",
    "        9.99,\n",
    "        17.99,\n",
    "        20.00,\n",
    "        21.00,\n",
    "        14.99,\n",
    "        14.99,\n",
    "    ],\n",
    "    \"purchase_category\": [\n",
    "        \"Apparel\",\n",
    "        \"Sports\",\n",
    "        \"Toys\",\n",
    "        \"Apparel\",\n",
    "        \"Apparel\",\n",
    "        \"Household\",\n",
    "        \"Household\",\n",
    "        \"Toys\",\n",
    "        \"Sports\",\n",
    "        \"Sports\",\n",
    "        \"Apparel\",\n",
    "        \"Household\",\n",
    "        \"Apparel\",\n",
    "        \"Apparel\",\n",
    "    ],\n",
    "    \"clicked_ad\": [\n",
    "        True,\n",
    "        True,\n",
    "        False,\n",
    "        True,\n",
    "        False,\n",
    "        True,\n",
    "        True,\n",
    "        False,\n",
    "        False,\n",
    "        True,\n",
    "        True,\n",
    "        True,\n",
    "        False,\n",
    "        False,\n",
    "    ]\n",
    "}\n",
    "\n",
    "dirty_purchase_df = pd.DataFrame(dirty_dict)\n",
    "dirty_purchase_df"
   ]
  },
  {
   "cell_type": "markdown",
   "metadata": {},
   "source": [
    "### <a id='Identify_DataFrame_Data_Types'>Identify DataFrame Data Types</a>"
   ]
  },
  {
   "cell_type": "code",
   "execution_count": 28,
   "metadata": {},
   "outputs": [
    {
     "data": {
      "text/plain": [
       "order_id             float64\n",
       "price                float64\n",
       "purchase_category     object\n",
       "clicked_ad              bool\n",
       "dtype: object"
      ]
     },
     "execution_count": 28,
     "metadata": {},
     "output_type": "execute_result"
    }
   ],
   "source": [
    "# Retrieving DataFrame data types\n",
    "dirty_purchase_df.dtypes"
   ]
  },
  {
   "cell_type": "markdown",
   "metadata": {},
   "source": [
    "### <a id='Identify_Number_of_Rows'>Identify Number of Rows</a>"
   ]
  },
  {
   "cell_type": "code",
   "execution_count": 29,
   "metadata": {},
   "outputs": [
    {
     "data": {
      "text/plain": [
       "order_id             13\n",
       "price                13\n",
       "purchase_category    14\n",
       "clicked_ad           14\n",
       "dtype: int64"
      ]
     },
     "execution_count": 29,
     "metadata": {},
     "output_type": "execute_result"
    }
   ],
   "source": [
    "# Identifying Series count\n",
    "dirty_purchase_df.count()"
   ]
  },
  {
   "cell_type": "markdown",
   "metadata": {},
   "source": [
    "### <a id='Identify_Frequency_Values'>Identify Frequency Values</a>"
   ]
  },
  {
   "cell_type": "code",
   "execution_count": 30,
   "metadata": {},
   "outputs": [
    {
     "data": {
      "text/plain": [
       "Apparel      6\n",
       "Sports       3\n",
       "Household    3\n",
       "Toys         2\n",
       "Name: purchase_category, dtype: int64"
      ]
     },
     "execution_count": 30,
     "metadata": {},
     "output_type": "execute_result"
    }
   ],
   "source": [
    "# Identifying frequency values\n",
    "dirty_purchase_df['purchase_category'].value_counts()"
   ]
  },
  {
   "cell_type": "markdown",
   "metadata": {},
   "source": [
    "### <a id='Check_for_Null_Values'>Check for Null Values</a>"
   ]
  },
  {
   "cell_type": "code",
   "execution_count": 31,
   "metadata": {},
   "outputs": [
    {
     "data": {
      "text/html": [
       "<div>\n",
       "<style scoped>\n",
       "    .dataframe tbody tr th:only-of-type {\n",
       "        vertical-align: middle;\n",
       "    }\n",
       "\n",
       "    .dataframe tbody tr th {\n",
       "        vertical-align: top;\n",
       "    }\n",
       "\n",
       "    .dataframe thead th {\n",
       "        text-align: right;\n",
       "    }\n",
       "</style>\n",
       "<table border=\"1\" class=\"dataframe\">\n",
       "  <thead>\n",
       "    <tr style=\"text-align: right;\">\n",
       "      <th></th>\n",
       "      <th>order_id</th>\n",
       "      <th>price</th>\n",
       "      <th>purchase_category</th>\n",
       "      <th>clicked_ad</th>\n",
       "    </tr>\n",
       "  </thead>\n",
       "  <tbody>\n",
       "    <tr>\n",
       "      <th>0</th>\n",
       "      <td>True</td>\n",
       "      <td>False</td>\n",
       "      <td>False</td>\n",
       "      <td>False</td>\n",
       "    </tr>\n",
       "    <tr>\n",
       "      <th>1</th>\n",
       "      <td>False</td>\n",
       "      <td>False</td>\n",
       "      <td>False</td>\n",
       "      <td>False</td>\n",
       "    </tr>\n",
       "    <tr>\n",
       "      <th>2</th>\n",
       "      <td>False</td>\n",
       "      <td>False</td>\n",
       "      <td>False</td>\n",
       "      <td>False</td>\n",
       "    </tr>\n",
       "    <tr>\n",
       "      <th>3</th>\n",
       "      <td>False</td>\n",
       "      <td>False</td>\n",
       "      <td>False</td>\n",
       "      <td>False</td>\n",
       "    </tr>\n",
       "    <tr>\n",
       "      <th>4</th>\n",
       "      <td>False</td>\n",
       "      <td>False</td>\n",
       "      <td>False</td>\n",
       "      <td>False</td>\n",
       "    </tr>\n",
       "    <tr>\n",
       "      <th>5</th>\n",
       "      <td>False</td>\n",
       "      <td>False</td>\n",
       "      <td>False</td>\n",
       "      <td>False</td>\n",
       "    </tr>\n",
       "    <tr>\n",
       "      <th>6</th>\n",
       "      <td>False</td>\n",
       "      <td>True</td>\n",
       "      <td>False</td>\n",
       "      <td>False</td>\n",
       "    </tr>\n",
       "    <tr>\n",
       "      <th>7</th>\n",
       "      <td>False</td>\n",
       "      <td>False</td>\n",
       "      <td>False</td>\n",
       "      <td>False</td>\n",
       "    </tr>\n",
       "    <tr>\n",
       "      <th>8</th>\n",
       "      <td>False</td>\n",
       "      <td>False</td>\n",
       "      <td>False</td>\n",
       "      <td>False</td>\n",
       "    </tr>\n",
       "    <tr>\n",
       "      <th>9</th>\n",
       "      <td>False</td>\n",
       "      <td>False</td>\n",
       "      <td>False</td>\n",
       "      <td>False</td>\n",
       "    </tr>\n",
       "    <tr>\n",
       "      <th>10</th>\n",
       "      <td>False</td>\n",
       "      <td>False</td>\n",
       "      <td>False</td>\n",
       "      <td>False</td>\n",
       "    </tr>\n",
       "    <tr>\n",
       "      <th>11</th>\n",
       "      <td>False</td>\n",
       "      <td>False</td>\n",
       "      <td>False</td>\n",
       "      <td>False</td>\n",
       "    </tr>\n",
       "    <tr>\n",
       "      <th>12</th>\n",
       "      <td>False</td>\n",
       "      <td>False</td>\n",
       "      <td>False</td>\n",
       "      <td>False</td>\n",
       "    </tr>\n",
       "    <tr>\n",
       "      <th>13</th>\n",
       "      <td>False</td>\n",
       "      <td>False</td>\n",
       "      <td>False</td>\n",
       "      <td>False</td>\n",
       "    </tr>\n",
       "  </tbody>\n",
       "</table>\n",
       "</div>"
      ],
      "text/plain": [
       "    order_id  price  purchase_category  clicked_ad\n",
       "0       True  False              False       False\n",
       "1      False  False              False       False\n",
       "2      False  False              False       False\n",
       "3      False  False              False       False\n",
       "4      False  False              False       False\n",
       "5      False  False              False       False\n",
       "6      False   True              False       False\n",
       "7      False  False              False       False\n",
       "8      False  False              False       False\n",
       "9      False  False              False       False\n",
       "10     False  False              False       False\n",
       "11     False  False              False       False\n",
       "12     False  False              False       False\n",
       "13     False  False              False       False"
      ]
     },
     "execution_count": 31,
     "metadata": {},
     "output_type": "execute_result"
    }
   ],
   "source": [
    "# Checking for null\n",
    "dirty_purchase_df.isnull()"
   ]
  },
  {
   "cell_type": "markdown",
   "metadata": {},
   "source": [
    "### <a id='Determine_Number_of_Null_Values'>Determine Number of Null Values</a>"
   ]
  },
  {
   "cell_type": "code",
   "execution_count": 32,
   "metadata": {},
   "outputs": [
    {
     "data": {
      "text/plain": [
       "order_id             1\n",
       "price                1\n",
       "purchase_category    0\n",
       "clicked_ad           0\n",
       "dtype: int64"
      ]
     },
     "execution_count": 32,
     "metadata": {},
     "output_type": "execute_result"
    }
   ],
   "source": [
    "# Determining number of nulls\n",
    "dirty_purchase_df.isnull().sum()"
   ]
  },
  {
   "cell_type": "markdown",
   "metadata": {},
   "source": [
    "### <a id='Determine_Percentage_of_Null_Values'>Determine Percentage of Null Values</a>"
   ]
  },
  {
   "cell_type": "code",
   "execution_count": 33,
   "metadata": {},
   "outputs": [
    {
     "data": {
      "text/plain": [
       "order_id             7.142857\n",
       "price                7.142857\n",
       "purchase_category    0.000000\n",
       "clicked_ad           0.000000\n",
       "dtype: float64"
      ]
     },
     "execution_count": 33,
     "metadata": {},
     "output_type": "execute_result"
    }
   ],
   "source": [
    "# Determining percentage of nulls\n",
    "dirty_purchase_df.isnull().mean() * 100"
   ]
  },
  {
   "cell_type": "markdown",
   "metadata": {},
   "source": [
    "### <a id='Fill_Nulls_With_Default_Value'>Fill Nulls With Default Value</a>"
   ]
  },
  {
   "cell_type": "code",
   "execution_count": 34,
   "metadata": {},
   "outputs": [
    {
     "data": {
      "text/html": [
       "<div>\n",
       "<style scoped>\n",
       "    .dataframe tbody tr th:only-of-type {\n",
       "        vertical-align: middle;\n",
       "    }\n",
       "\n",
       "    .dataframe tbody tr th {\n",
       "        vertical-align: top;\n",
       "    }\n",
       "\n",
       "    .dataframe thead th {\n",
       "        text-align: right;\n",
       "    }\n",
       "</style>\n",
       "<table border=\"1\" class=\"dataframe\">\n",
       "  <thead>\n",
       "    <tr style=\"text-align: right;\">\n",
       "      <th></th>\n",
       "      <th>order_id</th>\n",
       "      <th>price</th>\n",
       "      <th>purchase_category</th>\n",
       "      <th>clicked_ad</th>\n",
       "    </tr>\n",
       "  </thead>\n",
       "  <tbody>\n",
       "    <tr>\n",
       "      <th>0</th>\n",
       "      <td>0.0</td>\n",
       "      <td>13.50</td>\n",
       "      <td>Apparel</td>\n",
       "      <td>True</td>\n",
       "    </tr>\n",
       "    <tr>\n",
       "      <th>1</th>\n",
       "      <td>2.0</td>\n",
       "      <td>9.99</td>\n",
       "      <td>Sports</td>\n",
       "      <td>True</td>\n",
       "    </tr>\n",
       "    <tr>\n",
       "      <th>2</th>\n",
       "      <td>3.0</td>\n",
       "      <td>12.00</td>\n",
       "      <td>Toys</td>\n",
       "      <td>False</td>\n",
       "    </tr>\n",
       "    <tr>\n",
       "      <th>3</th>\n",
       "      <td>4.0</td>\n",
       "      <td>29.99</td>\n",
       "      <td>Apparel</td>\n",
       "      <td>True</td>\n",
       "    </tr>\n",
       "    <tr>\n",
       "      <th>4</th>\n",
       "      <td>5.0</td>\n",
       "      <td>14.99</td>\n",
       "      <td>Apparel</td>\n",
       "      <td>False</td>\n",
       "    </tr>\n",
       "    <tr>\n",
       "      <th>5</th>\n",
       "      <td>6.0</td>\n",
       "      <td>7.99</td>\n",
       "      <td>Household</td>\n",
       "      <td>True</td>\n",
       "    </tr>\n",
       "    <tr>\n",
       "      <th>6</th>\n",
       "      <td>7.0</td>\n",
       "      <td>NaN</td>\n",
       "      <td>Household</td>\n",
       "      <td>True</td>\n",
       "    </tr>\n",
       "    <tr>\n",
       "      <th>7</th>\n",
       "      <td>8.0</td>\n",
       "      <td>10.00</td>\n",
       "      <td>Toys</td>\n",
       "      <td>False</td>\n",
       "    </tr>\n",
       "    <tr>\n",
       "      <th>8</th>\n",
       "      <td>9.0</td>\n",
       "      <td>9.99</td>\n",
       "      <td>Sports</td>\n",
       "      <td>False</td>\n",
       "    </tr>\n",
       "    <tr>\n",
       "      <th>9</th>\n",
       "      <td>10.0</td>\n",
       "      <td>17.99</td>\n",
       "      <td>Sports</td>\n",
       "      <td>True</td>\n",
       "    </tr>\n",
       "    <tr>\n",
       "      <th>10</th>\n",
       "      <td>11.0</td>\n",
       "      <td>20.00</td>\n",
       "      <td>Apparel</td>\n",
       "      <td>True</td>\n",
       "    </tr>\n",
       "    <tr>\n",
       "      <th>11</th>\n",
       "      <td>12.0</td>\n",
       "      <td>21.00</td>\n",
       "      <td>Household</td>\n",
       "      <td>True</td>\n",
       "    </tr>\n",
       "    <tr>\n",
       "      <th>12</th>\n",
       "      <td>13.0</td>\n",
       "      <td>14.99</td>\n",
       "      <td>Apparel</td>\n",
       "      <td>False</td>\n",
       "    </tr>\n",
       "    <tr>\n",
       "      <th>13</th>\n",
       "      <td>13.0</td>\n",
       "      <td>14.99</td>\n",
       "      <td>Apparel</td>\n",
       "      <td>False</td>\n",
       "    </tr>\n",
       "  </tbody>\n",
       "</table>\n",
       "</div>"
      ],
      "text/plain": [
       "    order_id  price purchase_category  clicked_ad\n",
       "0        0.0  13.50           Apparel        True\n",
       "1        2.0   9.99            Sports        True\n",
       "2        3.0  12.00              Toys       False\n",
       "3        4.0  29.99           Apparel        True\n",
       "4        5.0  14.99           Apparel       False\n",
       "5        6.0   7.99         Household        True\n",
       "6        7.0    NaN         Household        True\n",
       "7        8.0  10.00              Toys       False\n",
       "8        9.0   9.99            Sports       False\n",
       "9       10.0  17.99            Sports        True\n",
       "10      11.0  20.00           Apparel        True\n",
       "11      12.0  21.00         Household        True\n",
       "12      13.0  14.99           Apparel       False\n",
       "13      13.0  14.99           Apparel       False"
      ]
     },
     "execution_count": 34,
     "metadata": {},
     "output_type": "execute_result"
    }
   ],
   "source": [
    "# Cleanse nulls from DataFrame by filling na\n",
    "dirty_purchase_df['order_id'] = dirty_purchase_df['order_id'].fillna(0)\n",
    "dirty_purchase_df"
   ]
  },
  {
   "cell_type": "markdown",
   "metadata": {},
   "source": [
    "### <a id='Drop_Rows_With_Null_Values'>Drop Rows with Null Values</a>"
   ]
  },
  {
   "cell_type": "code",
   "execution_count": 35,
   "metadata": {},
   "outputs": [
    {
     "data": {
      "text/html": [
       "<div>\n",
       "<style scoped>\n",
       "    .dataframe tbody tr th:only-of-type {\n",
       "        vertical-align: middle;\n",
       "    }\n",
       "\n",
       "    .dataframe tbody tr th {\n",
       "        vertical-align: top;\n",
       "    }\n",
       "\n",
       "    .dataframe thead th {\n",
       "        text-align: right;\n",
       "    }\n",
       "</style>\n",
       "<table border=\"1\" class=\"dataframe\">\n",
       "  <thead>\n",
       "    <tr style=\"text-align: right;\">\n",
       "      <th></th>\n",
       "      <th>order_id</th>\n",
       "      <th>price</th>\n",
       "      <th>purchase_category</th>\n",
       "      <th>clicked_ad</th>\n",
       "    </tr>\n",
       "  </thead>\n",
       "  <tbody>\n",
       "    <tr>\n",
       "      <th>0</th>\n",
       "      <td>0.0</td>\n",
       "      <td>13.50</td>\n",
       "      <td>Apparel</td>\n",
       "      <td>True</td>\n",
       "    </tr>\n",
       "    <tr>\n",
       "      <th>1</th>\n",
       "      <td>2.0</td>\n",
       "      <td>9.99</td>\n",
       "      <td>Sports</td>\n",
       "      <td>True</td>\n",
       "    </tr>\n",
       "    <tr>\n",
       "      <th>2</th>\n",
       "      <td>3.0</td>\n",
       "      <td>12.00</td>\n",
       "      <td>Toys</td>\n",
       "      <td>False</td>\n",
       "    </tr>\n",
       "    <tr>\n",
       "      <th>3</th>\n",
       "      <td>4.0</td>\n",
       "      <td>29.99</td>\n",
       "      <td>Apparel</td>\n",
       "      <td>True</td>\n",
       "    </tr>\n",
       "    <tr>\n",
       "      <th>4</th>\n",
       "      <td>5.0</td>\n",
       "      <td>14.99</td>\n",
       "      <td>Apparel</td>\n",
       "      <td>False</td>\n",
       "    </tr>\n",
       "    <tr>\n",
       "      <th>5</th>\n",
       "      <td>6.0</td>\n",
       "      <td>7.99</td>\n",
       "      <td>Household</td>\n",
       "      <td>True</td>\n",
       "    </tr>\n",
       "    <tr>\n",
       "      <th>7</th>\n",
       "      <td>8.0</td>\n",
       "      <td>10.00</td>\n",
       "      <td>Toys</td>\n",
       "      <td>False</td>\n",
       "    </tr>\n",
       "    <tr>\n",
       "      <th>8</th>\n",
       "      <td>9.0</td>\n",
       "      <td>9.99</td>\n",
       "      <td>Sports</td>\n",
       "      <td>False</td>\n",
       "    </tr>\n",
       "    <tr>\n",
       "      <th>9</th>\n",
       "      <td>10.0</td>\n",
       "      <td>17.99</td>\n",
       "      <td>Sports</td>\n",
       "      <td>True</td>\n",
       "    </tr>\n",
       "    <tr>\n",
       "      <th>10</th>\n",
       "      <td>11.0</td>\n",
       "      <td>20.00</td>\n",
       "      <td>Apparel</td>\n",
       "      <td>True</td>\n",
       "    </tr>\n",
       "    <tr>\n",
       "      <th>11</th>\n",
       "      <td>12.0</td>\n",
       "      <td>21.00</td>\n",
       "      <td>Household</td>\n",
       "      <td>True</td>\n",
       "    </tr>\n",
       "    <tr>\n",
       "      <th>12</th>\n",
       "      <td>13.0</td>\n",
       "      <td>14.99</td>\n",
       "      <td>Apparel</td>\n",
       "      <td>False</td>\n",
       "    </tr>\n",
       "    <tr>\n",
       "      <th>13</th>\n",
       "      <td>13.0</td>\n",
       "      <td>14.99</td>\n",
       "      <td>Apparel</td>\n",
       "      <td>False</td>\n",
       "    </tr>\n",
       "  </tbody>\n",
       "</table>\n",
       "</div>"
      ],
      "text/plain": [
       "    order_id  price purchase_category  clicked_ad\n",
       "0        0.0  13.50           Apparel        True\n",
       "1        2.0   9.99            Sports        True\n",
       "2        3.0  12.00              Toys       False\n",
       "3        4.0  29.99           Apparel        True\n",
       "4        5.0  14.99           Apparel       False\n",
       "5        6.0   7.99         Household        True\n",
       "7        8.0  10.00              Toys       False\n",
       "8        9.0   9.99            Sports       False\n",
       "9       10.0  17.99            Sports        True\n",
       "10      11.0  20.00           Apparel        True\n",
       "11      12.0  21.00         Household        True\n",
       "12      13.0  14.99           Apparel       False\n",
       "13      13.0  14.99           Apparel       False"
      ]
     },
     "execution_count": 35,
     "metadata": {},
     "output_type": "execute_result"
    }
   ],
   "source": [
    "# Cleaning nulls from DataFrame by dropping\n",
    "dirty_purchase_df.dropna(inplace=True)\n",
    "dirty_purchase_df"
   ]
  },
  {
   "cell_type": "code",
   "execution_count": 36,
   "metadata": {},
   "outputs": [
    {
     "data": {
      "text/plain": [
       "order_id             0\n",
       "price                0\n",
       "purchase_category    0\n",
       "clicked_ad           0\n",
       "dtype: int64"
      ]
     },
     "execution_count": 36,
     "metadata": {},
     "output_type": "execute_result"
    }
   ],
   "source": [
    "# Confirm null records have been dropped\n",
    "dirty_purchase_df.isnull().sum()"
   ]
  },
  {
   "cell_type": "markdown",
   "metadata": {},
   "source": [
    "### <a id='Check_for_Duplicate_Rows'>Check for Duplicate Rows</a>"
   ]
  },
  {
   "cell_type": "code",
   "execution_count": 37,
   "metadata": {},
   "outputs": [
    {
     "data": {
      "text/plain": [
       "0     False\n",
       "1     False\n",
       "2     False\n",
       "3     False\n",
       "4     False\n",
       "5     False\n",
       "7     False\n",
       "8     False\n",
       "9     False\n",
       "10    False\n",
       "11    False\n",
       "12    False\n",
       "13     True\n",
       "dtype: bool"
      ]
     },
     "execution_count": 37,
     "metadata": {},
     "output_type": "execute_result"
    }
   ],
   "source": [
    "# Checking duplicates\n",
    "dirty_purchase_df.duplicated()"
   ]
  },
  {
   "cell_type": "markdown",
   "metadata": {},
   "source": [
    "### <a id='Drop_Duplicate_Rows'>Drop Duplicate Rows</a>"
   ]
  },
  {
   "cell_type": "code",
   "execution_count": 38,
   "metadata": {},
   "outputs": [],
   "source": [
    "# Cleansing duplicates\n",
    "dirty_purchase_df.drop_duplicates(inplace=True)"
   ]
  },
  {
   "cell_type": "markdown",
   "metadata": {},
   "source": [
    "### <a id='Modify_Column_Data_Types'>Modify Column Data Types</a>"
   ]
  },
  {
   "cell_type": "code",
   "execution_count": 39,
   "metadata": {},
   "outputs": [
    {
     "data": {
      "text/html": [
       "<div>\n",
       "<style scoped>\n",
       "    .dataframe tbody tr th:only-of-type {\n",
       "        vertical-align: middle;\n",
       "    }\n",
       "\n",
       "    .dataframe tbody tr th {\n",
       "        vertical-align: top;\n",
       "    }\n",
       "\n",
       "    .dataframe thead th {\n",
       "        text-align: right;\n",
       "    }\n",
       "</style>\n",
       "<table border=\"1\" class=\"dataframe\">\n",
       "  <thead>\n",
       "    <tr style=\"text-align: right;\">\n",
       "      <th></th>\n",
       "      <th>order_id</th>\n",
       "      <th>price</th>\n",
       "      <th>purchase_category</th>\n",
       "      <th>clicked_ad</th>\n",
       "    </tr>\n",
       "  </thead>\n",
       "  <tbody>\n",
       "    <tr>\n",
       "      <th>0</th>\n",
       "      <td>0</td>\n",
       "      <td>13.50</td>\n",
       "      <td>Apparel</td>\n",
       "      <td>True</td>\n",
       "    </tr>\n",
       "    <tr>\n",
       "      <th>1</th>\n",
       "      <td>2</td>\n",
       "      <td>9.99</td>\n",
       "      <td>Sports</td>\n",
       "      <td>True</td>\n",
       "    </tr>\n",
       "    <tr>\n",
       "      <th>2</th>\n",
       "      <td>3</td>\n",
       "      <td>12.00</td>\n",
       "      <td>Toys</td>\n",
       "      <td>False</td>\n",
       "    </tr>\n",
       "    <tr>\n",
       "      <th>3</th>\n",
       "      <td>4</td>\n",
       "      <td>29.99</td>\n",
       "      <td>Apparel</td>\n",
       "      <td>True</td>\n",
       "    </tr>\n",
       "    <tr>\n",
       "      <th>4</th>\n",
       "      <td>5</td>\n",
       "      <td>14.99</td>\n",
       "      <td>Apparel</td>\n",
       "      <td>False</td>\n",
       "    </tr>\n",
       "    <tr>\n",
       "      <th>5</th>\n",
       "      <td>6</td>\n",
       "      <td>7.99</td>\n",
       "      <td>Household</td>\n",
       "      <td>True</td>\n",
       "    </tr>\n",
       "    <tr>\n",
       "      <th>7</th>\n",
       "      <td>8</td>\n",
       "      <td>10.00</td>\n",
       "      <td>Toys</td>\n",
       "      <td>False</td>\n",
       "    </tr>\n",
       "    <tr>\n",
       "      <th>8</th>\n",
       "      <td>9</td>\n",
       "      <td>9.99</td>\n",
       "      <td>Sports</td>\n",
       "      <td>False</td>\n",
       "    </tr>\n",
       "    <tr>\n",
       "      <th>9</th>\n",
       "      <td>10</td>\n",
       "      <td>17.99</td>\n",
       "      <td>Sports</td>\n",
       "      <td>True</td>\n",
       "    </tr>\n",
       "    <tr>\n",
       "      <th>10</th>\n",
       "      <td>11</td>\n",
       "      <td>20.00</td>\n",
       "      <td>Apparel</td>\n",
       "      <td>True</td>\n",
       "    </tr>\n",
       "    <tr>\n",
       "      <th>11</th>\n",
       "      <td>12</td>\n",
       "      <td>21.00</td>\n",
       "      <td>Household</td>\n",
       "      <td>True</td>\n",
       "    </tr>\n",
       "    <tr>\n",
       "      <th>12</th>\n",
       "      <td>13</td>\n",
       "      <td>14.99</td>\n",
       "      <td>Apparel</td>\n",
       "      <td>False</td>\n",
       "    </tr>\n",
       "  </tbody>\n",
       "</table>\n",
       "</div>"
      ],
      "text/plain": [
       "    order_id  price purchase_category  clicked_ad\n",
       "0          0  13.50           Apparel        True\n",
       "1          2   9.99            Sports        True\n",
       "2          3  12.00              Toys       False\n",
       "3          4  29.99           Apparel        True\n",
       "4          5  14.99           Apparel       False\n",
       "5          6   7.99         Household        True\n",
       "7          8  10.00              Toys       False\n",
       "8          9   9.99            Sports       False\n",
       "9         10  17.99            Sports        True\n",
       "10        11  20.00           Apparel        True\n",
       "11        12  21.00         Household        True\n",
       "12        13  14.99           Apparel       False"
      ]
     },
     "execution_count": 39,
     "metadata": {},
     "output_type": "execute_result"
    }
   ],
   "source": [
    "# Converting `order_total` from `object` to `float`\n",
    "dirty_purchase_df['order_id'] = dirty_purchase_df['order_id'].astype('int')\n",
    "dirty_purchase_df"
   ]
  },
  {
   "cell_type": "code",
   "execution_count": 40,
   "metadata": {},
   "outputs": [
    {
     "data": {
      "text/plain": [
       "order_id               int32\n",
       "price                float64\n",
       "purchase_category     object\n",
       "clicked_ad              bool\n",
       "dtype: object"
      ]
     },
     "execution_count": 40,
     "metadata": {},
     "output_type": "execute_result"
    }
   ],
   "source": [
    "# Confirming conversion worked as expected\n",
    "dirty_purchase_df.dtypes"
   ]
  },
  {
   "cell_type": "markdown",
   "metadata": {},
   "source": [
    "---"
   ]
  },
  {
   "cell_type": "markdown",
   "metadata": {},
   "source": [
    "## <a id='Manipulating_Data_Within_Pandas_DataFrames'>Manipulating Data Within Pandas DataFrames</a>\n",
    "\n",
    "Now that we're familiar with Pandas Series and DataFrames, let's delve further into Pandas' more complex capabilities: **grouping**, **sorting**, **concatenating**, and **binning**. These utilize and build upon the previous concepts we've learned.\n",
    "\n",
    "Section Breakdown:\n",
    "\n",
    "1. [Grouping](#Grouping)\n",
    "2. [Sorting](#Sorting)\n",
    "3. [Concatenating](#Concatenating)\n",
    "4. [Binning](#Binning)"
   ]
  },
  {
   "cell_type": "markdown",
   "metadata": {},
   "source": [
    "### <a id='Grouping'>Grouping</a>\n",
    "\n",
    "Pandas has the functionality to group DataFrames by unique values in one or multiple columns. This allows for creating informative summaries out of large datasets. For example, if you were analyzing raw census data, grouping would allow you to summarize the data based on *gender* or *age* groupings, or by *city* and *state*.\n"
   ]
  },
  {
   "cell_type": "code",
   "execution_count": 41,
   "metadata": {},
   "outputs": [],
   "source": [
    "import pandas as pd"
   ]
  },
  {
   "cell_type": "code",
   "execution_count": 42,
   "metadata": {},
   "outputs": [
    {
     "data": {
      "text/html": [
       "<div>\n",
       "<style scoped>\n",
       "    .dataframe tbody tr th:only-of-type {\n",
       "        vertical-align: middle;\n",
       "    }\n",
       "\n",
       "    .dataframe tbody tr th {\n",
       "        vertical-align: top;\n",
       "    }\n",
       "\n",
       "    .dataframe thead th {\n",
       "        text-align: right;\n",
       "    }\n",
       "</style>\n",
       "<table border=\"1\" class=\"dataframe\">\n",
       "  <thead>\n",
       "    <tr style=\"text-align: right;\">\n",
       "      <th></th>\n",
       "      <th>Vehicle Type</th>\n",
       "      <th>Manufacturer</th>\n",
       "      <th>Owner</th>\n",
       "      <th>Horsepower</th>\n",
       "      <th>Torque (lb-ft)</th>\n",
       "      <th>Fuel Economy (mpg)</th>\n",
       "    </tr>\n",
       "  </thead>\n",
       "  <tbody>\n",
       "    <tr>\n",
       "      <th>0</th>\n",
       "      <td>Car</td>\n",
       "      <td>Ford</td>\n",
       "      <td>Bob</td>\n",
       "      <td>265</td>\n",
       "      <td>270</td>\n",
       "      <td>25</td>\n",
       "    </tr>\n",
       "    <tr>\n",
       "      <th>1</th>\n",
       "      <td>Car</td>\n",
       "      <td>GM</td>\n",
       "      <td>Andrew</td>\n",
       "      <td>190</td>\n",
       "      <td>215</td>\n",
       "      <td>27</td>\n",
       "    </tr>\n",
       "    <tr>\n",
       "      <th>2</th>\n",
       "      <td>SUV</td>\n",
       "      <td>Ford</td>\n",
       "      <td>Sally</td>\n",
       "      <td>240</td>\n",
       "      <td>203</td>\n",
       "      <td>22</td>\n",
       "    </tr>\n",
       "    <tr>\n",
       "      <th>3</th>\n",
       "      <td>Car</td>\n",
       "      <td>Chevy</td>\n",
       "      <td>Amanda</td>\n",
       "      <td>350</td>\n",
       "      <td>350</td>\n",
       "      <td>31</td>\n",
       "    </tr>\n",
       "    <tr>\n",
       "      <th>4</th>\n",
       "      <td>Truck</td>\n",
       "      <td>Ford</td>\n",
       "      <td>Bill</td>\n",
       "      <td>365</td>\n",
       "      <td>415</td>\n",
       "      <td>19</td>\n",
       "    </tr>\n",
       "    <tr>\n",
       "      <th>5</th>\n",
       "      <td>Truck</td>\n",
       "      <td>Chevy</td>\n",
       "      <td>Mike</td>\n",
       "      <td>400</td>\n",
       "      <td>275</td>\n",
       "      <td>17</td>\n",
       "    </tr>\n",
       "    <tr>\n",
       "      <th>6</th>\n",
       "      <td>SUV</td>\n",
       "      <td>GM</td>\n",
       "      <td>Lindsey</td>\n",
       "      <td>275</td>\n",
       "      <td>290</td>\n",
       "      <td>23</td>\n",
       "    </tr>\n",
       "    <tr>\n",
       "      <th>7</th>\n",
       "      <td>Truck</td>\n",
       "      <td>GM</td>\n",
       "      <td>Kristen</td>\n",
       "      <td>300</td>\n",
       "      <td>190</td>\n",
       "      <td>18</td>\n",
       "    </tr>\n",
       "    <tr>\n",
       "      <th>8</th>\n",
       "      <td>Car</td>\n",
       "      <td>Ford</td>\n",
       "      <td>Matt</td>\n",
       "      <td>185</td>\n",
       "      <td>280</td>\n",
       "      <td>27</td>\n",
       "    </tr>\n",
       "    <tr>\n",
       "      <th>9</th>\n",
       "      <td>SUV</td>\n",
       "      <td>Chevy</td>\n",
       "      <td>Anna</td>\n",
       "      <td>280</td>\n",
       "      <td>305</td>\n",
       "      <td>21</td>\n",
       "    </tr>\n",
       "    <tr>\n",
       "      <th>10</th>\n",
       "      <td>SUV</td>\n",
       "      <td>GM</td>\n",
       "      <td>Jon</td>\n",
       "      <td>310</td>\n",
       "      <td>250</td>\n",
       "      <td>19</td>\n",
       "    </tr>\n",
       "    <tr>\n",
       "      <th>11</th>\n",
       "      <td>Truck</td>\n",
       "      <td>Chevy</td>\n",
       "      <td>Erin</td>\n",
       "      <td>240</td>\n",
       "      <td>290</td>\n",
       "      <td>18</td>\n",
       "    </tr>\n",
       "  </tbody>\n",
       "</table>\n",
       "</div>"
      ],
      "text/plain": [
       "   Vehicle Type Manufacturer    Owner  Horsepower  Torque (lb-ft)  \\\n",
       "0           Car         Ford      Bob         265             270   \n",
       "1           Car           GM   Andrew         190             215   \n",
       "2           SUV         Ford    Sally         240             203   \n",
       "3           Car        Chevy   Amanda         350             350   \n",
       "4         Truck         Ford     Bill         365             415   \n",
       "5         Truck        Chevy     Mike         400             275   \n",
       "6           SUV           GM  Lindsey         275             290   \n",
       "7         Truck           GM  Kristen         300             190   \n",
       "8           Car         Ford     Matt         185             280   \n",
       "9           SUV        Chevy     Anna         280             305   \n",
       "10          SUV           GM      Jon         310             250   \n",
       "11        Truck        Chevy     Erin         240             290   \n",
       "\n",
       "    Fuel Economy (mpg)  \n",
       "0                   25  \n",
       "1                   27  \n",
       "2                   22  \n",
       "3                   31  \n",
       "4                   19  \n",
       "5                   17  \n",
       "6                   23  \n",
       "7                   18  \n",
       "8                   27  \n",
       "9                   21  \n",
       "10                  19  \n",
       "11                  18  "
      ]
     },
     "execution_count": 42,
     "metadata": {},
     "output_type": "execute_result"
    }
   ],
   "source": [
    "# Create a DataFrame to demonstrate grouping\n",
    "raw_dict = {\n",
    "    \"Vehicle Type\": [\n",
    "        \"Car\",\n",
    "        \"Car\",\n",
    "        \"SUV\",\n",
    "        \"Car\",\n",
    "        \"Truck\",\n",
    "        \"Truck\",\n",
    "        \"SUV\",\n",
    "        \"Truck\",\n",
    "        \"Car\",\n",
    "        \"SUV\",\n",
    "        \"SUV\",\n",
    "        \"Truck\",\n",
    "    ],\n",
    "    \"Manufacturer\": [\n",
    "        \"Ford\",\n",
    "        \"GM\",\n",
    "        \"Ford\",\n",
    "        \"Chevy\",\n",
    "        \"Ford\",\n",
    "        \"Chevy\",\n",
    "        \"GM\",\n",
    "        \"GM\",\n",
    "        \"Ford\",\n",
    "        \"Chevy\",\n",
    "        \"GM\",\n",
    "        \"Chevy\",\n",
    "    ],\n",
    "    \"Owner\": [\n",
    "        \"Bob\",\n",
    "        \"Andrew\",\n",
    "        \"Sally\",\n",
    "        \"Amanda\",\n",
    "        \"Bill\",\n",
    "        \"Mike\",\n",
    "        \"Lindsey\",\n",
    "        \"Kristen\",\n",
    "        \"Matt\",\n",
    "        \"Anna\",\n",
    "        \"Jon\",\n",
    "        \"Erin\",\n",
    "    ],\n",
    "    \"Horsepower\": [265, 190, 240, 350, 365, 400, 275, 300, 185, 280, 310, 240],\n",
    "    \"Torque (lb-ft)\": [270, 215, 203, 350, 415, 275, 290, 190, 280, 305, 250, 290],\n",
    "    \"Fuel Economy (mpg)\": [25, 27, 22, 31, 19, 17, 23, 18, 27, 21, 19, 18],\n",
    "}\n",
    "\n",
    "vehicles_df = pd.DataFrame(raw_dict)\n",
    "vehicles_df"
   ]
  },
  {
   "cell_type": "markdown",
   "metadata": {},
   "source": [
    "To start grouping a DataFrame, run the following:\n",
    "~~~~{.python}\n",
    "grouped_df = original_df.groupby('column1')\n",
    "~~~~\n",
    "\n",
    "<code class=\"python\">.groupby()</code> returns a \"GroupBy\" object. In the above line of code, <code class=\"python\">grouped_df</code> is what holds the \"GroupBy\" object. The variable (column name) that you want to group by is passed into <code class=\"python\">.groupby()</code>. In the above line of code, we are grouping <code class=\"python\">original_df</code> by the unique values in column named <code class=\"python\">'column1'</code>.\n",
    "\n",
    "Another example `prints` the \"GroupBy\" object, confirming the \"GroupBy\" object is created."
   ]
  },
  {
   "cell_type": "code",
   "execution_count": 43,
   "metadata": {},
   "outputs": [
    {
     "name": "stdout",
     "output_type": "stream",
     "text": [
      "<pandas.core.groupby.generic.DataFrameGroupBy object at 0x0B5C5B70>\n"
     ]
    }
   ],
   "source": [
    "# Group vehicles_df by the \"Vehicle Type\" column\n",
    "grouped_vehicles_df = vehicles_df.groupby(\"Vehicle Type\")\n",
    "\n",
    "# Note that the \"GroupBy\" object by itself is not particularly useful\n",
    "print(grouped_vehicles_df)"
   ]
  },
  {
   "cell_type": "markdown",
   "metadata": {},
   "source": [
    "Howeever, this \"GroupBy\" object is not exactly usable or useful in and of itself; running data functions on it (e.g., <code class=\"python\">.sum()</code>, <code class=\"python\">.mean()</code>) will let you extract useful summary statistics for each group.\n",
    "\n",
    "Our `vehicles_df` DataFrame contains 12 rows of data. Each row of data represents a specific vehicle model and there are 5 columns, or variables, that describe each model (fuel economy, horsepower, manufacturer, torque, and vehicle type). While this data is useful as is, grouping it lets us extract more insights from it. \n",
    "\n",
    "So, we've grouped our `vehicles_df` DataFrame by `\"Vehicle Type\"`, and assigned the resultant \"GroupBy\" object to `grouped_vehicles_df`. While printing this object offers no useful information, We can run data functions on this \"GroupBy\" object to obtain summary statistics per each group (e.g., Car, Truck, and SUV).\n",
    "\n",
    "First, let's obtain a count of all values per vehicle type, across all columns:"
   ]
  },
  {
   "cell_type": "code",
   "execution_count": 44,
   "metadata": {},
   "outputs": [
    {
     "data": {
      "text/html": [
       "<div>\n",
       "<style scoped>\n",
       "    .dataframe tbody tr th:only-of-type {\n",
       "        vertical-align: middle;\n",
       "    }\n",
       "\n",
       "    .dataframe tbody tr th {\n",
       "        vertical-align: top;\n",
       "    }\n",
       "\n",
       "    .dataframe thead th {\n",
       "        text-align: right;\n",
       "    }\n",
       "</style>\n",
       "<table border=\"1\" class=\"dataframe\">\n",
       "  <thead>\n",
       "    <tr style=\"text-align: right;\">\n",
       "      <th></th>\n",
       "      <th>Manufacturer</th>\n",
       "      <th>Owner</th>\n",
       "      <th>Horsepower</th>\n",
       "      <th>Torque (lb-ft)</th>\n",
       "      <th>Fuel Economy (mpg)</th>\n",
       "    </tr>\n",
       "    <tr>\n",
       "      <th>Vehicle Type</th>\n",
       "      <th></th>\n",
       "      <th></th>\n",
       "      <th></th>\n",
       "      <th></th>\n",
       "      <th></th>\n",
       "    </tr>\n",
       "  </thead>\n",
       "  <tbody>\n",
       "    <tr>\n",
       "      <th>Car</th>\n",
       "      <td>4</td>\n",
       "      <td>4</td>\n",
       "      <td>4</td>\n",
       "      <td>4</td>\n",
       "      <td>4</td>\n",
       "    </tr>\n",
       "    <tr>\n",
       "      <th>SUV</th>\n",
       "      <td>4</td>\n",
       "      <td>4</td>\n",
       "      <td>4</td>\n",
       "      <td>4</td>\n",
       "      <td>4</td>\n",
       "    </tr>\n",
       "    <tr>\n",
       "      <th>Truck</th>\n",
       "      <td>4</td>\n",
       "      <td>4</td>\n",
       "      <td>4</td>\n",
       "      <td>4</td>\n",
       "      <td>4</td>\n",
       "    </tr>\n",
       "  </tbody>\n",
       "</table>\n",
       "</div>"
      ],
      "text/plain": [
       "              Manufacturer  Owner  Horsepower  Torque (lb-ft)  \\\n",
       "Vehicle Type                                                    \n",
       "Car                      4      4           4               4   \n",
       "SUV                      4      4           4               4   \n",
       "Truck                    4      4           4               4   \n",
       "\n",
       "              Fuel Economy (mpg)  \n",
       "Vehicle Type                      \n",
       "Car                            4  \n",
       "SUV                            4  \n",
       "Truck                          4  "
      ]
     },
     "execution_count": 44,
     "metadata": {},
     "output_type": "execute_result"
    }
   ],
   "source": [
    "# Use the `count` function to count the number of values from each column for each grouped `Vehicle Type`.\n",
    "grouped_vehicles_df.count()"
   ]
  },
  {
   "cell_type": "markdown",
   "metadata": {},
   "source": [
    "In the above line, we simply ran <code class=\"python\">.count()</code> on our entire \"GroupBy\" object.\n",
    "\n",
    "We can also run these data functions on one column, or a select few columns. Now, let's find out the average fuel economy per group:"
   ]
  },
  {
   "cell_type": "code",
   "execution_count": 45,
   "metadata": {},
   "outputs": [
    {
     "data": {
      "text/plain": [
       "Vehicle Type\n",
       "Car      27.50\n",
       "SUV      21.25\n",
       "Truck    18.00\n",
       "Name: Fuel Economy (mpg), dtype: float64"
      ]
     },
     "execution_count": 45,
     "metadata": {},
     "output_type": "execute_result"
    }
   ],
   "source": [
    "# Use the `mean` function to calculate the mean from the values of `Fuel Economy (mpg)` for each grouped `Vehicle Type`.\n",
    "grouped_vehicles_df[\"Fuel Economy (mpg)\"].mean()"
   ]
  },
  {
   "cell_type": "markdown",
   "metadata": {},
   "source": [
    "How about the maximum horsepower and torque per group?"
   ]
  },
  {
   "cell_type": "code",
   "execution_count": 46,
   "metadata": {},
   "outputs": [
    {
     "data": {
      "text/html": [
       "<div>\n",
       "<style scoped>\n",
       "    .dataframe tbody tr th:only-of-type {\n",
       "        vertical-align: middle;\n",
       "    }\n",
       "\n",
       "    .dataframe tbody tr th {\n",
       "        vertical-align: top;\n",
       "    }\n",
       "\n",
       "    .dataframe thead th {\n",
       "        text-align: right;\n",
       "    }\n",
       "</style>\n",
       "<table border=\"1\" class=\"dataframe\">\n",
       "  <thead>\n",
       "    <tr style=\"text-align: right;\">\n",
       "      <th></th>\n",
       "      <th>Horsepower</th>\n",
       "      <th>Torque (lb-ft)</th>\n",
       "    </tr>\n",
       "    <tr>\n",
       "      <th>Vehicle Type</th>\n",
       "      <th></th>\n",
       "      <th></th>\n",
       "    </tr>\n",
       "  </thead>\n",
       "  <tbody>\n",
       "    <tr>\n",
       "      <th>Car</th>\n",
       "      <td>350</td>\n",
       "      <td>350</td>\n",
       "    </tr>\n",
       "    <tr>\n",
       "      <th>SUV</th>\n",
       "      <td>310</td>\n",
       "      <td>305</td>\n",
       "    </tr>\n",
       "    <tr>\n",
       "      <th>Truck</th>\n",
       "      <td>400</td>\n",
       "      <td>415</td>\n",
       "    </tr>\n",
       "  </tbody>\n",
       "</table>\n",
       "</div>"
      ],
      "text/plain": [
       "              Horsepower  Torque (lb-ft)\n",
       "Vehicle Type                            \n",
       "Car                  350             350\n",
       "SUV                  310             305\n",
       "Truck                400             415"
      ]
     },
     "execution_count": 46,
     "metadata": {},
     "output_type": "execute_result"
    }
   ],
   "source": [
    "# Use the `max` function to calculate the max from each column and use the `loc` function to filter and return the max values from columns `Horsepower` to `Torque (lb-ft).\n",
    "grouped_vehicles_df.max().loc[:, \"Horsepower\":\"Torque (lb-ft)\"]"
   ]
  },
  {
   "cell_type": "markdown",
   "metadata": {},
   "source": [
    "Note: Running a data function on a \"GroupBy\" object returns a DataFrame (if 2-D), or a Series (if 1-D). Thus, you can create new DataFrames based on the results of these data functions"
   ]
  },
  {
   "cell_type": "code",
   "execution_count": 47,
   "metadata": {},
   "outputs": [
    {
     "data": {
      "text/html": [
       "<div>\n",
       "<style scoped>\n",
       "    .dataframe tbody tr th:only-of-type {\n",
       "        vertical-align: middle;\n",
       "    }\n",
       "\n",
       "    .dataframe tbody tr th {\n",
       "        vertical-align: top;\n",
       "    }\n",
       "\n",
       "    .dataframe thead th {\n",
       "        text-align: right;\n",
       "    }\n",
       "</style>\n",
       "<table border=\"1\" class=\"dataframe\">\n",
       "  <thead>\n",
       "    <tr style=\"text-align: right;\">\n",
       "      <th></th>\n",
       "      <th>Horsepower</th>\n",
       "      <th>Torque (lb-ft)</th>\n",
       "    </tr>\n",
       "    <tr>\n",
       "      <th>Vehicle Type</th>\n",
       "      <th></th>\n",
       "      <th></th>\n",
       "    </tr>\n",
       "  </thead>\n",
       "  <tbody>\n",
       "    <tr>\n",
       "      <th>Car</th>\n",
       "      <td>185</td>\n",
       "      <td>215</td>\n",
       "    </tr>\n",
       "    <tr>\n",
       "      <th>SUV</th>\n",
       "      <td>240</td>\n",
       "      <td>203</td>\n",
       "    </tr>\n",
       "    <tr>\n",
       "      <th>Truck</th>\n",
       "      <td>240</td>\n",
       "      <td>190</td>\n",
       "    </tr>\n",
       "  </tbody>\n",
       "</table>\n",
       "</div>"
      ],
      "text/plain": [
       "              Horsepower  Torque (lb-ft)\n",
       "Vehicle Type                            \n",
       "Car                  185             215\n",
       "SUV                  240             203\n",
       "Truck                240             190"
      ]
     },
     "execution_count": 47,
     "metadata": {},
     "output_type": "execute_result"
    }
   ],
   "source": [
    "# Use the `min` function to calculate the min from each column and use the `loc` function to filter and return the max values from columns `Horsepower` to `Torque (lb-ft).\n",
    "min_power_tq = grouped_vehicles_df.min().loc[:, \"Horsepower\":\"Torque (lb-ft)\"]\n",
    "min_power_tq"
   ]
  },
  {
   "cell_type": "code",
   "execution_count": 48,
   "metadata": {},
   "outputs": [
    {
     "data": {
      "text/plain": [
       "pandas.core.frame.DataFrame"
      ]
     },
     "execution_count": 48,
     "metadata": {},
     "output_type": "execute_result"
    }
   ],
   "source": [
    "# Proving that the result of running data functions on \"GroupBy\" objects is a DataFrame\n",
    "type(min_power_tq)"
   ]
  },
  {
   "cell_type": "markdown",
   "metadata": {},
   "source": [
    "One last thing about grouping: **you can group by multiple columns**.\n",
    "\n",
    "This is useful if you're dealing with demographic data and want to group by city AND state. You can do this by passing in a list that contains the columns you want to group by."
   ]
  },
  {
   "cell_type": "code",
   "execution_count": 49,
   "metadata": {},
   "outputs": [
    {
     "data": {
      "text/html": [
       "<div>\n",
       "<style scoped>\n",
       "    .dataframe tbody tr th:only-of-type {\n",
       "        vertical-align: middle;\n",
       "    }\n",
       "\n",
       "    .dataframe tbody tr th {\n",
       "        vertical-align: top;\n",
       "    }\n",
       "\n",
       "    .dataframe thead th {\n",
       "        text-align: right;\n",
       "    }\n",
       "</style>\n",
       "<table border=\"1\" class=\"dataframe\">\n",
       "  <thead>\n",
       "    <tr style=\"text-align: right;\">\n",
       "      <th></th>\n",
       "      <th></th>\n",
       "      <th>Horsepower</th>\n",
       "      <th>Torque (lb-ft)</th>\n",
       "      <th>Fuel Economy (mpg)</th>\n",
       "    </tr>\n",
       "    <tr>\n",
       "      <th>Manufacturer</th>\n",
       "      <th>Vehicle Type</th>\n",
       "      <th></th>\n",
       "      <th></th>\n",
       "      <th></th>\n",
       "    </tr>\n",
       "  </thead>\n",
       "  <tbody>\n",
       "    <tr>\n",
       "      <th rowspan=\"3\" valign=\"top\">Chevy</th>\n",
       "      <th>Car</th>\n",
       "      <td>350.0</td>\n",
       "      <td>350.0</td>\n",
       "      <td>31.0</td>\n",
       "    </tr>\n",
       "    <tr>\n",
       "      <th>SUV</th>\n",
       "      <td>280.0</td>\n",
       "      <td>305.0</td>\n",
       "      <td>21.0</td>\n",
       "    </tr>\n",
       "    <tr>\n",
       "      <th>Truck</th>\n",
       "      <td>320.0</td>\n",
       "      <td>282.5</td>\n",
       "      <td>17.5</td>\n",
       "    </tr>\n",
       "    <tr>\n",
       "      <th rowspan=\"3\" valign=\"top\">Ford</th>\n",
       "      <th>Car</th>\n",
       "      <td>225.0</td>\n",
       "      <td>275.0</td>\n",
       "      <td>26.0</td>\n",
       "    </tr>\n",
       "    <tr>\n",
       "      <th>SUV</th>\n",
       "      <td>240.0</td>\n",
       "      <td>203.0</td>\n",
       "      <td>22.0</td>\n",
       "    </tr>\n",
       "    <tr>\n",
       "      <th>Truck</th>\n",
       "      <td>365.0</td>\n",
       "      <td>415.0</td>\n",
       "      <td>19.0</td>\n",
       "    </tr>\n",
       "    <tr>\n",
       "      <th rowspan=\"3\" valign=\"top\">GM</th>\n",
       "      <th>Car</th>\n",
       "      <td>190.0</td>\n",
       "      <td>215.0</td>\n",
       "      <td>27.0</td>\n",
       "    </tr>\n",
       "    <tr>\n",
       "      <th>SUV</th>\n",
       "      <td>292.5</td>\n",
       "      <td>270.0</td>\n",
       "      <td>21.0</td>\n",
       "    </tr>\n",
       "    <tr>\n",
       "      <th>Truck</th>\n",
       "      <td>300.0</td>\n",
       "      <td>190.0</td>\n",
       "      <td>18.0</td>\n",
       "    </tr>\n",
       "  </tbody>\n",
       "</table>\n",
       "</div>"
      ],
      "text/plain": [
       "                           Horsepower  Torque (lb-ft)  Fuel Economy (mpg)\n",
       "Manufacturer Vehicle Type                                                \n",
       "Chevy        Car                350.0           350.0                31.0\n",
       "             SUV                280.0           305.0                21.0\n",
       "             Truck              320.0           282.5                17.5\n",
       "Ford         Car                225.0           275.0                26.0\n",
       "             SUV                240.0           203.0                22.0\n",
       "             Truck              365.0           415.0                19.0\n",
       "GM           Car                190.0           215.0                27.0\n",
       "             SUV                292.5           270.0                21.0\n",
       "             Truck              300.0           190.0                18.0"
      ]
     },
     "execution_count": 49,
     "metadata": {},
     "output_type": "execute_result"
    }
   ],
   "source": [
    "# Group vehicles_df by both Manufacturer AND Vehicle Type\n",
    "grouped_vehicles_df_2 = vehicles_df.groupby([\"Manufacturer\", \"Vehicle Type\"])\n",
    "\n",
    "# Get averages\n",
    "grouped_vehicles_df_2.mean()"
   ]
  },
  {
   "cell_type": "markdown",
   "metadata": {},
   "source": [
    "### <a id='Sorting'>Sorting</a>\n",
    "\n",
    "Pandas makes it possible to sort by the values in different columns in any DataFrame. The main function for this is **<code class=\"python\">.sort_values()</code>**.\n",
    "\n",
    "Let's sort <code class=\"python\">vehicles_df</code>, from our previous example, by fuel economy:"
   ]
  },
  {
   "cell_type": "code",
   "execution_count": 50,
   "metadata": {},
   "outputs": [
    {
     "data": {
      "text/html": [
       "<div>\n",
       "<style scoped>\n",
       "    .dataframe tbody tr th:only-of-type {\n",
       "        vertical-align: middle;\n",
       "    }\n",
       "\n",
       "    .dataframe tbody tr th {\n",
       "        vertical-align: top;\n",
       "    }\n",
       "\n",
       "    .dataframe thead th {\n",
       "        text-align: right;\n",
       "    }\n",
       "</style>\n",
       "<table border=\"1\" class=\"dataframe\">\n",
       "  <thead>\n",
       "    <tr style=\"text-align: right;\">\n",
       "      <th></th>\n",
       "      <th>Vehicle Type</th>\n",
       "      <th>Manufacturer</th>\n",
       "      <th>Owner</th>\n",
       "      <th>Horsepower</th>\n",
       "      <th>Torque (lb-ft)</th>\n",
       "      <th>Fuel Economy (mpg)</th>\n",
       "    </tr>\n",
       "  </thead>\n",
       "  <tbody>\n",
       "    <tr>\n",
       "      <th>0</th>\n",
       "      <td>Car</td>\n",
       "      <td>Ford</td>\n",
       "      <td>Bob</td>\n",
       "      <td>265</td>\n",
       "      <td>270</td>\n",
       "      <td>25</td>\n",
       "    </tr>\n",
       "    <tr>\n",
       "      <th>1</th>\n",
       "      <td>Car</td>\n",
       "      <td>GM</td>\n",
       "      <td>Andrew</td>\n",
       "      <td>190</td>\n",
       "      <td>215</td>\n",
       "      <td>27</td>\n",
       "    </tr>\n",
       "    <tr>\n",
       "      <th>2</th>\n",
       "      <td>SUV</td>\n",
       "      <td>Ford</td>\n",
       "      <td>Sally</td>\n",
       "      <td>240</td>\n",
       "      <td>203</td>\n",
       "      <td>22</td>\n",
       "    </tr>\n",
       "    <tr>\n",
       "      <th>3</th>\n",
       "      <td>Car</td>\n",
       "      <td>Chevy</td>\n",
       "      <td>Amanda</td>\n",
       "      <td>350</td>\n",
       "      <td>350</td>\n",
       "      <td>31</td>\n",
       "    </tr>\n",
       "    <tr>\n",
       "      <th>4</th>\n",
       "      <td>Truck</td>\n",
       "      <td>Ford</td>\n",
       "      <td>Bill</td>\n",
       "      <td>365</td>\n",
       "      <td>415</td>\n",
       "      <td>19</td>\n",
       "    </tr>\n",
       "    <tr>\n",
       "      <th>5</th>\n",
       "      <td>Truck</td>\n",
       "      <td>Chevy</td>\n",
       "      <td>Mike</td>\n",
       "      <td>400</td>\n",
       "      <td>275</td>\n",
       "      <td>17</td>\n",
       "    </tr>\n",
       "    <tr>\n",
       "      <th>6</th>\n",
       "      <td>SUV</td>\n",
       "      <td>GM</td>\n",
       "      <td>Lindsey</td>\n",
       "      <td>275</td>\n",
       "      <td>290</td>\n",
       "      <td>23</td>\n",
       "    </tr>\n",
       "    <tr>\n",
       "      <th>7</th>\n",
       "      <td>Truck</td>\n",
       "      <td>GM</td>\n",
       "      <td>Kristen</td>\n",
       "      <td>300</td>\n",
       "      <td>190</td>\n",
       "      <td>18</td>\n",
       "    </tr>\n",
       "    <tr>\n",
       "      <th>8</th>\n",
       "      <td>Car</td>\n",
       "      <td>Ford</td>\n",
       "      <td>Matt</td>\n",
       "      <td>185</td>\n",
       "      <td>280</td>\n",
       "      <td>27</td>\n",
       "    </tr>\n",
       "    <tr>\n",
       "      <th>9</th>\n",
       "      <td>SUV</td>\n",
       "      <td>Chevy</td>\n",
       "      <td>Anna</td>\n",
       "      <td>280</td>\n",
       "      <td>305</td>\n",
       "      <td>21</td>\n",
       "    </tr>\n",
       "    <tr>\n",
       "      <th>10</th>\n",
       "      <td>SUV</td>\n",
       "      <td>GM</td>\n",
       "      <td>Jon</td>\n",
       "      <td>310</td>\n",
       "      <td>250</td>\n",
       "      <td>19</td>\n",
       "    </tr>\n",
       "    <tr>\n",
       "      <th>11</th>\n",
       "      <td>Truck</td>\n",
       "      <td>Chevy</td>\n",
       "      <td>Erin</td>\n",
       "      <td>240</td>\n",
       "      <td>290</td>\n",
       "      <td>18</td>\n",
       "    </tr>\n",
       "  </tbody>\n",
       "</table>\n",
       "</div>"
      ],
      "text/plain": [
       "   Vehicle Type Manufacturer    Owner  Horsepower  Torque (lb-ft)  \\\n",
       "0           Car         Ford      Bob         265             270   \n",
       "1           Car           GM   Andrew         190             215   \n",
       "2           SUV         Ford    Sally         240             203   \n",
       "3           Car        Chevy   Amanda         350             350   \n",
       "4         Truck         Ford     Bill         365             415   \n",
       "5         Truck        Chevy     Mike         400             275   \n",
       "6           SUV           GM  Lindsey         275             290   \n",
       "7         Truck           GM  Kristen         300             190   \n",
       "8           Car         Ford     Matt         185             280   \n",
       "9           SUV        Chevy     Anna         280             305   \n",
       "10          SUV           GM      Jon         310             250   \n",
       "11        Truck        Chevy     Erin         240             290   \n",
       "\n",
       "    Fuel Economy (mpg)  \n",
       "0                   25  \n",
       "1                   27  \n",
       "2                   22  \n",
       "3                   31  \n",
       "4                   19  \n",
       "5                   17  \n",
       "6                   23  \n",
       "7                   18  \n",
       "8                   27  \n",
       "9                   21  \n",
       "10                  19  \n",
       "11                  18  "
      ]
     },
     "execution_count": 50,
     "metadata": {},
     "output_type": "execute_result"
    }
   ],
   "source": [
    "# First, let's see what the unaltered vehicles_df looks like\n",
    "vehicles_df"
   ]
  },
  {
   "cell_type": "code",
   "execution_count": 51,
   "metadata": {},
   "outputs": [
    {
     "data": {
      "text/html": [
       "<div>\n",
       "<style scoped>\n",
       "    .dataframe tbody tr th:only-of-type {\n",
       "        vertical-align: middle;\n",
       "    }\n",
       "\n",
       "    .dataframe tbody tr th {\n",
       "        vertical-align: top;\n",
       "    }\n",
       "\n",
       "    .dataframe thead th {\n",
       "        text-align: right;\n",
       "    }\n",
       "</style>\n",
       "<table border=\"1\" class=\"dataframe\">\n",
       "  <thead>\n",
       "    <tr style=\"text-align: right;\">\n",
       "      <th></th>\n",
       "      <th>Vehicle Type</th>\n",
       "      <th>Manufacturer</th>\n",
       "      <th>Owner</th>\n",
       "      <th>Horsepower</th>\n",
       "      <th>Torque (lb-ft)</th>\n",
       "      <th>Fuel Economy (mpg)</th>\n",
       "    </tr>\n",
       "  </thead>\n",
       "  <tbody>\n",
       "    <tr>\n",
       "      <th>5</th>\n",
       "      <td>Truck</td>\n",
       "      <td>Chevy</td>\n",
       "      <td>Mike</td>\n",
       "      <td>400</td>\n",
       "      <td>275</td>\n",
       "      <td>17</td>\n",
       "    </tr>\n",
       "    <tr>\n",
       "      <th>7</th>\n",
       "      <td>Truck</td>\n",
       "      <td>GM</td>\n",
       "      <td>Kristen</td>\n",
       "      <td>300</td>\n",
       "      <td>190</td>\n",
       "      <td>18</td>\n",
       "    </tr>\n",
       "    <tr>\n",
       "      <th>11</th>\n",
       "      <td>Truck</td>\n",
       "      <td>Chevy</td>\n",
       "      <td>Erin</td>\n",
       "      <td>240</td>\n",
       "      <td>290</td>\n",
       "      <td>18</td>\n",
       "    </tr>\n",
       "    <tr>\n",
       "      <th>4</th>\n",
       "      <td>Truck</td>\n",
       "      <td>Ford</td>\n",
       "      <td>Bill</td>\n",
       "      <td>365</td>\n",
       "      <td>415</td>\n",
       "      <td>19</td>\n",
       "    </tr>\n",
       "    <tr>\n",
       "      <th>10</th>\n",
       "      <td>SUV</td>\n",
       "      <td>GM</td>\n",
       "      <td>Jon</td>\n",
       "      <td>310</td>\n",
       "      <td>250</td>\n",
       "      <td>19</td>\n",
       "    </tr>\n",
       "    <tr>\n",
       "      <th>9</th>\n",
       "      <td>SUV</td>\n",
       "      <td>Chevy</td>\n",
       "      <td>Anna</td>\n",
       "      <td>280</td>\n",
       "      <td>305</td>\n",
       "      <td>21</td>\n",
       "    </tr>\n",
       "    <tr>\n",
       "      <th>2</th>\n",
       "      <td>SUV</td>\n",
       "      <td>Ford</td>\n",
       "      <td>Sally</td>\n",
       "      <td>240</td>\n",
       "      <td>203</td>\n",
       "      <td>22</td>\n",
       "    </tr>\n",
       "    <tr>\n",
       "      <th>6</th>\n",
       "      <td>SUV</td>\n",
       "      <td>GM</td>\n",
       "      <td>Lindsey</td>\n",
       "      <td>275</td>\n",
       "      <td>290</td>\n",
       "      <td>23</td>\n",
       "    </tr>\n",
       "    <tr>\n",
       "      <th>0</th>\n",
       "      <td>Car</td>\n",
       "      <td>Ford</td>\n",
       "      <td>Bob</td>\n",
       "      <td>265</td>\n",
       "      <td>270</td>\n",
       "      <td>25</td>\n",
       "    </tr>\n",
       "    <tr>\n",
       "      <th>1</th>\n",
       "      <td>Car</td>\n",
       "      <td>GM</td>\n",
       "      <td>Andrew</td>\n",
       "      <td>190</td>\n",
       "      <td>215</td>\n",
       "      <td>27</td>\n",
       "    </tr>\n",
       "    <tr>\n",
       "      <th>8</th>\n",
       "      <td>Car</td>\n",
       "      <td>Ford</td>\n",
       "      <td>Matt</td>\n",
       "      <td>185</td>\n",
       "      <td>280</td>\n",
       "      <td>27</td>\n",
       "    </tr>\n",
       "    <tr>\n",
       "      <th>3</th>\n",
       "      <td>Car</td>\n",
       "      <td>Chevy</td>\n",
       "      <td>Amanda</td>\n",
       "      <td>350</td>\n",
       "      <td>350</td>\n",
       "      <td>31</td>\n",
       "    </tr>\n",
       "  </tbody>\n",
       "</table>\n",
       "</div>"
      ],
      "text/plain": [
       "   Vehicle Type Manufacturer    Owner  Horsepower  Torque (lb-ft)  \\\n",
       "5         Truck        Chevy     Mike         400             275   \n",
       "7         Truck           GM  Kristen         300             190   \n",
       "11        Truck        Chevy     Erin         240             290   \n",
       "4         Truck         Ford     Bill         365             415   \n",
       "10          SUV           GM      Jon         310             250   \n",
       "9           SUV        Chevy     Anna         280             305   \n",
       "2           SUV         Ford    Sally         240             203   \n",
       "6           SUV           GM  Lindsey         275             290   \n",
       "0           Car         Ford      Bob         265             270   \n",
       "1           Car           GM   Andrew         190             215   \n",
       "8           Car         Ford     Matt         185             280   \n",
       "3           Car        Chevy   Amanda         350             350   \n",
       "\n",
       "    Fuel Economy (mpg)  \n",
       "5                   17  \n",
       "7                   18  \n",
       "11                  18  \n",
       "4                   19  \n",
       "10                  19  \n",
       "9                   21  \n",
       "2                   22  \n",
       "6                   23  \n",
       "0                   25  \n",
       "1                   27  \n",
       "8                   27  \n",
       "3                   31  "
      ]
     },
     "execution_count": 51,
     "metadata": {},
     "output_type": "execute_result"
    }
   ],
   "source": [
    "# Now, let's sort this DataFrame by the \"Fuel Economy (mpg)\" column\n",
    "vehicles_df.sort_values(\"Fuel Economy (mpg)\")"
   ]
  },
  {
   "cell_type": "markdown",
   "metadata": {},
   "source": [
    "Note that <code class=\"python\">.sort_values()</code> sorts ascending (or, from smallest to largest) by default. We can also sort descending by simply passing in <code class=\"python\">ascending=False</code> into <code class=\"python\">.sort_values()</code>"
   ]
  },
  {
   "cell_type": "code",
   "execution_count": 52,
   "metadata": {},
   "outputs": [
    {
     "data": {
      "text/html": [
       "<div>\n",
       "<style scoped>\n",
       "    .dataframe tbody tr th:only-of-type {\n",
       "        vertical-align: middle;\n",
       "    }\n",
       "\n",
       "    .dataframe tbody tr th {\n",
       "        vertical-align: top;\n",
       "    }\n",
       "\n",
       "    .dataframe thead th {\n",
       "        text-align: right;\n",
       "    }\n",
       "</style>\n",
       "<table border=\"1\" class=\"dataframe\">\n",
       "  <thead>\n",
       "    <tr style=\"text-align: right;\">\n",
       "      <th></th>\n",
       "      <th>Vehicle Type</th>\n",
       "      <th>Manufacturer</th>\n",
       "      <th>Owner</th>\n",
       "      <th>Horsepower</th>\n",
       "      <th>Torque (lb-ft)</th>\n",
       "      <th>Fuel Economy (mpg)</th>\n",
       "    </tr>\n",
       "  </thead>\n",
       "  <tbody>\n",
       "    <tr>\n",
       "      <th>3</th>\n",
       "      <td>Car</td>\n",
       "      <td>Chevy</td>\n",
       "      <td>Amanda</td>\n",
       "      <td>350</td>\n",
       "      <td>350</td>\n",
       "      <td>31</td>\n",
       "    </tr>\n",
       "    <tr>\n",
       "      <th>1</th>\n",
       "      <td>Car</td>\n",
       "      <td>GM</td>\n",
       "      <td>Andrew</td>\n",
       "      <td>190</td>\n",
       "      <td>215</td>\n",
       "      <td>27</td>\n",
       "    </tr>\n",
       "    <tr>\n",
       "      <th>8</th>\n",
       "      <td>Car</td>\n",
       "      <td>Ford</td>\n",
       "      <td>Matt</td>\n",
       "      <td>185</td>\n",
       "      <td>280</td>\n",
       "      <td>27</td>\n",
       "    </tr>\n",
       "    <tr>\n",
       "      <th>0</th>\n",
       "      <td>Car</td>\n",
       "      <td>Ford</td>\n",
       "      <td>Bob</td>\n",
       "      <td>265</td>\n",
       "      <td>270</td>\n",
       "      <td>25</td>\n",
       "    </tr>\n",
       "    <tr>\n",
       "      <th>6</th>\n",
       "      <td>SUV</td>\n",
       "      <td>GM</td>\n",
       "      <td>Lindsey</td>\n",
       "      <td>275</td>\n",
       "      <td>290</td>\n",
       "      <td>23</td>\n",
       "    </tr>\n",
       "    <tr>\n",
       "      <th>2</th>\n",
       "      <td>SUV</td>\n",
       "      <td>Ford</td>\n",
       "      <td>Sally</td>\n",
       "      <td>240</td>\n",
       "      <td>203</td>\n",
       "      <td>22</td>\n",
       "    </tr>\n",
       "    <tr>\n",
       "      <th>9</th>\n",
       "      <td>SUV</td>\n",
       "      <td>Chevy</td>\n",
       "      <td>Anna</td>\n",
       "      <td>280</td>\n",
       "      <td>305</td>\n",
       "      <td>21</td>\n",
       "    </tr>\n",
       "    <tr>\n",
       "      <th>4</th>\n",
       "      <td>Truck</td>\n",
       "      <td>Ford</td>\n",
       "      <td>Bill</td>\n",
       "      <td>365</td>\n",
       "      <td>415</td>\n",
       "      <td>19</td>\n",
       "    </tr>\n",
       "    <tr>\n",
       "      <th>10</th>\n",
       "      <td>SUV</td>\n",
       "      <td>GM</td>\n",
       "      <td>Jon</td>\n",
       "      <td>310</td>\n",
       "      <td>250</td>\n",
       "      <td>19</td>\n",
       "    </tr>\n",
       "    <tr>\n",
       "      <th>7</th>\n",
       "      <td>Truck</td>\n",
       "      <td>GM</td>\n",
       "      <td>Kristen</td>\n",
       "      <td>300</td>\n",
       "      <td>190</td>\n",
       "      <td>18</td>\n",
       "    </tr>\n",
       "    <tr>\n",
       "      <th>11</th>\n",
       "      <td>Truck</td>\n",
       "      <td>Chevy</td>\n",
       "      <td>Erin</td>\n",
       "      <td>240</td>\n",
       "      <td>290</td>\n",
       "      <td>18</td>\n",
       "    </tr>\n",
       "    <tr>\n",
       "      <th>5</th>\n",
       "      <td>Truck</td>\n",
       "      <td>Chevy</td>\n",
       "      <td>Mike</td>\n",
       "      <td>400</td>\n",
       "      <td>275</td>\n",
       "      <td>17</td>\n",
       "    </tr>\n",
       "  </tbody>\n",
       "</table>\n",
       "</div>"
      ],
      "text/plain": [
       "   Vehicle Type Manufacturer    Owner  Horsepower  Torque (lb-ft)  \\\n",
       "3           Car        Chevy   Amanda         350             350   \n",
       "1           Car           GM   Andrew         190             215   \n",
       "8           Car         Ford     Matt         185             280   \n",
       "0           Car         Ford      Bob         265             270   \n",
       "6           SUV           GM  Lindsey         275             290   \n",
       "2           SUV         Ford    Sally         240             203   \n",
       "9           SUV        Chevy     Anna         280             305   \n",
       "4         Truck         Ford     Bill         365             415   \n",
       "10          SUV           GM      Jon         310             250   \n",
       "7         Truck           GM  Kristen         300             190   \n",
       "11        Truck        Chevy     Erin         240             290   \n",
       "5         Truck        Chevy     Mike         400             275   \n",
       "\n",
       "    Fuel Economy (mpg)  \n",
       "3                   31  \n",
       "1                   27  \n",
       "8                   27  \n",
       "0                   25  \n",
       "6                   23  \n",
       "2                   22  \n",
       "9                   21  \n",
       "4                   19  \n",
       "10                  19  \n",
       "7                   18  \n",
       "11                  18  \n",
       "5                   17  "
      ]
     },
     "execution_count": 52,
     "metadata": {},
     "output_type": "execute_result"
    }
   ],
   "source": [
    "# Sort DESCENDING by the \"Fuel Economy (mpg)\" column\n",
    "vehicles_df.sort_values(\"Fuel Economy (mpg)\", ascending=False)"
   ]
  },
  {
   "cell_type": "code",
   "execution_count": 53,
   "metadata": {},
   "outputs": [
    {
     "data": {
      "text/html": [
       "<div>\n",
       "<style scoped>\n",
       "    .dataframe tbody tr th:only-of-type {\n",
       "        vertical-align: middle;\n",
       "    }\n",
       "\n",
       "    .dataframe tbody tr th {\n",
       "        vertical-align: top;\n",
       "    }\n",
       "\n",
       "    .dataframe thead th {\n",
       "        text-align: right;\n",
       "    }\n",
       "</style>\n",
       "<table border=\"1\" class=\"dataframe\">\n",
       "  <thead>\n",
       "    <tr style=\"text-align: right;\">\n",
       "      <th></th>\n",
       "      <th>Vehicle Type</th>\n",
       "      <th>Manufacturer</th>\n",
       "      <th>Owner</th>\n",
       "      <th>Horsepower</th>\n",
       "      <th>Torque (lb-ft)</th>\n",
       "      <th>Fuel Economy (mpg)</th>\n",
       "    </tr>\n",
       "  </thead>\n",
       "  <tbody>\n",
       "    <tr>\n",
       "      <th>5</th>\n",
       "      <td>Truck</td>\n",
       "      <td>Chevy</td>\n",
       "      <td>Mike</td>\n",
       "      <td>400</td>\n",
       "      <td>275</td>\n",
       "      <td>17</td>\n",
       "    </tr>\n",
       "    <tr>\n",
       "      <th>7</th>\n",
       "      <td>Truck</td>\n",
       "      <td>GM</td>\n",
       "      <td>Kristen</td>\n",
       "      <td>300</td>\n",
       "      <td>190</td>\n",
       "      <td>18</td>\n",
       "    </tr>\n",
       "    <tr>\n",
       "      <th>11</th>\n",
       "      <td>Truck</td>\n",
       "      <td>Chevy</td>\n",
       "      <td>Erin</td>\n",
       "      <td>240</td>\n",
       "      <td>290</td>\n",
       "      <td>18</td>\n",
       "    </tr>\n",
       "    <tr>\n",
       "      <th>4</th>\n",
       "      <td>Truck</td>\n",
       "      <td>Ford</td>\n",
       "      <td>Bill</td>\n",
       "      <td>365</td>\n",
       "      <td>415</td>\n",
       "      <td>19</td>\n",
       "    </tr>\n",
       "    <tr>\n",
       "      <th>10</th>\n",
       "      <td>SUV</td>\n",
       "      <td>GM</td>\n",
       "      <td>Jon</td>\n",
       "      <td>310</td>\n",
       "      <td>250</td>\n",
       "      <td>19</td>\n",
       "    </tr>\n",
       "  </tbody>\n",
       "</table>\n",
       "</div>"
      ],
      "text/plain": [
       "   Vehicle Type Manufacturer    Owner  Horsepower  Torque (lb-ft)  \\\n",
       "5         Truck        Chevy     Mike         400             275   \n",
       "7         Truck           GM  Kristen         300             190   \n",
       "11        Truck        Chevy     Erin         240             290   \n",
       "4         Truck         Ford     Bill         365             415   \n",
       "10          SUV           GM      Jon         310             250   \n",
       "\n",
       "    Fuel Economy (mpg)  \n",
       "5                   17  \n",
       "7                   18  \n",
       "11                  18  \n",
       "4                   19  \n",
       "10                  19  "
      ]
     },
     "execution_count": 53,
     "metadata": {},
     "output_type": "execute_result"
    }
   ],
   "source": [
    "# Creating a new DataFrame from the result of running .sort_values()\n",
    "sorted_df = vehicles_df.sort_values(\"Fuel Economy (mpg)\")\n",
    "sorted_df.head()"
   ]
  },
  {
   "cell_type": "markdown",
   "metadata": {},
   "source": [
    "Note that sorting a DataFrame does not reset the row indexes. Once you sort a DataFrame, it's best practice to reset the row indexes. Use the **<code class=\"python\">.reset_index()</code>** function to do this."
   ]
  },
  {
   "cell_type": "code",
   "execution_count": 54,
   "metadata": {},
   "outputs": [
    {
     "data": {
      "text/html": [
       "<div>\n",
       "<style scoped>\n",
       "    .dataframe tbody tr th:only-of-type {\n",
       "        vertical-align: middle;\n",
       "    }\n",
       "\n",
       "    .dataframe tbody tr th {\n",
       "        vertical-align: top;\n",
       "    }\n",
       "\n",
       "    .dataframe thead th {\n",
       "        text-align: right;\n",
       "    }\n",
       "</style>\n",
       "<table border=\"1\" class=\"dataframe\">\n",
       "  <thead>\n",
       "    <tr style=\"text-align: right;\">\n",
       "      <th></th>\n",
       "      <th>Vehicle Type</th>\n",
       "      <th>Manufacturer</th>\n",
       "      <th>Owner</th>\n",
       "      <th>Horsepower</th>\n",
       "      <th>Torque (lb-ft)</th>\n",
       "      <th>Fuel Economy (mpg)</th>\n",
       "    </tr>\n",
       "  </thead>\n",
       "  <tbody>\n",
       "    <tr>\n",
       "      <th>0</th>\n",
       "      <td>Truck</td>\n",
       "      <td>Chevy</td>\n",
       "      <td>Mike</td>\n",
       "      <td>400</td>\n",
       "      <td>275</td>\n",
       "      <td>17</td>\n",
       "    </tr>\n",
       "    <tr>\n",
       "      <th>1</th>\n",
       "      <td>Truck</td>\n",
       "      <td>GM</td>\n",
       "      <td>Kristen</td>\n",
       "      <td>300</td>\n",
       "      <td>190</td>\n",
       "      <td>18</td>\n",
       "    </tr>\n",
       "    <tr>\n",
       "      <th>2</th>\n",
       "      <td>Truck</td>\n",
       "      <td>Chevy</td>\n",
       "      <td>Erin</td>\n",
       "      <td>240</td>\n",
       "      <td>290</td>\n",
       "      <td>18</td>\n",
       "    </tr>\n",
       "    <tr>\n",
       "      <th>3</th>\n",
       "      <td>Truck</td>\n",
       "      <td>Ford</td>\n",
       "      <td>Bill</td>\n",
       "      <td>365</td>\n",
       "      <td>415</td>\n",
       "      <td>19</td>\n",
       "    </tr>\n",
       "    <tr>\n",
       "      <th>4</th>\n",
       "      <td>SUV</td>\n",
       "      <td>GM</td>\n",
       "      <td>Jon</td>\n",
       "      <td>310</td>\n",
       "      <td>250</td>\n",
       "      <td>19</td>\n",
       "    </tr>\n",
       "  </tbody>\n",
       "</table>\n",
       "</div>"
      ],
      "text/plain": [
       "  Vehicle Type Manufacturer    Owner  Horsepower  Torque (lb-ft)  \\\n",
       "0        Truck        Chevy     Mike         400             275   \n",
       "1        Truck           GM  Kristen         300             190   \n",
       "2        Truck        Chevy     Erin         240             290   \n",
       "3        Truck         Ford     Bill         365             415   \n",
       "4          SUV           GM      Jon         310             250   \n",
       "\n",
       "   Fuel Economy (mpg)  \n",
       "0                  17  \n",
       "1                  18  \n",
       "2                  18  \n",
       "3                  19  \n",
       "4                  19  "
      ]
     },
     "execution_count": 54,
     "metadata": {},
     "output_type": "execute_result"
    }
   ],
   "source": [
    "# Run the .reset_index() on the sorted DataFrame\n",
    "# Pass in drop=True to prevent appending a new column with the old indexes to the DataFrame\n",
    "sorted_df = sorted_df.reset_index(drop=True)\n",
    "sorted_df.head()"
   ]
  },
  {
   "cell_type": "markdown",
   "metadata": {},
   "source": [
    "### <a id='Concatenating'>Concatenating</a>\n",
    "\n",
    "Many times, the data you'll want to analyze comes in the form of several tables. Pandas contains a function called **<code class=\"python\">concat()</code>** that will append two DataFrames together.\n",
    "\n",
    "In order to append two DataFrames successfully, you'll need to specify both an axis and the type of join operation for the multiple DataFrames. The axis determines whether the DataFrames will be appended by **row** or by **column**, and the join operation appends the DataFrames by an intersection of the two datasets (**inner join**) or a union of the two datasets (**outer join**).\n",
    "\n",
    "Let's go through the different types of concatenations using two DataFrames—-one that contains an online retailer's purchase data for the past week, and another one that contains data on customers who've signed up for the email list."
   ]
  },
  {
   "cell_type": "code",
   "execution_count": 55,
   "metadata": {},
   "outputs": [
    {
     "data": {
      "text/html": [
       "<div>\n",
       "<style scoped>\n",
       "    .dataframe tbody tr th:only-of-type {\n",
       "        vertical-align: middle;\n",
       "    }\n",
       "\n",
       "    .dataframe tbody tr th {\n",
       "        vertical-align: top;\n",
       "    }\n",
       "\n",
       "    .dataframe thead th {\n",
       "        text-align: right;\n",
       "    }\n",
       "</style>\n",
       "<table border=\"1\" class=\"dataframe\">\n",
       "  <thead>\n",
       "    <tr style=\"text-align: right;\">\n",
       "      <th></th>\n",
       "      <th>Customer ID</th>\n",
       "      <th>Order Price</th>\n",
       "      <th>Category</th>\n",
       "    </tr>\n",
       "  </thead>\n",
       "  <tbody>\n",
       "    <tr>\n",
       "      <th>0</th>\n",
       "      <td>123</td>\n",
       "      <td>9.99</td>\n",
       "      <td>Clothes</td>\n",
       "    </tr>\n",
       "    <tr>\n",
       "      <th>1</th>\n",
       "      <td>757</td>\n",
       "      <td>15.00</td>\n",
       "      <td>Electronics</td>\n",
       "    </tr>\n",
       "    <tr>\n",
       "      <th>2</th>\n",
       "      <td>985</td>\n",
       "      <td>7.99</td>\n",
       "      <td>Toys</td>\n",
       "    </tr>\n",
       "    <tr>\n",
       "      <th>3</th>\n",
       "      <td>907</td>\n",
       "      <td>25.00</td>\n",
       "      <td>Toys</td>\n",
       "    </tr>\n",
       "    <tr>\n",
       "      <th>4</th>\n",
       "      <td>642</td>\n",
       "      <td>18.00</td>\n",
       "      <td>Clothes</td>\n",
       "    </tr>\n",
       "    <tr>\n",
       "      <th>5</th>\n",
       "      <td>754</td>\n",
       "      <td>31.00</td>\n",
       "      <td>Toys</td>\n",
       "    </tr>\n",
       "    <tr>\n",
       "      <th>6</th>\n",
       "      <td>396</td>\n",
       "      <td>29.99</td>\n",
       "      <td>Electronics</td>\n",
       "    </tr>\n",
       "    <tr>\n",
       "      <th>7</th>\n",
       "      <td>278</td>\n",
       "      <td>17.99</td>\n",
       "      <td>Clothes</td>\n",
       "    </tr>\n",
       "  </tbody>\n",
       "</table>\n",
       "</div>"
      ],
      "text/plain": [
       "   Customer ID  Order Price     Category\n",
       "0          123         9.99      Clothes\n",
       "1          757        15.00  Electronics\n",
       "2          985         7.99         Toys\n",
       "3          907        25.00         Toys\n",
       "4          642        18.00      Clothes\n",
       "5          754        31.00         Toys\n",
       "6          396        29.99  Electronics\n",
       "7          278        17.99      Clothes"
      ]
     },
     "execution_count": 55,
     "metadata": {},
     "output_type": "execute_result"
    }
   ],
   "source": [
    "# Create the DataFrame containing purchase data\n",
    "purchase_dict = {\n",
    "    \"Customer ID\": [123, 757, 985, 907, 642, 754, 396, 278],\n",
    "    \"Order Price\": [9.99, 15.00, 7.99, 25.00, 18.00, 31.00, 29.99, 17.99],\n",
    "    \"Category\": [\n",
    "        \"Clothes\",\n",
    "        \"Electronics\",\n",
    "        \"Toys\",\n",
    "        \"Toys\",\n",
    "        \"Clothes\",\n",
    "        \"Toys\",\n",
    "        \"Electronics\",\n",
    "        \"Clothes\",\n",
    "    ]\n",
    "}\n",
    "\n",
    "purchase_df = pd.DataFrame(purchase_dict)\n",
    "purchase_df"
   ]
  },
  {
   "cell_type": "code",
   "execution_count": 56,
   "metadata": {},
   "outputs": [
    {
     "data": {
      "text/html": [
       "<div>\n",
       "<style scoped>\n",
       "    .dataframe tbody tr th:only-of-type {\n",
       "        vertical-align: middle;\n",
       "    }\n",
       "\n",
       "    .dataframe tbody tr th {\n",
       "        vertical-align: top;\n",
       "    }\n",
       "\n",
       "    .dataframe thead th {\n",
       "        text-align: right;\n",
       "    }\n",
       "</style>\n",
       "<table border=\"1\" class=\"dataframe\">\n",
       "  <thead>\n",
       "    <tr style=\"text-align: right;\">\n",
       "      <th></th>\n",
       "      <th>Customer ID</th>\n",
       "      <th>Name</th>\n",
       "      <th>Email Address</th>\n",
       "    </tr>\n",
       "  </thead>\n",
       "  <tbody>\n",
       "    <tr>\n",
       "      <th>0</th>\n",
       "      <td>123</td>\n",
       "      <td>Jill</td>\n",
       "      <td>jill29@gmail.com</td>\n",
       "    </tr>\n",
       "    <tr>\n",
       "      <th>1</th>\n",
       "      <td>147</td>\n",
       "      <td>Tony</td>\n",
       "      <td>tony@yahoo.com</td>\n",
       "    </tr>\n",
       "    <tr>\n",
       "      <th>2</th>\n",
       "      <td>278</td>\n",
       "      <td>Sarah</td>\n",
       "      <td>sarah.b@gmail.com</td>\n",
       "    </tr>\n",
       "    <tr>\n",
       "      <th>3</th>\n",
       "      <td>396</td>\n",
       "      <td>Bill</td>\n",
       "      <td>bill93@gmail.com</td>\n",
       "    </tr>\n",
       "    <tr>\n",
       "      <th>4</th>\n",
       "      <td>421</td>\n",
       "      <td>Erin</td>\n",
       "      <td>erinm@yahoo.com</td>\n",
       "    </tr>\n",
       "    <tr>\n",
       "      <th>5</th>\n",
       "      <td>642</td>\n",
       "      <td>Tyler</td>\n",
       "      <td>tyler@aol.com</td>\n",
       "    </tr>\n",
       "    <tr>\n",
       "      <th>6</th>\n",
       "      <td>754</td>\n",
       "      <td>Amanda</td>\n",
       "      <td>amanda72@gmail.com</td>\n",
       "    </tr>\n",
       "  </tbody>\n",
       "</table>\n",
       "</div>"
      ],
      "text/plain": [
       "   Customer ID    Name       Email Address\n",
       "0          123    Jill    jill29@gmail.com\n",
       "1          147    Tony      tony@yahoo.com\n",
       "2          278   Sarah   sarah.b@gmail.com\n",
       "3          396    Bill    bill93@gmail.com\n",
       "4          421    Erin     erinm@yahoo.com\n",
       "5          642   Tyler       tyler@aol.com\n",
       "6          754  Amanda  amanda72@gmail.com"
      ]
     },
     "execution_count": 56,
     "metadata": {},
     "output_type": "execute_result"
    }
   ],
   "source": [
    "# Create the DataFrame containing email list data\n",
    "email_dict = {\n",
    "    \"Customer ID\": [123, 147, 278, 396, 421, 642, 754],\n",
    "    \"Name\": [\"Jill\", \"Tony\", \"Sarah\", \"Bill\", \"Erin\", \"Tyler\", \"Amanda\"],\n",
    "    \"Email Address\": [\n",
    "        \"jill29@gmail.com\",\n",
    "        \"tony@yahoo.com\",\n",
    "        \"sarah.b@gmail.com\",\n",
    "        \"bill93@gmail.com\",\n",
    "        \"erinm@yahoo.com\",\n",
    "        \"tyler@aol.com\",\n",
    "        \"amanda72@gmail.com\",\n",
    "    ]\n",
    "}\n",
    "\n",
    "email_df = pd.DataFrame(email_dict)\n",
    "email_df"
   ]
  },
  {
   "cell_type": "markdown",
   "metadata": {},
   "source": [
    "Note that the two DataFrames share the \"Customer ID\" column in common.\n",
    "\n",
    "A DataFrame concatenation via the **rows** axis and an **inner join** joins the two DataFrames and appends along the rows, creating a combined DataFrame that includes only the **values** from columns that are matching."
   ]
  },
  {
   "cell_type": "code",
   "execution_count": 57,
   "metadata": {},
   "outputs": [
    {
     "data": {
      "text/html": [
       "<div>\n",
       "<style scoped>\n",
       "    .dataframe tbody tr th:only-of-type {\n",
       "        vertical-align: middle;\n",
       "    }\n",
       "\n",
       "    .dataframe tbody tr th {\n",
       "        vertical-align: top;\n",
       "    }\n",
       "\n",
       "    .dataframe thead th {\n",
       "        text-align: right;\n",
       "    }\n",
       "</style>\n",
       "<table border=\"1\" class=\"dataframe\">\n",
       "  <thead>\n",
       "    <tr style=\"text-align: right;\">\n",
       "      <th></th>\n",
       "      <th>Customer ID</th>\n",
       "    </tr>\n",
       "  </thead>\n",
       "  <tbody>\n",
       "    <tr>\n",
       "      <th>0</th>\n",
       "      <td>123</td>\n",
       "    </tr>\n",
       "    <tr>\n",
       "      <th>1</th>\n",
       "      <td>757</td>\n",
       "    </tr>\n",
       "    <tr>\n",
       "      <th>2</th>\n",
       "      <td>985</td>\n",
       "    </tr>\n",
       "    <tr>\n",
       "      <th>3</th>\n",
       "      <td>907</td>\n",
       "    </tr>\n",
       "    <tr>\n",
       "      <th>4</th>\n",
       "      <td>642</td>\n",
       "    </tr>\n",
       "    <tr>\n",
       "      <th>5</th>\n",
       "      <td>754</td>\n",
       "    </tr>\n",
       "    <tr>\n",
       "      <th>6</th>\n",
       "      <td>396</td>\n",
       "    </tr>\n",
       "    <tr>\n",
       "      <th>7</th>\n",
       "      <td>278</td>\n",
       "    </tr>\n",
       "    <tr>\n",
       "      <th>0</th>\n",
       "      <td>123</td>\n",
       "    </tr>\n",
       "    <tr>\n",
       "      <th>1</th>\n",
       "      <td>147</td>\n",
       "    </tr>\n",
       "    <tr>\n",
       "      <th>2</th>\n",
       "      <td>278</td>\n",
       "    </tr>\n",
       "    <tr>\n",
       "      <th>3</th>\n",
       "      <td>396</td>\n",
       "    </tr>\n",
       "    <tr>\n",
       "      <th>4</th>\n",
       "      <td>421</td>\n",
       "    </tr>\n",
       "    <tr>\n",
       "      <th>5</th>\n",
       "      <td>642</td>\n",
       "    </tr>\n",
       "    <tr>\n",
       "      <th>6</th>\n",
       "      <td>754</td>\n",
       "    </tr>\n",
       "  </tbody>\n",
       "</table>\n",
       "</div>"
      ],
      "text/plain": [
       "   Customer ID\n",
       "0          123\n",
       "1          757\n",
       "2          985\n",
       "3          907\n",
       "4          642\n",
       "5          754\n",
       "6          396\n",
       "7          278\n",
       "0          123\n",
       "1          147\n",
       "2          278\n",
       "3          396\n",
       "4          421\n",
       "5          642\n",
       "6          754"
      ]
     },
     "execution_count": 57,
     "metadata": {},
     "output_type": "execute_result"
    }
   ],
   "source": [
    "# Concatenate the `purchase_df` with the `email_df` by row axis and perform an inner join\n",
    "inner_row_concat_df = pd.concat(\n",
    "    [purchase_df, email_df], axis=\"rows\", join=\"inner\"\n",
    ")\n",
    "\n",
    "inner_row_concat_df"
   ]
  },
  {
   "cell_type": "markdown",
   "metadata": {},
   "source": [
    "On the other hand, a DataFrame concatenation via the **rows** axis and an **outer join** joins the two DataFrames and appends along the rows, creating a combined DataFrame including **values** from columns that are either matching or not matching."
   ]
  },
  {
   "cell_type": "code",
   "execution_count": 58,
   "metadata": {},
   "outputs": [
    {
     "data": {
      "text/html": [
       "<div>\n",
       "<style scoped>\n",
       "    .dataframe tbody tr th:only-of-type {\n",
       "        vertical-align: middle;\n",
       "    }\n",
       "\n",
       "    .dataframe tbody tr th {\n",
       "        vertical-align: top;\n",
       "    }\n",
       "\n",
       "    .dataframe thead th {\n",
       "        text-align: right;\n",
       "    }\n",
       "</style>\n",
       "<table border=\"1\" class=\"dataframe\">\n",
       "  <thead>\n",
       "    <tr style=\"text-align: right;\">\n",
       "      <th></th>\n",
       "      <th>Customer ID</th>\n",
       "      <th>Order Price</th>\n",
       "      <th>Category</th>\n",
       "      <th>Name</th>\n",
       "      <th>Email Address</th>\n",
       "    </tr>\n",
       "  </thead>\n",
       "  <tbody>\n",
       "    <tr>\n",
       "      <th>0</th>\n",
       "      <td>123</td>\n",
       "      <td>9.99</td>\n",
       "      <td>Clothes</td>\n",
       "      <td>NaN</td>\n",
       "      <td>NaN</td>\n",
       "    </tr>\n",
       "    <tr>\n",
       "      <th>1</th>\n",
       "      <td>757</td>\n",
       "      <td>15.00</td>\n",
       "      <td>Electronics</td>\n",
       "      <td>NaN</td>\n",
       "      <td>NaN</td>\n",
       "    </tr>\n",
       "    <tr>\n",
       "      <th>2</th>\n",
       "      <td>985</td>\n",
       "      <td>7.99</td>\n",
       "      <td>Toys</td>\n",
       "      <td>NaN</td>\n",
       "      <td>NaN</td>\n",
       "    </tr>\n",
       "    <tr>\n",
       "      <th>3</th>\n",
       "      <td>907</td>\n",
       "      <td>25.00</td>\n",
       "      <td>Toys</td>\n",
       "      <td>NaN</td>\n",
       "      <td>NaN</td>\n",
       "    </tr>\n",
       "    <tr>\n",
       "      <th>4</th>\n",
       "      <td>642</td>\n",
       "      <td>18.00</td>\n",
       "      <td>Clothes</td>\n",
       "      <td>NaN</td>\n",
       "      <td>NaN</td>\n",
       "    </tr>\n",
       "    <tr>\n",
       "      <th>5</th>\n",
       "      <td>754</td>\n",
       "      <td>31.00</td>\n",
       "      <td>Toys</td>\n",
       "      <td>NaN</td>\n",
       "      <td>NaN</td>\n",
       "    </tr>\n",
       "    <tr>\n",
       "      <th>6</th>\n",
       "      <td>396</td>\n",
       "      <td>29.99</td>\n",
       "      <td>Electronics</td>\n",
       "      <td>NaN</td>\n",
       "      <td>NaN</td>\n",
       "    </tr>\n",
       "    <tr>\n",
       "      <th>7</th>\n",
       "      <td>278</td>\n",
       "      <td>17.99</td>\n",
       "      <td>Clothes</td>\n",
       "      <td>NaN</td>\n",
       "      <td>NaN</td>\n",
       "    </tr>\n",
       "    <tr>\n",
       "      <th>0</th>\n",
       "      <td>123</td>\n",
       "      <td>NaN</td>\n",
       "      <td>NaN</td>\n",
       "      <td>Jill</td>\n",
       "      <td>jill29@gmail.com</td>\n",
       "    </tr>\n",
       "    <tr>\n",
       "      <th>1</th>\n",
       "      <td>147</td>\n",
       "      <td>NaN</td>\n",
       "      <td>NaN</td>\n",
       "      <td>Tony</td>\n",
       "      <td>tony@yahoo.com</td>\n",
       "    </tr>\n",
       "    <tr>\n",
       "      <th>2</th>\n",
       "      <td>278</td>\n",
       "      <td>NaN</td>\n",
       "      <td>NaN</td>\n",
       "      <td>Sarah</td>\n",
       "      <td>sarah.b@gmail.com</td>\n",
       "    </tr>\n",
       "    <tr>\n",
       "      <th>3</th>\n",
       "      <td>396</td>\n",
       "      <td>NaN</td>\n",
       "      <td>NaN</td>\n",
       "      <td>Bill</td>\n",
       "      <td>bill93@gmail.com</td>\n",
       "    </tr>\n",
       "    <tr>\n",
       "      <th>4</th>\n",
       "      <td>421</td>\n",
       "      <td>NaN</td>\n",
       "      <td>NaN</td>\n",
       "      <td>Erin</td>\n",
       "      <td>erinm@yahoo.com</td>\n",
       "    </tr>\n",
       "    <tr>\n",
       "      <th>5</th>\n",
       "      <td>642</td>\n",
       "      <td>NaN</td>\n",
       "      <td>NaN</td>\n",
       "      <td>Tyler</td>\n",
       "      <td>tyler@aol.com</td>\n",
       "    </tr>\n",
       "    <tr>\n",
       "      <th>6</th>\n",
       "      <td>754</td>\n",
       "      <td>NaN</td>\n",
       "      <td>NaN</td>\n",
       "      <td>Amanda</td>\n",
       "      <td>amanda72@gmail.com</td>\n",
       "    </tr>\n",
       "  </tbody>\n",
       "</table>\n",
       "</div>"
      ],
      "text/plain": [
       "   Customer ID  Order Price     Category    Name       Email Address\n",
       "0          123         9.99      Clothes     NaN                 NaN\n",
       "1          757        15.00  Electronics     NaN                 NaN\n",
       "2          985         7.99         Toys     NaN                 NaN\n",
       "3          907        25.00         Toys     NaN                 NaN\n",
       "4          642        18.00      Clothes     NaN                 NaN\n",
       "5          754        31.00         Toys     NaN                 NaN\n",
       "6          396        29.99  Electronics     NaN                 NaN\n",
       "7          278        17.99      Clothes     NaN                 NaN\n",
       "0          123          NaN          NaN    Jill    jill29@gmail.com\n",
       "1          147          NaN          NaN    Tony      tony@yahoo.com\n",
       "2          278          NaN          NaN   Sarah   sarah.b@gmail.com\n",
       "3          396          NaN          NaN    Bill    bill93@gmail.com\n",
       "4          421          NaN          NaN    Erin     erinm@yahoo.com\n",
       "5          642          NaN          NaN   Tyler       tyler@aol.com\n",
       "6          754          NaN          NaN  Amanda  amanda72@gmail.com"
      ]
     },
     "execution_count": 58,
     "metadata": {},
     "output_type": "execute_result"
    }
   ],
   "source": [
    "# Concatenate the `purchase_df` with the `email_df` by row axis and perform an outer join\n",
    "outer_row_concat_df = pd.concat(\n",
    "    [purchase_df, email_df], axis=\"rows\", join=\"outer\", sort=False\n",
    ")\n",
    "\n",
    "outer_row_concat_df"
   ]
  },
  {
   "cell_type": "markdown",
   "metadata": {},
   "source": [
    "The outer join concatenation we just performed appends all rows from both DataFrames as well as their associated column data. If a customer who placed an order in the past week *has not* signed up for the email list (e.g., they are in the <code class=\"python\">purchase_df</code> DataFrame, but not the <code class=\"python\">email_df</code> DataFrame), Pandas fills in the \"Name\" and \"Email Address\" fields with null values (<code class=\"python\">NaN</code>). If someone who has signed up for the email list *has not* placed an order in the past week (e.g., they are in the <code class=\"python\">email_df</code> DataFrame, but not the <code class=\"python\">purchase_df</code> DataFrame), Pandas fills in the \"Category\" and \"Order Price\" with null values (<code class=\"python\">NaN</code>).\n",
    "\n",
    "Next, a DataFrame concatenation via the **columns** axis and an **inner join** joins the two DataFrames and appends along the columns, creating a combined DataFrame that matches entire records from both DataFrames by a matching column value (Customer ID).\n",
    "\n",
    "Note: This is what you'd expect from your typical SQL inner join."
   ]
  },
  {
   "cell_type": "code",
   "execution_count": 59,
   "metadata": {},
   "outputs": [
    {
     "data": {
      "text/html": [
       "<div>\n",
       "<style scoped>\n",
       "    .dataframe tbody tr th:only-of-type {\n",
       "        vertical-align: middle;\n",
       "    }\n",
       "\n",
       "    .dataframe tbody tr th {\n",
       "        vertical-align: top;\n",
       "    }\n",
       "\n",
       "    .dataframe thead th {\n",
       "        text-align: right;\n",
       "    }\n",
       "</style>\n",
       "<table border=\"1\" class=\"dataframe\">\n",
       "  <thead>\n",
       "    <tr style=\"text-align: right;\">\n",
       "      <th></th>\n",
       "      <th>Customer ID</th>\n",
       "      <th>Order Price</th>\n",
       "      <th>Category</th>\n",
       "      <th>Customer ID</th>\n",
       "      <th>Name</th>\n",
       "      <th>Email Address</th>\n",
       "    </tr>\n",
       "  </thead>\n",
       "  <tbody>\n",
       "    <tr>\n",
       "      <th>0</th>\n",
       "      <td>123</td>\n",
       "      <td>9.99</td>\n",
       "      <td>Clothes</td>\n",
       "      <td>123</td>\n",
       "      <td>Jill</td>\n",
       "      <td>jill29@gmail.com</td>\n",
       "    </tr>\n",
       "    <tr>\n",
       "      <th>1</th>\n",
       "      <td>757</td>\n",
       "      <td>15.00</td>\n",
       "      <td>Electronics</td>\n",
       "      <td>147</td>\n",
       "      <td>Tony</td>\n",
       "      <td>tony@yahoo.com</td>\n",
       "    </tr>\n",
       "    <tr>\n",
       "      <th>2</th>\n",
       "      <td>985</td>\n",
       "      <td>7.99</td>\n",
       "      <td>Toys</td>\n",
       "      <td>278</td>\n",
       "      <td>Sarah</td>\n",
       "      <td>sarah.b@gmail.com</td>\n",
       "    </tr>\n",
       "    <tr>\n",
       "      <th>3</th>\n",
       "      <td>907</td>\n",
       "      <td>25.00</td>\n",
       "      <td>Toys</td>\n",
       "      <td>396</td>\n",
       "      <td>Bill</td>\n",
       "      <td>bill93@gmail.com</td>\n",
       "    </tr>\n",
       "    <tr>\n",
       "      <th>4</th>\n",
       "      <td>642</td>\n",
       "      <td>18.00</td>\n",
       "      <td>Clothes</td>\n",
       "      <td>421</td>\n",
       "      <td>Erin</td>\n",
       "      <td>erinm@yahoo.com</td>\n",
       "    </tr>\n",
       "    <tr>\n",
       "      <th>5</th>\n",
       "      <td>754</td>\n",
       "      <td>31.00</td>\n",
       "      <td>Toys</td>\n",
       "      <td>642</td>\n",
       "      <td>Tyler</td>\n",
       "      <td>tyler@aol.com</td>\n",
       "    </tr>\n",
       "    <tr>\n",
       "      <th>6</th>\n",
       "      <td>396</td>\n",
       "      <td>29.99</td>\n",
       "      <td>Electronics</td>\n",
       "      <td>754</td>\n",
       "      <td>Amanda</td>\n",
       "      <td>amanda72@gmail.com</td>\n",
       "    </tr>\n",
       "  </tbody>\n",
       "</table>\n",
       "</div>"
      ],
      "text/plain": [
       "   Customer ID  Order Price     Category  Customer ID    Name  \\\n",
       "0          123         9.99      Clothes          123    Jill   \n",
       "1          757        15.00  Electronics          147    Tony   \n",
       "2          985         7.99         Toys          278   Sarah   \n",
       "3          907        25.00         Toys          396    Bill   \n",
       "4          642        18.00      Clothes          421    Erin   \n",
       "5          754        31.00         Toys          642   Tyler   \n",
       "6          396        29.99  Electronics          754  Amanda   \n",
       "\n",
       "        Email Address  \n",
       "0    jill29@gmail.com  \n",
       "1      tony@yahoo.com  \n",
       "2   sarah.b@gmail.com  \n",
       "3    bill93@gmail.com  \n",
       "4     erinm@yahoo.com  \n",
       "5       tyler@aol.com  \n",
       "6  amanda72@gmail.com  "
      ]
     },
     "execution_count": 59,
     "metadata": {},
     "output_type": "execute_result"
    }
   ],
   "source": [
    "# Concatenate the `purchase_df` with the `email_df` by column axis and perform an inner join\n",
    "inner_column_concat_df = pd.concat(\n",
    "    [purchase_df, email_df], axis=\"columns\", join=\"inner\"\n",
    ")\n",
    "\n",
    "inner_column_concat_df"
   ]
  },
  {
   "cell_type": "markdown",
   "metadata": {},
   "source": [
    "Lastly, a DataFrame concatenation via the **columns** axis and an **outer join** joins the two DataFrames and appends along the columns, creating a combined DataFrame that includes entire records from both DataFrames, whether or not there is matching column value (Customer ID).\n",
    "\n",
    "Note: This is what you'd expect from your typical SQL outer join."
   ]
  },
  {
   "cell_type": "code",
   "execution_count": 60,
   "metadata": {},
   "outputs": [
    {
     "data": {
      "text/html": [
       "<div>\n",
       "<style scoped>\n",
       "    .dataframe tbody tr th:only-of-type {\n",
       "        vertical-align: middle;\n",
       "    }\n",
       "\n",
       "    .dataframe tbody tr th {\n",
       "        vertical-align: top;\n",
       "    }\n",
       "\n",
       "    .dataframe thead th {\n",
       "        text-align: right;\n",
       "    }\n",
       "</style>\n",
       "<table border=\"1\" class=\"dataframe\">\n",
       "  <thead>\n",
       "    <tr style=\"text-align: right;\">\n",
       "      <th></th>\n",
       "      <th>Customer ID</th>\n",
       "      <th>Order Price</th>\n",
       "      <th>Category</th>\n",
       "      <th>Customer ID</th>\n",
       "      <th>Name</th>\n",
       "      <th>Email Address</th>\n",
       "    </tr>\n",
       "  </thead>\n",
       "  <tbody>\n",
       "    <tr>\n",
       "      <th>0</th>\n",
       "      <td>123</td>\n",
       "      <td>9.99</td>\n",
       "      <td>Clothes</td>\n",
       "      <td>123.0</td>\n",
       "      <td>Jill</td>\n",
       "      <td>jill29@gmail.com</td>\n",
       "    </tr>\n",
       "    <tr>\n",
       "      <th>1</th>\n",
       "      <td>757</td>\n",
       "      <td>15.00</td>\n",
       "      <td>Electronics</td>\n",
       "      <td>147.0</td>\n",
       "      <td>Tony</td>\n",
       "      <td>tony@yahoo.com</td>\n",
       "    </tr>\n",
       "    <tr>\n",
       "      <th>2</th>\n",
       "      <td>985</td>\n",
       "      <td>7.99</td>\n",
       "      <td>Toys</td>\n",
       "      <td>278.0</td>\n",
       "      <td>Sarah</td>\n",
       "      <td>sarah.b@gmail.com</td>\n",
       "    </tr>\n",
       "    <tr>\n",
       "      <th>3</th>\n",
       "      <td>907</td>\n",
       "      <td>25.00</td>\n",
       "      <td>Toys</td>\n",
       "      <td>396.0</td>\n",
       "      <td>Bill</td>\n",
       "      <td>bill93@gmail.com</td>\n",
       "    </tr>\n",
       "    <tr>\n",
       "      <th>4</th>\n",
       "      <td>642</td>\n",
       "      <td>18.00</td>\n",
       "      <td>Clothes</td>\n",
       "      <td>421.0</td>\n",
       "      <td>Erin</td>\n",
       "      <td>erinm@yahoo.com</td>\n",
       "    </tr>\n",
       "    <tr>\n",
       "      <th>5</th>\n",
       "      <td>754</td>\n",
       "      <td>31.00</td>\n",
       "      <td>Toys</td>\n",
       "      <td>642.0</td>\n",
       "      <td>Tyler</td>\n",
       "      <td>tyler@aol.com</td>\n",
       "    </tr>\n",
       "    <tr>\n",
       "      <th>6</th>\n",
       "      <td>396</td>\n",
       "      <td>29.99</td>\n",
       "      <td>Electronics</td>\n",
       "      <td>754.0</td>\n",
       "      <td>Amanda</td>\n",
       "      <td>amanda72@gmail.com</td>\n",
       "    </tr>\n",
       "    <tr>\n",
       "      <th>7</th>\n",
       "      <td>278</td>\n",
       "      <td>17.99</td>\n",
       "      <td>Clothes</td>\n",
       "      <td>NaN</td>\n",
       "      <td>NaN</td>\n",
       "      <td>NaN</td>\n",
       "    </tr>\n",
       "  </tbody>\n",
       "</table>\n",
       "</div>"
      ],
      "text/plain": [
       "   Customer ID  Order Price     Category  Customer ID    Name  \\\n",
       "0          123         9.99      Clothes        123.0    Jill   \n",
       "1          757        15.00  Electronics        147.0    Tony   \n",
       "2          985         7.99         Toys        278.0   Sarah   \n",
       "3          907        25.00         Toys        396.0    Bill   \n",
       "4          642        18.00      Clothes        421.0    Erin   \n",
       "5          754        31.00         Toys        642.0   Tyler   \n",
       "6          396        29.99  Electronics        754.0  Amanda   \n",
       "7          278        17.99      Clothes          NaN     NaN   \n",
       "\n",
       "        Email Address  \n",
       "0    jill29@gmail.com  \n",
       "1      tony@yahoo.com  \n",
       "2   sarah.b@gmail.com  \n",
       "3    bill93@gmail.com  \n",
       "4     erinm@yahoo.com  \n",
       "5       tyler@aol.com  \n",
       "6  amanda72@gmail.com  \n",
       "7                 NaN  "
      ]
     },
     "execution_count": 60,
     "metadata": {},
     "output_type": "execute_result"
    }
   ],
   "source": [
    "# Concatenate the `purchase_df` with the `email_df` by column axis and perform an outer join\n",
    "outer_column_concat_df = pd.concat(\n",
    "    [purchase_df, email_df], axis=\"columns\", join=\"outer\"\n",
    ")\n",
    "\n",
    "outer_column_concat_df"
   ]
  },
  {
   "cell_type": "markdown",
   "metadata": {},
   "source": [
    "### <a id='Binning'>Binning</a>\n",
    "\n",
    "Often times, it's useful to put numeric data into bins. This allows for more vigorous and customizable analysis of datasets. `cut()` is a function in Pandas that gives you the capability of binning data.\n",
    "\n",
    "Let's work on binning the \"Horsepower\" values in `vehicles_df`."
   ]
  },
  {
   "cell_type": "code",
   "execution_count": 61,
   "metadata": {},
   "outputs": [
    {
     "data": {
      "text/html": [
       "<div>\n",
       "<style scoped>\n",
       "    .dataframe tbody tr th:only-of-type {\n",
       "        vertical-align: middle;\n",
       "    }\n",
       "\n",
       "    .dataframe tbody tr th {\n",
       "        vertical-align: top;\n",
       "    }\n",
       "\n",
       "    .dataframe thead th {\n",
       "        text-align: right;\n",
       "    }\n",
       "</style>\n",
       "<table border=\"1\" class=\"dataframe\">\n",
       "  <thead>\n",
       "    <tr style=\"text-align: right;\">\n",
       "      <th></th>\n",
       "      <th>Vehicle Type</th>\n",
       "      <th>Manufacturer</th>\n",
       "      <th>Owner</th>\n",
       "      <th>Horsepower</th>\n",
       "      <th>Torque (lb-ft)</th>\n",
       "      <th>Fuel Economy (mpg)</th>\n",
       "    </tr>\n",
       "  </thead>\n",
       "  <tbody>\n",
       "    <tr>\n",
       "      <th>0</th>\n",
       "      <td>Car</td>\n",
       "      <td>Ford</td>\n",
       "      <td>Bob</td>\n",
       "      <td>265</td>\n",
       "      <td>270</td>\n",
       "      <td>25</td>\n",
       "    </tr>\n",
       "    <tr>\n",
       "      <th>1</th>\n",
       "      <td>Car</td>\n",
       "      <td>GM</td>\n",
       "      <td>Andrew</td>\n",
       "      <td>190</td>\n",
       "      <td>215</td>\n",
       "      <td>27</td>\n",
       "    </tr>\n",
       "    <tr>\n",
       "      <th>2</th>\n",
       "      <td>SUV</td>\n",
       "      <td>Ford</td>\n",
       "      <td>Sally</td>\n",
       "      <td>240</td>\n",
       "      <td>203</td>\n",
       "      <td>22</td>\n",
       "    </tr>\n",
       "    <tr>\n",
       "      <th>3</th>\n",
       "      <td>Car</td>\n",
       "      <td>Chevy</td>\n",
       "      <td>Amanda</td>\n",
       "      <td>350</td>\n",
       "      <td>350</td>\n",
       "      <td>31</td>\n",
       "    </tr>\n",
       "    <tr>\n",
       "      <th>4</th>\n",
       "      <td>Truck</td>\n",
       "      <td>Ford</td>\n",
       "      <td>Bill</td>\n",
       "      <td>365</td>\n",
       "      <td>415</td>\n",
       "      <td>19</td>\n",
       "    </tr>\n",
       "    <tr>\n",
       "      <th>5</th>\n",
       "      <td>Truck</td>\n",
       "      <td>Chevy</td>\n",
       "      <td>Mike</td>\n",
       "      <td>400</td>\n",
       "      <td>275</td>\n",
       "      <td>17</td>\n",
       "    </tr>\n",
       "    <tr>\n",
       "      <th>6</th>\n",
       "      <td>SUV</td>\n",
       "      <td>GM</td>\n",
       "      <td>Lindsey</td>\n",
       "      <td>275</td>\n",
       "      <td>290</td>\n",
       "      <td>23</td>\n",
       "    </tr>\n",
       "    <tr>\n",
       "      <th>7</th>\n",
       "      <td>Truck</td>\n",
       "      <td>GM</td>\n",
       "      <td>Kristen</td>\n",
       "      <td>300</td>\n",
       "      <td>190</td>\n",
       "      <td>18</td>\n",
       "    </tr>\n",
       "    <tr>\n",
       "      <th>8</th>\n",
       "      <td>Car</td>\n",
       "      <td>Ford</td>\n",
       "      <td>Matt</td>\n",
       "      <td>185</td>\n",
       "      <td>280</td>\n",
       "      <td>27</td>\n",
       "    </tr>\n",
       "    <tr>\n",
       "      <th>9</th>\n",
       "      <td>SUV</td>\n",
       "      <td>Chevy</td>\n",
       "      <td>Anna</td>\n",
       "      <td>280</td>\n",
       "      <td>305</td>\n",
       "      <td>21</td>\n",
       "    </tr>\n",
       "    <tr>\n",
       "      <th>10</th>\n",
       "      <td>SUV</td>\n",
       "      <td>GM</td>\n",
       "      <td>Jon</td>\n",
       "      <td>310</td>\n",
       "      <td>250</td>\n",
       "      <td>19</td>\n",
       "    </tr>\n",
       "    <tr>\n",
       "      <th>11</th>\n",
       "      <td>Truck</td>\n",
       "      <td>Chevy</td>\n",
       "      <td>Erin</td>\n",
       "      <td>240</td>\n",
       "      <td>290</td>\n",
       "      <td>18</td>\n",
       "    </tr>\n",
       "  </tbody>\n",
       "</table>\n",
       "</div>"
      ],
      "text/plain": [
       "   Vehicle Type Manufacturer    Owner  Horsepower  Torque (lb-ft)  \\\n",
       "0           Car         Ford      Bob         265             270   \n",
       "1           Car           GM   Andrew         190             215   \n",
       "2           SUV         Ford    Sally         240             203   \n",
       "3           Car        Chevy   Amanda         350             350   \n",
       "4         Truck         Ford     Bill         365             415   \n",
       "5         Truck        Chevy     Mike         400             275   \n",
       "6           SUV           GM  Lindsey         275             290   \n",
       "7         Truck           GM  Kristen         300             190   \n",
       "8           Car         Ford     Matt         185             280   \n",
       "9           SUV        Chevy     Anna         280             305   \n",
       "10          SUV           GM      Jon         310             250   \n",
       "11        Truck        Chevy     Erin         240             290   \n",
       "\n",
       "    Fuel Economy (mpg)  \n",
       "0                   25  \n",
       "1                   27  \n",
       "2                   22  \n",
       "3                   31  \n",
       "4                   19  \n",
       "5                   17  \n",
       "6                   23  \n",
       "7                   18  \n",
       "8                   27  \n",
       "9                   21  \n",
       "10                  19  \n",
       "11                  18  "
      ]
     },
     "execution_count": 61,
     "metadata": {},
     "output_type": "execute_result"
    }
   ],
   "source": [
    "# First, call vehicles_df to examine it\n",
    "vehicles_df"
   ]
  },
  {
   "cell_type": "code",
   "execution_count": 62,
   "metadata": {},
   "outputs": [
    {
     "data": {
      "text/plain": [
       "0     Decent\n",
       "1       Slow\n",
       "2     Decent\n",
       "3     Decent\n",
       "4       Fast\n",
       "5       Fast\n",
       "6     Decent\n",
       "7     Decent\n",
       "8       Slow\n",
       "9     Decent\n",
       "10    Decent\n",
       "11    Decent\n",
       "Name: Horsepower, dtype: category\n",
       "Categories (3, object): [Slow < Decent < Fast]"
      ]
     },
     "execution_count": 62,
     "metadata": {},
     "output_type": "execute_result"
    }
   ],
   "source": [
    "# Create bins and bin labels for the Horsepower column\n",
    "hp_bins = [180, 200, 350, 400]\n",
    "hp_labels = [\"Slow\", \"Decent\", \"Fast\"]\n",
    "\n",
    "# Bin the Horsepower column\n",
    "# cut() returns a Pandas Series containing each of the binned column's values translated into their corresponding bins\n",
    "pd.cut(vehicles_df[\"Horsepower\"], hp_bins, labels=hp_labels)"
   ]
  },
  {
   "cell_type": "markdown",
   "metadata": {},
   "source": [
    "The syntax for creating the bins may be a bit confusing at first. \n",
    "\n",
    "The first argument passed into `cut()` is the DataFrame column you'd like to bin.\n",
    "\n",
    "The second argument passed into `cut()` is a list that is supposed to represent the bins you'd like to create. In the above lines of code, the list `hp_bins` contains four numbers--these numbers represent our **bin edges**. Therefore, when it's passed into `cut()`, Pandas creates **three bins**: \n",
    "- the first one ranging from **180 to 200**\n",
    "- the second one ranging from **200 to 350** \n",
    "- the third one ranging from **350 to 400**..\n",
    "\n",
    "The third argument passed into `cut()` is a list that contains your bin labels. The list `hp_labels` contains 3 strings. When this list is passed into `cut()`: \n",
    "- the label **`\"Slow\"`** is mapped to the bin ranging from **180 to 200**\n",
    "- the label **`\"Decent\"`** is mapped to the bin ranging from **200 to 350**\n",
    "- the label **`\"Fast\"`** is mapped to the bin ranging from **350 to 400**."
   ]
  },
  {
   "cell_type": "code",
   "execution_count": 63,
   "metadata": {},
   "outputs": [
    {
     "data": {
      "text/html": [
       "<div>\n",
       "<style scoped>\n",
       "    .dataframe tbody tr th:only-of-type {\n",
       "        vertical-align: middle;\n",
       "    }\n",
       "\n",
       "    .dataframe tbody tr th {\n",
       "        vertical-align: top;\n",
       "    }\n",
       "\n",
       "    .dataframe thead th {\n",
       "        text-align: right;\n",
       "    }\n",
       "</style>\n",
       "<table border=\"1\" class=\"dataframe\">\n",
       "  <thead>\n",
       "    <tr style=\"text-align: right;\">\n",
       "      <th></th>\n",
       "      <th>Vehicle Type</th>\n",
       "      <th>Manufacturer</th>\n",
       "      <th>Owner</th>\n",
       "      <th>Horsepower</th>\n",
       "      <th>Torque (lb-ft)</th>\n",
       "      <th>Fuel Economy (mpg)</th>\n",
       "      <th>Speed</th>\n",
       "    </tr>\n",
       "  </thead>\n",
       "  <tbody>\n",
       "    <tr>\n",
       "      <th>0</th>\n",
       "      <td>Car</td>\n",
       "      <td>Ford</td>\n",
       "      <td>Bob</td>\n",
       "      <td>265</td>\n",
       "      <td>270</td>\n",
       "      <td>25</td>\n",
       "      <td>Decent</td>\n",
       "    </tr>\n",
       "    <tr>\n",
       "      <th>1</th>\n",
       "      <td>Car</td>\n",
       "      <td>GM</td>\n",
       "      <td>Andrew</td>\n",
       "      <td>190</td>\n",
       "      <td>215</td>\n",
       "      <td>27</td>\n",
       "      <td>Slow</td>\n",
       "    </tr>\n",
       "    <tr>\n",
       "      <th>2</th>\n",
       "      <td>SUV</td>\n",
       "      <td>Ford</td>\n",
       "      <td>Sally</td>\n",
       "      <td>240</td>\n",
       "      <td>203</td>\n",
       "      <td>22</td>\n",
       "      <td>Decent</td>\n",
       "    </tr>\n",
       "    <tr>\n",
       "      <th>3</th>\n",
       "      <td>Car</td>\n",
       "      <td>Chevy</td>\n",
       "      <td>Amanda</td>\n",
       "      <td>350</td>\n",
       "      <td>350</td>\n",
       "      <td>31</td>\n",
       "      <td>Decent</td>\n",
       "    </tr>\n",
       "    <tr>\n",
       "      <th>4</th>\n",
       "      <td>Truck</td>\n",
       "      <td>Ford</td>\n",
       "      <td>Bill</td>\n",
       "      <td>365</td>\n",
       "      <td>415</td>\n",
       "      <td>19</td>\n",
       "      <td>Fast</td>\n",
       "    </tr>\n",
       "    <tr>\n",
       "      <th>5</th>\n",
       "      <td>Truck</td>\n",
       "      <td>Chevy</td>\n",
       "      <td>Mike</td>\n",
       "      <td>400</td>\n",
       "      <td>275</td>\n",
       "      <td>17</td>\n",
       "      <td>Fast</td>\n",
       "    </tr>\n",
       "    <tr>\n",
       "      <th>6</th>\n",
       "      <td>SUV</td>\n",
       "      <td>GM</td>\n",
       "      <td>Lindsey</td>\n",
       "      <td>275</td>\n",
       "      <td>290</td>\n",
       "      <td>23</td>\n",
       "      <td>Decent</td>\n",
       "    </tr>\n",
       "    <tr>\n",
       "      <th>7</th>\n",
       "      <td>Truck</td>\n",
       "      <td>GM</td>\n",
       "      <td>Kristen</td>\n",
       "      <td>300</td>\n",
       "      <td>190</td>\n",
       "      <td>18</td>\n",
       "      <td>Decent</td>\n",
       "    </tr>\n",
       "    <tr>\n",
       "      <th>8</th>\n",
       "      <td>Car</td>\n",
       "      <td>Ford</td>\n",
       "      <td>Matt</td>\n",
       "      <td>185</td>\n",
       "      <td>280</td>\n",
       "      <td>27</td>\n",
       "      <td>Slow</td>\n",
       "    </tr>\n",
       "    <tr>\n",
       "      <th>9</th>\n",
       "      <td>SUV</td>\n",
       "      <td>Chevy</td>\n",
       "      <td>Anna</td>\n",
       "      <td>280</td>\n",
       "      <td>305</td>\n",
       "      <td>21</td>\n",
       "      <td>Decent</td>\n",
       "    </tr>\n",
       "    <tr>\n",
       "      <th>10</th>\n",
       "      <td>SUV</td>\n",
       "      <td>GM</td>\n",
       "      <td>Jon</td>\n",
       "      <td>310</td>\n",
       "      <td>250</td>\n",
       "      <td>19</td>\n",
       "      <td>Decent</td>\n",
       "    </tr>\n",
       "    <tr>\n",
       "      <th>11</th>\n",
       "      <td>Truck</td>\n",
       "      <td>Chevy</td>\n",
       "      <td>Erin</td>\n",
       "      <td>240</td>\n",
       "      <td>290</td>\n",
       "      <td>18</td>\n",
       "      <td>Decent</td>\n",
       "    </tr>\n",
       "  </tbody>\n",
       "</table>\n",
       "</div>"
      ],
      "text/plain": [
       "   Vehicle Type Manufacturer    Owner  Horsepower  Torque (lb-ft)  \\\n",
       "0           Car         Ford      Bob         265             270   \n",
       "1           Car           GM   Andrew         190             215   \n",
       "2           SUV         Ford    Sally         240             203   \n",
       "3           Car        Chevy   Amanda         350             350   \n",
       "4         Truck         Ford     Bill         365             415   \n",
       "5         Truck        Chevy     Mike         400             275   \n",
       "6           SUV           GM  Lindsey         275             290   \n",
       "7         Truck           GM  Kristen         300             190   \n",
       "8           Car         Ford     Matt         185             280   \n",
       "9           SUV        Chevy     Anna         280             305   \n",
       "10          SUV           GM      Jon         310             250   \n",
       "11        Truck        Chevy     Erin         240             290   \n",
       "\n",
       "    Fuel Economy (mpg)   Speed  \n",
       "0                   25  Decent  \n",
       "1                   27    Slow  \n",
       "2                   22  Decent  \n",
       "3                   31  Decent  \n",
       "4                   19    Fast  \n",
       "5                   17    Fast  \n",
       "6                   23  Decent  \n",
       "7                   18  Decent  \n",
       "8                   27    Slow  \n",
       "9                   21  Decent  \n",
       "10                  19  Decent  \n",
       "11                  18  Decent  "
      ]
     },
     "execution_count": 63,
     "metadata": {},
     "output_type": "execute_result"
    }
   ],
   "source": [
    "# We can append our bins to vehicles_df\n",
    "vehicles_df[\"Speed\"] = pd.cut(vehicles_df[\"Horsepower\"], hp_bins, labels=hp_labels)\n",
    "vehicles_df"
   ]
  },
  {
   "cell_type": "code",
   "execution_count": 64,
   "metadata": {},
   "outputs": [
    {
     "data": {
      "text/html": [
       "<div>\n",
       "<style scoped>\n",
       "    .dataframe tbody tr th:only-of-type {\n",
       "        vertical-align: middle;\n",
       "    }\n",
       "\n",
       "    .dataframe tbody tr th {\n",
       "        vertical-align: top;\n",
       "    }\n",
       "\n",
       "    .dataframe thead th {\n",
       "        text-align: right;\n",
       "    }\n",
       "</style>\n",
       "<table border=\"1\" class=\"dataframe\">\n",
       "  <thead>\n",
       "    <tr style=\"text-align: right;\">\n",
       "      <th></th>\n",
       "      <th>Horsepower</th>\n",
       "      <th>Torque (lb-ft)</th>\n",
       "    </tr>\n",
       "    <tr>\n",
       "      <th>Speed</th>\n",
       "      <th></th>\n",
       "      <th></th>\n",
       "    </tr>\n",
       "  </thead>\n",
       "  <tbody>\n",
       "    <tr>\n",
       "      <th>Slow</th>\n",
       "      <td>187.5</td>\n",
       "      <td>247.5</td>\n",
       "    </tr>\n",
       "    <tr>\n",
       "      <th>Decent</th>\n",
       "      <td>282.5</td>\n",
       "      <td>268.5</td>\n",
       "    </tr>\n",
       "    <tr>\n",
       "      <th>Fast</th>\n",
       "      <td>382.5</td>\n",
       "      <td>345.0</td>\n",
       "    </tr>\n",
       "  </tbody>\n",
       "</table>\n",
       "</div>"
      ],
      "text/plain": [
       "        Horsepower  Torque (lb-ft)\n",
       "Speed                             \n",
       "Slow         187.5           247.5\n",
       "Decent       282.5           268.5\n",
       "Fast         382.5           345.0"
      ]
     },
     "execution_count": 64,
     "metadata": {},
     "output_type": "execute_result"
    }
   ],
   "source": [
    "# Binning adds a new wrinkle to our data, allowing for more vigorous analysis\n",
    "# For example, we can now group by our bins\n",
    "grouped_speed_vehicles_df = vehicles_df.groupby(\"Speed\")\n",
    "grouped_speed_vehicles_df[[\"Horsepower\", \"Torque (lb-ft)\"]].mean()"
   ]
  },
  {
   "cell_type": "markdown",
   "metadata": {},
   "source": [
    "---"
   ]
  },
  {
   "cell_type": "markdown",
   "metadata": {},
   "source": [
    "## <a id='Common_FinTech_Use_Cases_With_Pandas_DataFrames'>Common FinTech Use Cases With Pandas DataFrames</a>\n",
    "\n",
    "Section Breakdown:\n",
    "\n",
    "1. [Reading CSVs](#Reading_CSVs)\n",
    "2. [Returns](#Returns)\n",
    "3. [Data Visualization](#Data_Visualization)\n",
    "4. [Standard Deviation](#Standard_Deviation)\n",
    "5. [Sharpe Ratios](#Sharpe_Ratios)\n",
    "6. [Rolling Statistics](#Rolling_Statistics)\n",
    "7. [Correlation](#Correlation)\n",
    "8. [Beta](#Beta)\n",
    "9. [Portfolio Returns](#Portfolio_Returns)"
   ]
  },
  {
   "cell_type": "markdown",
   "metadata": {},
   "source": [
    "### <a id='Reading_CSVs'>Reading CSVs</a>\n",
    "\n",
    "More often than not, data will need to be read in externally rather than hard-coded within a program. Therefore, it is crucial to understand how to read CSVs into a Pandas DataFrame."
   ]
  },
  {
   "cell_type": "code",
   "execution_count": 65,
   "metadata": {},
   "outputs": [],
   "source": [
    "# Import external library\n",
    "from pathlib import Path\n",
    "\n",
    "# Use the pathlib library to set the Path\n",
    "sp500_csv_path = Path(\"Resources/sp500.csv\")"
   ]
  },
  {
   "cell_type": "code",
   "execution_count": 66,
   "metadata": {},
   "outputs": [
    {
     "data": {
      "text/html": [
       "<div>\n",
       "<style scoped>\n",
       "    .dataframe tbody tr th:only-of-type {\n",
       "        vertical-align: middle;\n",
       "    }\n",
       "\n",
       "    .dataframe tbody tr th {\n",
       "        vertical-align: top;\n",
       "    }\n",
       "\n",
       "    .dataframe thead th {\n",
       "        text-align: right;\n",
       "    }\n",
       "</style>\n",
       "<table border=\"1\" class=\"dataframe\">\n",
       "  <thead>\n",
       "    <tr style=\"text-align: right;\">\n",
       "      <th></th>\n",
       "      <th>0</th>\n",
       "      <th>1</th>\n",
       "    </tr>\n",
       "  </thead>\n",
       "  <tbody>\n",
       "    <tr>\n",
       "      <th>0</th>\n",
       "      <td>Date</td>\n",
       "      <td>Close</td>\n",
       "    </tr>\n",
       "    <tr>\n",
       "      <th>1</th>\n",
       "      <td>5/2/14</td>\n",
       "      <td>1881.140015</td>\n",
       "    </tr>\n",
       "    <tr>\n",
       "      <th>2</th>\n",
       "      <td>5/5/14</td>\n",
       "      <td>1884.660034</td>\n",
       "    </tr>\n",
       "    <tr>\n",
       "      <th>3</th>\n",
       "      <td>5/6/14</td>\n",
       "      <td>1867.719971</td>\n",
       "    </tr>\n",
       "    <tr>\n",
       "      <th>4</th>\n",
       "      <td>5/7/14</td>\n",
       "      <td>1878.209961</td>\n",
       "    </tr>\n",
       "  </tbody>\n",
       "</table>\n",
       "</div>"
      ],
      "text/plain": [
       "        0            1\n",
       "0    Date        Close\n",
       "1  5/2/14  1881.140015\n",
       "2  5/5/14  1884.660034\n",
       "3  5/6/14  1867.719971\n",
       "4  5/7/14  1878.209961"
      ]
     },
     "execution_count": 66,
     "metadata": {},
     "output_type": "execute_result"
    }
   ],
   "source": [
    "# Read CSV without setting a header\n",
    "sp500_df = pd.read_csv(sp500_csv_path, header=None) \n",
    "sp500_df.head()"
   ]
  },
  {
   "cell_type": "code",
   "execution_count": 67,
   "metadata": {},
   "outputs": [
    {
     "data": {
      "text/html": [
       "<div>\n",
       "<style scoped>\n",
       "    .dataframe tbody tr th:only-of-type {\n",
       "        vertical-align: middle;\n",
       "    }\n",
       "\n",
       "    .dataframe tbody tr th {\n",
       "        vertical-align: top;\n",
       "    }\n",
       "\n",
       "    .dataframe thead th {\n",
       "        text-align: right;\n",
       "    }\n",
       "</style>\n",
       "<table border=\"1\" class=\"dataframe\">\n",
       "  <thead>\n",
       "    <tr style=\"text-align: right;\">\n",
       "      <th></th>\n",
       "      <th>Date</th>\n",
       "      <th>Close</th>\n",
       "    </tr>\n",
       "  </thead>\n",
       "  <tbody>\n",
       "    <tr>\n",
       "      <th>0</th>\n",
       "      <td>5/2/14</td>\n",
       "      <td>1881.140015</td>\n",
       "    </tr>\n",
       "    <tr>\n",
       "      <th>1</th>\n",
       "      <td>5/5/14</td>\n",
       "      <td>1884.660034</td>\n",
       "    </tr>\n",
       "    <tr>\n",
       "      <th>2</th>\n",
       "      <td>5/6/14</td>\n",
       "      <td>1867.719971</td>\n",
       "    </tr>\n",
       "    <tr>\n",
       "      <th>3</th>\n",
       "      <td>5/7/14</td>\n",
       "      <td>1878.209961</td>\n",
       "    </tr>\n",
       "    <tr>\n",
       "      <th>4</th>\n",
       "      <td>5/8/14</td>\n",
       "      <td>1875.630005</td>\n",
       "    </tr>\n",
       "  </tbody>\n",
       "</table>\n",
       "</div>"
      ],
      "text/plain": [
       "     Date        Close\n",
       "0  5/2/14  1881.140015\n",
       "1  5/5/14  1884.660034\n",
       "2  5/6/14  1867.719971\n",
       "3  5/7/14  1878.209961\n",
       "4  5/8/14  1875.630005"
      ]
     },
     "execution_count": 67,
     "metadata": {},
     "output_type": "execute_result"
    }
   ],
   "source": [
    "# Read CSV and set the header\n",
    "sp500_df = pd.read_csv(sp500_csv_path) \n",
    "sp500_df.head()"
   ]
  },
  {
   "cell_type": "code",
   "execution_count": 68,
   "metadata": {},
   "outputs": [
    {
     "data": {
      "text/html": [
       "<div>\n",
       "<style scoped>\n",
       "    .dataframe tbody tr th:only-of-type {\n",
       "        vertical-align: middle;\n",
       "    }\n",
       "\n",
       "    .dataframe tbody tr th {\n",
       "        vertical-align: top;\n",
       "    }\n",
       "\n",
       "    .dataframe thead th {\n",
       "        text-align: right;\n",
       "    }\n",
       "</style>\n",
       "<table border=\"1\" class=\"dataframe\">\n",
       "  <thead>\n",
       "    <tr style=\"text-align: right;\">\n",
       "      <th></th>\n",
       "      <th>Close</th>\n",
       "    </tr>\n",
       "    <tr>\n",
       "      <th>Date</th>\n",
       "      <th></th>\n",
       "    </tr>\n",
       "  </thead>\n",
       "  <tbody>\n",
       "    <tr>\n",
       "      <th>2014-05-02</th>\n",
       "      <td>1881.140015</td>\n",
       "    </tr>\n",
       "    <tr>\n",
       "      <th>2014-05-05</th>\n",
       "      <td>1884.660034</td>\n",
       "    </tr>\n",
       "    <tr>\n",
       "      <th>2014-05-06</th>\n",
       "      <td>1867.719971</td>\n",
       "    </tr>\n",
       "    <tr>\n",
       "      <th>2014-05-07</th>\n",
       "      <td>1878.209961</td>\n",
       "    </tr>\n",
       "    <tr>\n",
       "      <th>2014-05-08</th>\n",
       "      <td>1875.630005</td>\n",
       "    </tr>\n",
       "  </tbody>\n",
       "</table>\n",
       "</div>"
      ],
      "text/plain": [
       "                  Close\n",
       "Date                   \n",
       "2014-05-02  1881.140015\n",
       "2014-05-05  1884.660034\n",
       "2014-05-06  1867.719971\n",
       "2014-05-07  1878.209961\n",
       "2014-05-08  1875.630005"
      ]
     },
     "execution_count": 68,
     "metadata": {},
     "output_type": "execute_result"
    }
   ],
   "source": [
    "# Read CSV and set formatted `Date` column as index \n",
    "sp500_df = pd.read_csv(\n",
    "    sp500_csv_path, index_col=\"Date\", infer_datetime_format=True, parse_dates=True\n",
    ")\n",
    "sp500_df.head()"
   ]
  },
  {
   "cell_type": "markdown",
   "metadata": {},
   "source": [
    "### <a id='Returns'>Returns</a>\n",
    "\n",
    "Calculating daily stock returns follows the equation:\n",
    "\n",
    "$r=\\frac{{p_{t}} - {p_{0}}}{p_{0}}$\n",
    "\n",
    "Where $r$ is return on investment, ${p_{t}}$ is the price at time $t$, and ${p_{0}}$ is the initial price"
   ]
  },
  {
   "cell_type": "code",
   "execution_count": 69,
   "metadata": {},
   "outputs": [
    {
     "data": {
      "text/html": [
       "<div>\n",
       "<style scoped>\n",
       "    .dataframe tbody tr th:only-of-type {\n",
       "        vertical-align: middle;\n",
       "    }\n",
       "\n",
       "    .dataframe tbody tr th {\n",
       "        vertical-align: top;\n",
       "    }\n",
       "\n",
       "    .dataframe thead th {\n",
       "        text-align: right;\n",
       "    }\n",
       "</style>\n",
       "<table border=\"1\" class=\"dataframe\">\n",
       "  <thead>\n",
       "    <tr style=\"text-align: right;\">\n",
       "      <th></th>\n",
       "      <th>Close</th>\n",
       "    </tr>\n",
       "    <tr>\n",
       "      <th>Date</th>\n",
       "      <th></th>\n",
       "    </tr>\n",
       "  </thead>\n",
       "  <tbody>\n",
       "    <tr>\n",
       "      <th>2014-05-02</th>\n",
       "      <td>NaN</td>\n",
       "    </tr>\n",
       "    <tr>\n",
       "      <th>2014-05-05</th>\n",
       "      <td>0.001871</td>\n",
       "    </tr>\n",
       "    <tr>\n",
       "      <th>2014-05-06</th>\n",
       "      <td>-0.008988</td>\n",
       "    </tr>\n",
       "    <tr>\n",
       "      <th>2014-05-07</th>\n",
       "      <td>0.005616</td>\n",
       "    </tr>\n",
       "    <tr>\n",
       "      <th>2014-05-08</th>\n",
       "      <td>-0.001374</td>\n",
       "    </tr>\n",
       "  </tbody>\n",
       "</table>\n",
       "</div>"
      ],
      "text/plain": [
       "               Close\n",
       "Date                \n",
       "2014-05-02       NaN\n",
       "2014-05-05  0.001871\n",
       "2014-05-06 -0.008988\n",
       "2014-05-07  0.005616\n",
       "2014-05-08 -0.001374"
      ]
     },
     "execution_count": 69,
     "metadata": {},
     "output_type": "execute_result"
    }
   ],
   "source": [
    "# The `pct_change` function easily calculates daily returns for a DataFrame\n",
    "sp500_daily_returns = sp500_df.pct_change()\n",
    "sp500_daily_returns.head()"
   ]
  },
  {
   "cell_type": "code",
   "execution_count": 70,
   "metadata": {},
   "outputs": [
    {
     "data": {
      "text/html": [
       "<div>\n",
       "<style scoped>\n",
       "    .dataframe tbody tr th:only-of-type {\n",
       "        vertical-align: middle;\n",
       "    }\n",
       "\n",
       "    .dataframe tbody tr th {\n",
       "        vertical-align: top;\n",
       "    }\n",
       "\n",
       "    .dataframe thead th {\n",
       "        text-align: right;\n",
       "    }\n",
       "</style>\n",
       "<table border=\"1\" class=\"dataframe\">\n",
       "  <thead>\n",
       "    <tr style=\"text-align: right;\">\n",
       "      <th></th>\n",
       "      <th>Close</th>\n",
       "    </tr>\n",
       "    <tr>\n",
       "      <th>Date</th>\n",
       "      <th></th>\n",
       "    </tr>\n",
       "  </thead>\n",
       "  <tbody>\n",
       "    <tr>\n",
       "      <th>2014-05-02</th>\n",
       "      <td>NaN</td>\n",
       "    </tr>\n",
       "    <tr>\n",
       "      <th>2014-05-05</th>\n",
       "      <td>1.001871</td>\n",
       "    </tr>\n",
       "    <tr>\n",
       "      <th>2014-05-06</th>\n",
       "      <td>0.992866</td>\n",
       "    </tr>\n",
       "    <tr>\n",
       "      <th>2014-05-07</th>\n",
       "      <td>0.998442</td>\n",
       "    </tr>\n",
       "    <tr>\n",
       "      <th>2014-05-08</th>\n",
       "      <td>0.997071</td>\n",
       "    </tr>\n",
       "  </tbody>\n",
       "</table>\n",
       "</div>"
      ],
      "text/plain": [
       "               Close\n",
       "Date                \n",
       "2014-05-02       NaN\n",
       "2014-05-05  1.001871\n",
       "2014-05-06  0.992866\n",
       "2014-05-07  0.998442\n",
       "2014-05-08  0.997071"
      ]
     },
     "execution_count": 70,
     "metadata": {},
     "output_type": "execute_result"
    }
   ],
   "source": [
    "# The `cum_prod` function cumulatively multiplies each preceding number by the next until the end of the series of data points\n",
    "sp500_cumulative_returns = (1 + sp500_daily_returns).cumprod()\n",
    "sp500_cumulative_returns.head()"
   ]
  },
  {
   "cell_type": "markdown",
   "metadata": {},
   "source": [
    "### <a id='Data_Visualization'>Data Visualization</a>\n",
    "\n",
    "Visualize data residing in Pandas DataFrames"
   ]
  },
  {
   "cell_type": "code",
   "execution_count": 71,
   "metadata": {},
   "outputs": [],
   "source": [
    "# Enable the Matplotlib property to allow diagrams to display in Jupyter Notebook\n",
    "%matplotlib inline"
   ]
  },
  {
   "cell_type": "code",
   "execution_count": 72,
   "metadata": {},
   "outputs": [
    {
     "data": {
      "text/plain": [
       "<matplotlib.axes._subplots.AxesSubplot at 0xbb83fb0>"
      ]
     },
     "execution_count": 72,
     "metadata": {},
     "output_type": "execute_result"
    },
    {
     "data": {
      "image/png": "[encoded data removed]",
      "text/plain": [
       "<Figure size 720x360 with 1 Axes>"
      ]
     },
     "metadata": {
      "needs_background": "light"
     },
     "output_type": "display_data"
    }
   ],
   "source": [
    "# Plot the S&P 500 daily returns and set the figure size\n",
    "sp500_daily_returns.plot(figsize=(10, 5))"
   ]
  },
  {
   "cell_type": "code",
   "execution_count": 73,
   "metadata": {},
   "outputs": [
    {
     "data": {
      "text/plain": [
       "<matplotlib.axes._subplots.AxesSubplot at 0xcc2f550>"
      ]
     },
     "execution_count": 73,
     "metadata": {},
     "output_type": "execute_result"
    },
    {
     "data": {
      "image/png": "[encoded data removed]",
      "text/plain": [
       "<Figure size 432x288 with 1 Axes>"
      ]
     },
     "metadata": {
      "needs_background": "light"
     },
     "output_type": "display_data"
    }
   ],
   "source": [
    "# Plot the S&P 500 cumulative returns\n",
    "sp500_cumulative_returns.plot()"
   ]
  },
  {
   "cell_type": "markdown",
   "metadata": {},
   "source": [
    "### <a id='Standard_Deviation'>Standard Deviation</a>"
   ]
  },
  {
   "cell_type": "code",
   "execution_count": 74,
   "metadata": {},
   "outputs": [
    {
     "data": {
      "text/plain": [
       "Close    0.008346\n",
       "dtype: float64"
      ]
     },
     "execution_count": 74,
     "metadata": {},
     "output_type": "execute_result"
    }
   ],
   "source": [
    "# Daily Standard Deviations\n",
    "sp500_daily_std = sp500_daily_returns.std()\n",
    "sp500_daily_std.head()"
   ]
  },
  {
   "cell_type": "code",
   "execution_count": 75,
   "metadata": {},
   "outputs": [
    {
     "data": {
      "text/plain": [
       "Close    0.132483\n",
       "dtype: float64"
      ]
     },
     "execution_count": 75,
     "metadata": {},
     "output_type": "execute_result"
    }
   ],
   "source": [
    "# Calculate the annualized standard deviation (252 trading days)\n",
    "sp500_annualized_std = sp500_daily_std * np.sqrt(252)\n",
    "sp500_annualized_std.head()"
   ]
  },
  {
   "cell_type": "markdown",
   "metadata": {},
   "source": [
    "### <a id='Sharpe_Ratios'>Sharpe Ratios</a>"
   ]
  },
  {
   "cell_type": "code",
   "execution_count": 76,
   "metadata": {},
   "outputs": [
    {
     "data": {
      "text/plain": [
       "Close    0.733741\n",
       "dtype: float64"
      ]
     },
     "execution_count": 76,
     "metadata": {},
     "output_type": "execute_result"
    }
   ],
   "source": [
    "# Calculate the annualized sharpe ratio\n",
    "sp500_sharpe_ratio = (\n",
    "    sp500_daily_returns.mean() * 252 / (sp500_daily_returns.std() * np.sqrt(252))\n",
    ")\n",
    "\n",
    "sp500_sharpe_ratio"
   ]
  },
  {
   "cell_type": "markdown",
   "metadata": {},
   "source": [
    "### <a id='Rolling_Statistics'>Rolling Statistics</a>"
   ]
  },
  {
   "cell_type": "code",
   "execution_count": 77,
   "metadata": {},
   "outputs": [
    {
     "data": {
      "text/plain": [
       "<matplotlib.axes._subplots.AxesSubplot at 0xcc5fc10>"
      ]
     },
     "execution_count": 77,
     "metadata": {},
     "output_type": "execute_result"
    },
    {
     "data": {
      "image/png": "[encoded data removed]",
      "text/plain": [
       "<Figure size 432x288 with 1 Axes>"
      ]
     },
     "metadata": {
      "needs_background": "light"
     },
     "output_type": "display_data"
    }
   ],
   "source": [
    "# Calculate the rolling 180-day rolling mean or moving average\n",
    "sp500_df.rolling(window=180).mean().plot()"
   ]
  },
  {
   "cell_type": "code",
   "execution_count": 78,
   "metadata": {},
   "outputs": [
    {
     "data": {
      "text/plain": [
       "<matplotlib.axes._subplots.AxesSubplot at 0xccb3e50>"
      ]
     },
     "execution_count": 78,
     "metadata": {},
     "output_type": "execute_result"
    },
    {
     "data": {
      "image/png": "[encoded data removed]",
      "text/plain": [
       "<Figure size 432x288 with 1 Axes>"
      ]
     },
     "metadata": {
      "needs_background": "light"
     },
     "output_type": "display_data"
    }
   ],
   "source": [
    "# Calculate the rolling 180-day rolling standard deviation\n",
    "sp500_df.rolling(window=180).std().plot()"
   ]
  },
  {
   "cell_type": "code",
   "execution_count": 79,
   "metadata": {},
   "outputs": [
    {
     "data": {
      "image/png": "[encoded data removed]",
      "text/plain": [
       "<Figure size 432x288 with 1 Axes>"
      ]
     },
     "metadata": {
      "needs_background": "light"
     },
     "output_type": "display_data"
    }
   ],
   "source": [
    "# Set figure of the daily closing prices of Tesla\n",
    "ax = sp500_df.plot()\n",
    "\n",
    "# Plot 180-Day Rolling Mean on the same figure\n",
    "sp500_df.rolling(window=180).mean().plot(ax=ax)\n",
    "\n",
    "# Set the legend of the figure\n",
    "ax.legend([\"SP500\", \"SP500 30 Day Mean\"]);"
   ]
  },
  {
   "cell_type": "markdown",
   "metadata": {},
   "source": [
    "### <a id='Correlation'>Correlation</a>"
   ]
  },
  {
   "cell_type": "code",
   "execution_count": 80,
   "metadata": {},
   "outputs": [
    {
     "data": {
      "text/html": [
       "<div>\n",
       "<style scoped>\n",
       "    .dataframe tbody tr th:only-of-type {\n",
       "        vertical-align: middle;\n",
       "    }\n",
       "\n",
       "    .dataframe tbody tr th {\n",
       "        vertical-align: top;\n",
       "    }\n",
       "\n",
       "    .dataframe thead th {\n",
       "        text-align: right;\n",
       "    }\n",
       "</style>\n",
       "<table border=\"1\" class=\"dataframe\">\n",
       "  <thead>\n",
       "    <tr style=\"text-align: right;\">\n",
       "      <th></th>\n",
       "      <th>AMD</th>\n",
       "      <th>SP500</th>\n",
       "    </tr>\n",
       "    <tr>\n",
       "      <th>Date</th>\n",
       "      <th></th>\n",
       "      <th></th>\n",
       "    </tr>\n",
       "  </thead>\n",
       "  <tbody>\n",
       "    <tr>\n",
       "      <th>2014-05-02</th>\n",
       "      <td>4.12</td>\n",
       "      <td>1881.140015</td>\n",
       "    </tr>\n",
       "    <tr>\n",
       "      <th>2014-05-05</th>\n",
       "      <td>4.09</td>\n",
       "      <td>1884.660034</td>\n",
       "    </tr>\n",
       "    <tr>\n",
       "      <th>2014-05-06</th>\n",
       "      <td>4.01</td>\n",
       "      <td>1867.719971</td>\n",
       "    </tr>\n",
       "    <tr>\n",
       "      <th>2014-05-07</th>\n",
       "      <td>3.97</td>\n",
       "      <td>1878.209961</td>\n",
       "    </tr>\n",
       "    <tr>\n",
       "      <th>2014-05-08</th>\n",
       "      <td>3.93</td>\n",
       "      <td>1875.630005</td>\n",
       "    </tr>\n",
       "  </tbody>\n",
       "</table>\n",
       "</div>"
      ],
      "text/plain": [
       "             AMD        SP500\n",
       "Date                         \n",
       "2014-05-02  4.12  1881.140015\n",
       "2014-05-05  4.09  1884.660034\n",
       "2014-05-06  4.01  1867.719971\n",
       "2014-05-07  3.97  1878.209961\n",
       "2014-05-08  3.93  1875.630005"
      ]
     },
     "execution_count": 80,
     "metadata": {},
     "output_type": "execute_result"
    }
   ],
   "source": [
    "# Read in another CSV\n",
    "amd_csv_path = Path(\"Resources/amd.csv\") \n",
    "amd_df = pd.read_csv(\n",
    "    amd_csv_path, index_col=\"Date\", infer_datetime_format=True, parse_dates=True\n",
    ")\n",
    "\n",
    "# Use the `concat` function to combine the two DataFrames by matching indexes (or in this case `Month`)\n",
    "combined_df = pd.concat([amd_df, sp500_df], axis=\"columns\", join=\"inner\")\n",
    "\n",
    "# Rename columns\n",
    "combined_df.columns = ['AMD', 'SP500']\n",
    "combined_df.head()"
   ]
  },
  {
   "cell_type": "code",
   "execution_count": 81,
   "metadata": {},
   "outputs": [],
   "source": [
    "# Use the `corr` function to calculate correlations\n",
    "correlation = combined_df.corr()"
   ]
  },
  {
   "cell_type": "code",
   "execution_count": 82,
   "metadata": {},
   "outputs": [
    {
     "data": {
      "text/plain": [
       "<matplotlib.axes._subplots.AxesSubplot at 0xed127b0>"
      ]
     },
     "execution_count": 82,
     "metadata": {},
     "output_type": "execute_result"
    },
    {
     "data": {
      "image/png": "[encoded data removed]",
      "text/plain": [
       "<Figure size 432x288 with 2 Axes>"
      ]
     },
     "metadata": {
      "needs_background": "light"
     },
     "output_type": "display_data"
    }
   ],
   "source": [
    "# Import the Seaborn library\n",
    "import seaborn as sns\n",
    "\n",
    "# Use the `heatmap` function from the Seaborn library to visualize correlations\n",
    "sns.heatmap(correlation, vmin=-1, vmax=1)"
   ]
  },
  {
   "cell_type": "markdown",
   "metadata": {},
   "source": [
    "### <a id='Beta'>Beta</a>"
   ]
  },
  {
   "cell_type": "code",
   "execution_count": 83,
   "metadata": {},
   "outputs": [
    {
     "data": {
      "text/html": [
       "<div>\n",
       "<style scoped>\n",
       "    .dataframe tbody tr th:only-of-type {\n",
       "        vertical-align: middle;\n",
       "    }\n",
       "\n",
       "    .dataframe tbody tr th {\n",
       "        vertical-align: top;\n",
       "    }\n",
       "\n",
       "    .dataframe thead th {\n",
       "        text-align: right;\n",
       "    }\n",
       "</style>\n",
       "<table border=\"1\" class=\"dataframe\">\n",
       "  <thead>\n",
       "    <tr style=\"text-align: right;\">\n",
       "      <th></th>\n",
       "      <th>AMD</th>\n",
       "      <th>SP500</th>\n",
       "    </tr>\n",
       "    <tr>\n",
       "      <th>Date</th>\n",
       "      <th></th>\n",
       "      <th></th>\n",
       "    </tr>\n",
       "  </thead>\n",
       "  <tbody>\n",
       "    <tr>\n",
       "      <th>2014-05-02</th>\n",
       "      <td>NaN</td>\n",
       "      <td>NaN</td>\n",
       "    </tr>\n",
       "    <tr>\n",
       "      <th>2014-05-05</th>\n",
       "      <td>-0.007282</td>\n",
       "      <td>0.001871</td>\n",
       "    </tr>\n",
       "    <tr>\n",
       "      <th>2014-05-06</th>\n",
       "      <td>-0.019560</td>\n",
       "      <td>-0.008988</td>\n",
       "    </tr>\n",
       "    <tr>\n",
       "      <th>2014-05-07</th>\n",
       "      <td>-0.009975</td>\n",
       "      <td>0.005616</td>\n",
       "    </tr>\n",
       "    <tr>\n",
       "      <th>2014-05-08</th>\n",
       "      <td>-0.010076</td>\n",
       "      <td>-0.001374</td>\n",
       "    </tr>\n",
       "  </tbody>\n",
       "</table>\n",
       "</div>"
      ],
      "text/plain": [
       "                 AMD     SP500\n",
       "Date                          \n",
       "2014-05-02       NaN       NaN\n",
       "2014-05-05 -0.007282  0.001871\n",
       "2014-05-06 -0.019560 -0.008988\n",
       "2014-05-07 -0.009975  0.005616\n",
       "2014-05-08 -0.010076 -0.001374"
      ]
     },
     "execution_count": 83,
     "metadata": {},
     "output_type": "execute_result"
    }
   ],
   "source": [
    "# Use the `pct_change` function to calculate daily returns of closing prices for each column\n",
    "combined_daily_returns = combined_df.pct_change()\n",
    "combined_daily_returns.head()"
   ]
  },
  {
   "cell_type": "code",
   "execution_count": 84,
   "metadata": {},
   "outputs": [
    {
     "data": {
      "text/plain": [
       "0.00011967502859726322"
      ]
     },
     "execution_count": 84,
     "metadata": {},
     "output_type": "execute_result"
    }
   ],
   "source": [
    "# Calculate covariance of all daily returns of AMD vs. S&P 500\n",
    "covariance = combined_daily_returns['AMD'].cov(combined_daily_returns['SP500'])\n",
    "covariance"
   ]
  },
  {
   "cell_type": "code",
   "execution_count": 85,
   "metadata": {},
   "outputs": [
    {
     "data": {
      "text/plain": [
       "6.965026462153664e-05"
      ]
     },
     "execution_count": 85,
     "metadata": {},
     "output_type": "execute_result"
    }
   ],
   "source": [
    "# Calculate variance of all daily returns of AMD vs. S&P 500\n",
    "variance = combined_daily_returns['SP500'].var()\n",
    "variance"
   ]
  },
  {
   "cell_type": "code",
   "execution_count": 86,
   "metadata": {},
   "outputs": [
    {
     "data": {
      "text/plain": [
       "1.7182279097940192"
      ]
     },
     "execution_count": 86,
     "metadata": {},
     "output_type": "execute_result"
    }
   ],
   "source": [
    "# Calculate beta of all daily returns of AMD\n",
    "amd_beta = covariance / variance\n",
    "amd_beta"
   ]
  },
  {
   "cell_type": "markdown",
   "metadata": {},
   "source": [
    "### <a id='Portfolio_Returns'>Portfolio Returns</a>"
   ]
  },
  {
   "cell_type": "code",
   "execution_count": 87,
   "metadata": {},
   "outputs": [
    {
     "data": {
      "text/plain": [
       "Date\n",
       "2014-05-02         NaN\n",
       "2014-05-05   -0.002705\n",
       "2014-05-06   -0.014274\n",
       "2014-05-07   -0.002179\n",
       "2014-05-08   -0.005725\n",
       "dtype: float64"
      ]
     },
     "execution_count": 87,
     "metadata": {},
     "output_type": "execute_result"
    }
   ],
   "source": [
    "# Calculate Portfolio Returns with an equal amount of each stock\n",
    "weights = [0.5, 0.5]\n",
    "\n",
    "portfolio_returns = combined_daily_returns.dot(weights)\n",
    "portfolio_returns.head()"
   ]
  },
  {
   "cell_type": "code",
   "execution_count": 88,
   "metadata": {},
   "outputs": [
    {
     "data": {
      "text/plain": [
       "<matplotlib.axes._subplots.AxesSubplot at 0xed9be50>"
      ]
     },
     "execution_count": 88,
     "metadata": {},
     "output_type": "execute_result"
    },
    {
     "data": {
      "image/png": "[encoded data removed]",
      "text/plain": [
       "<Figure size 432x288 with 1 Axes>"
      ]
     },
     "metadata": {
      "needs_background": "light"
     },
     "output_type": "display_data"
    }
   ],
   "source": [
    "# Use the `plot` function to visualize daily portfolio returns\n",
    "portfolio_returns.plot()"
   ]
  },
  {
   "cell_type": "code",
   "execution_count": 89,
   "metadata": {},
   "outputs": [
    {
     "data": {
      "text/plain": [
       "Date\n",
       "2014-05-02         NaN\n",
       "2014-05-05   -0.002705\n",
       "2014-05-06   -0.016941\n",
       "2014-05-07   -0.019083\n",
       "2014-05-08   -0.024698\n",
       "dtype: float64"
      ]
     },
     "execution_count": 89,
     "metadata": {},
     "output_type": "execute_result"
    }
   ],
   "source": [
    "# Use the `cumprod` function to generate cumulative portfolio returns from daily portfolio returns\n",
    "cumulative_portfolio_returns = (1 + portfolio_returns).cumprod() - 1\n",
    "cumulative_portfolio_returns.head()"
   ]
  },
  {
   "cell_type": "code",
   "execution_count": 90,
   "metadata": {},
   "outputs": [
    {
     "data": {
      "text/plain": [
       "<matplotlib.axes._subplots.AxesSubplot at 0xedea2f0>"
      ]
     },
     "execution_count": 90,
     "metadata": {},
     "output_type": "execute_result"
    },
    {
     "data": {
      "image/png": "[encoded data removed]",
      "text/plain": [
       "<Figure size 432x288 with 1 Axes>"
      ]
     },
     "metadata": {
      "needs_background": "light"
     },
     "output_type": "display_data"
    }
   ],
   "source": [
    "# Use the `plot` function to visualize daily portfolio returns\n",
    "cumulative_portfolio_returns.plot()"
   ]
  }
 ],
 "metadata": {
  "kernelspec": {
   "display_name": "Python 3",
   "language": "python",
   "name": "python3"
  },
  "language_info": {
   "codemirror_mode": {
    "name": "ipython",
    "version": 3
   },
   "file_extension": ".py",
   "mimetype": "text/x-python",
   "name": "python",
   "nbconvert_exporter": "python",
   "pygments_lexer": "ipython3",
   "version": "3.7.3"
  }
 },
 "nbformat": 4,
 "nbformat_minor": 4
}
